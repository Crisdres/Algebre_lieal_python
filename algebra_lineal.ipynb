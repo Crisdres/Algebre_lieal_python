{
 "cells": [
  {
   "cell_type": "code",
   "execution_count": 1,
   "id": "be94b4b0-6a22-4783-85a9-cdad07f083ba",
   "metadata": {
    "tags": []
   },
   "outputs": [],
   "source": [
    "from librerias import *\n",
    "from funciones import *"
   ]
  },
  {
   "cell_type": "code",
   "execution_count": 2,
   "id": "f2b63036-04b7-427e-8da8-807ab4be532e",
   "metadata": {
    "tags": []
   },
   "outputs": [],
   "source": [
    "class vector():\n",
    "    def __init__(self,x,y,i=1,j=1):\n",
    "        self.vector      = np.array([x,y])\n",
    "        self.vector_base = np.array([i,j])\n",
    "        self.fig = crear_figura(self.vector, self.vector_base)\n",
    "        self.vector_i = np.array([1,0])\n",
    "        self.vector_j = np.array([0,1])\n",
    "        \n",
    "        \n",
    "    def __add__(self, otro_objeto):\n",
    "        if isinstance(otro_objeto, vector):\n",
    "            fig_suma = crear_figura_suma(self.vector, otro_objeto,self.vector_base)\n",
    "            fig_suma.show()\n",
    "            lista_other   = list(self.vector + otro_objeto.vector)\n",
    "            return vector(lista_other[0],lista_other[1])\n",
    "        else:\n",
    "            raise TypeError(\"No se puede sumar con un objeto de otra clase\")\n",
    "            \n",
    "    def __mul__(self, otro_objeto):\n",
    "        if isinstance(otro_objeto, (int, float)):\n",
    "            lista_other = list(self.vector * otro_objeto)\n",
    "            return vector(lista_other[0],lista_other[1])\n",
    "        else:\n",
    "            raise TypeError(\"No se puede multiplicar con un objeto de otra clase\") \n",
    "            \n",
    "    def mostrar(self):\n",
    "        self.fig.show()\n",
    "        \n",
    "    def subespacio(self, otro_objeto):\n",
    "        if np.all(np.cross(self.vector, otro_objeto.vector) == 0):\n",
    "            fig_em = espacio_muestral()\n",
    "            fig_em.show()\n",
    "            print(\"Espacio limitado, dado que existe colinealidad entre los vectores\")            \n",
    "            \n",
    "        else:\n",
    "            fig_em = espacio_muestral(\"global\")\n",
    "            fig_em.show()\n",
    "            print(\"Todo el plano, dado que no existe colinealidad entre los vectores\")\n",
    "            \n",
    "    def transformación_lineal(self,vec_i = [1,0], vec_j = [0,1]):\n",
    "        fig_inicial = transformacion_lineal(vec_i, vec_j )\n",
    "        fig_inicial.show()\n",
    "        \n",
    "        \n",
    "        \n",
    "        \n",
    "        \n",
    "        "
   ]
  },
  {
   "cell_type": "code",
   "execution_count": 28,
   "id": "caffa3a7-255e-4a80-8fef-72c9842aa06e",
   "metadata": {
    "tags": []
   },
   "outputs": [
    {
     "name": "stdout",
     "output_type": "stream",
     "text": [
      "Cordenadas.. [1 7]\n"
     ]
    },
    {
     "data": {
      "application/vnd.plotly.v1+json": {
       "config": {
        "plotlyServerURL": "https://plot.ly"
       },
       "data": [
        {
         "mode": "markers+lines",
         "type": "scatter",
         "x": [
          0,
          1
         ],
         "y": [
          0,
          7
         ]
        }
       ],
       "layout": {
        "height": 600,
        "showlegend": false,
        "template": {
         "data": {
          "bar": [
           {
            "error_x": {
             "color": "#2a3f5f"
            },
            "error_y": {
             "color": "#2a3f5f"
            },
            "marker": {
             "line": {
              "color": "#E5ECF6",
              "width": 0.5
             },
             "pattern": {
              "fillmode": "overlay",
              "size": 10,
              "solidity": 0.2
             }
            },
            "type": "bar"
           }
          ],
          "barpolar": [
           {
            "marker": {
             "line": {
              "color": "#E5ECF6",
              "width": 0.5
             },
             "pattern": {
              "fillmode": "overlay",
              "size": 10,
              "solidity": 0.2
             }
            },
            "type": "barpolar"
           }
          ],
          "carpet": [
           {
            "aaxis": {
             "endlinecolor": "#2a3f5f",
             "gridcolor": "white",
             "linecolor": "white",
             "minorgridcolor": "white",
             "startlinecolor": "#2a3f5f"
            },
            "baxis": {
             "endlinecolor": "#2a3f5f",
             "gridcolor": "white",
             "linecolor": "white",
             "minorgridcolor": "white",
             "startlinecolor": "#2a3f5f"
            },
            "type": "carpet"
           }
          ],
          "choropleth": [
           {
            "colorbar": {
             "outlinewidth": 0,
             "ticks": ""
            },
            "type": "choropleth"
           }
          ],
          "contour": [
           {
            "colorbar": {
             "outlinewidth": 0,
             "ticks": ""
            },
            "colorscale": [
             [
              0,
              "#0d0887"
             ],
             [
              0.1111111111111111,
              "#46039f"
             ],
             [
              0.2222222222222222,
              "#7201a8"
             ],
             [
              0.3333333333333333,
              "#9c179e"
             ],
             [
              0.4444444444444444,
              "#bd3786"
             ],
             [
              0.5555555555555556,
              "#d8576b"
             ],
             [
              0.6666666666666666,
              "#ed7953"
             ],
             [
              0.7777777777777778,
              "#fb9f3a"
             ],
             [
              0.8888888888888888,
              "#fdca26"
             ],
             [
              1,
              "#f0f921"
             ]
            ],
            "type": "contour"
           }
          ],
          "contourcarpet": [
           {
            "colorbar": {
             "outlinewidth": 0,
             "ticks": ""
            },
            "type": "contourcarpet"
           }
          ],
          "heatmap": [
           {
            "colorbar": {
             "outlinewidth": 0,
             "ticks": ""
            },
            "colorscale": [
             [
              0,
              "#0d0887"
             ],
             [
              0.1111111111111111,
              "#46039f"
             ],
             [
              0.2222222222222222,
              "#7201a8"
             ],
             [
              0.3333333333333333,
              "#9c179e"
             ],
             [
              0.4444444444444444,
              "#bd3786"
             ],
             [
              0.5555555555555556,
              "#d8576b"
             ],
             [
              0.6666666666666666,
              "#ed7953"
             ],
             [
              0.7777777777777778,
              "#fb9f3a"
             ],
             [
              0.8888888888888888,
              "#fdca26"
             ],
             [
              1,
              "#f0f921"
             ]
            ],
            "type": "heatmap"
           }
          ],
          "heatmapgl": [
           {
            "colorbar": {
             "outlinewidth": 0,
             "ticks": ""
            },
            "colorscale": [
             [
              0,
              "#0d0887"
             ],
             [
              0.1111111111111111,
              "#46039f"
             ],
             [
              0.2222222222222222,
              "#7201a8"
             ],
             [
              0.3333333333333333,
              "#9c179e"
             ],
             [
              0.4444444444444444,
              "#bd3786"
             ],
             [
              0.5555555555555556,
              "#d8576b"
             ],
             [
              0.6666666666666666,
              "#ed7953"
             ],
             [
              0.7777777777777778,
              "#fb9f3a"
             ],
             [
              0.8888888888888888,
              "#fdca26"
             ],
             [
              1,
              "#f0f921"
             ]
            ],
            "type": "heatmapgl"
           }
          ],
          "histogram": [
           {
            "marker": {
             "pattern": {
              "fillmode": "overlay",
              "size": 10,
              "solidity": 0.2
             }
            },
            "type": "histogram"
           }
          ],
          "histogram2d": [
           {
            "colorbar": {
             "outlinewidth": 0,
             "ticks": ""
            },
            "colorscale": [
             [
              0,
              "#0d0887"
             ],
             [
              0.1111111111111111,
              "#46039f"
             ],
             [
              0.2222222222222222,
              "#7201a8"
             ],
             [
              0.3333333333333333,
              "#9c179e"
             ],
             [
              0.4444444444444444,
              "#bd3786"
             ],
             [
              0.5555555555555556,
              "#d8576b"
             ],
             [
              0.6666666666666666,
              "#ed7953"
             ],
             [
              0.7777777777777778,
              "#fb9f3a"
             ],
             [
              0.8888888888888888,
              "#fdca26"
             ],
             [
              1,
              "#f0f921"
             ]
            ],
            "type": "histogram2d"
           }
          ],
          "histogram2dcontour": [
           {
            "colorbar": {
             "outlinewidth": 0,
             "ticks": ""
            },
            "colorscale": [
             [
              0,
              "#0d0887"
             ],
             [
              0.1111111111111111,
              "#46039f"
             ],
             [
              0.2222222222222222,
              "#7201a8"
             ],
             [
              0.3333333333333333,
              "#9c179e"
             ],
             [
              0.4444444444444444,
              "#bd3786"
             ],
             [
              0.5555555555555556,
              "#d8576b"
             ],
             [
              0.6666666666666666,
              "#ed7953"
             ],
             [
              0.7777777777777778,
              "#fb9f3a"
             ],
             [
              0.8888888888888888,
              "#fdca26"
             ],
             [
              1,
              "#f0f921"
             ]
            ],
            "type": "histogram2dcontour"
           }
          ],
          "mesh3d": [
           {
            "colorbar": {
             "outlinewidth": 0,
             "ticks": ""
            },
            "type": "mesh3d"
           }
          ],
          "parcoords": [
           {
            "line": {
             "colorbar": {
              "outlinewidth": 0,
              "ticks": ""
             }
            },
            "type": "parcoords"
           }
          ],
          "pie": [
           {
            "automargin": true,
            "type": "pie"
           }
          ],
          "scatter": [
           {
            "fillpattern": {
             "fillmode": "overlay",
             "size": 10,
             "solidity": 0.2
            },
            "type": "scatter"
           }
          ],
          "scatter3d": [
           {
            "line": {
             "colorbar": {
              "outlinewidth": 0,
              "ticks": ""
             }
            },
            "marker": {
             "colorbar": {
              "outlinewidth": 0,
              "ticks": ""
             }
            },
            "type": "scatter3d"
           }
          ],
          "scattercarpet": [
           {
            "marker": {
             "colorbar": {
              "outlinewidth": 0,
              "ticks": ""
             }
            },
            "type": "scattercarpet"
           }
          ],
          "scattergeo": [
           {
            "marker": {
             "colorbar": {
              "outlinewidth": 0,
              "ticks": ""
             }
            },
            "type": "scattergeo"
           }
          ],
          "scattergl": [
           {
            "marker": {
             "colorbar": {
              "outlinewidth": 0,
              "ticks": ""
             }
            },
            "type": "scattergl"
           }
          ],
          "scattermapbox": [
           {
            "marker": {
             "colorbar": {
              "outlinewidth": 0,
              "ticks": ""
             }
            },
            "type": "scattermapbox"
           }
          ],
          "scatterpolar": [
           {
            "marker": {
             "colorbar": {
              "outlinewidth": 0,
              "ticks": ""
             }
            },
            "type": "scatterpolar"
           }
          ],
          "scatterpolargl": [
           {
            "marker": {
             "colorbar": {
              "outlinewidth": 0,
              "ticks": ""
             }
            },
            "type": "scatterpolargl"
           }
          ],
          "scatterternary": [
           {
            "marker": {
             "colorbar": {
              "outlinewidth": 0,
              "ticks": ""
             }
            },
            "type": "scatterternary"
           }
          ],
          "surface": [
           {
            "colorbar": {
             "outlinewidth": 0,
             "ticks": ""
            },
            "colorscale": [
             [
              0,
              "#0d0887"
             ],
             [
              0.1111111111111111,
              "#46039f"
             ],
             [
              0.2222222222222222,
              "#7201a8"
             ],
             [
              0.3333333333333333,
              "#9c179e"
             ],
             [
              0.4444444444444444,
              "#bd3786"
             ],
             [
              0.5555555555555556,
              "#d8576b"
             ],
             [
              0.6666666666666666,
              "#ed7953"
             ],
             [
              0.7777777777777778,
              "#fb9f3a"
             ],
             [
              0.8888888888888888,
              "#fdca26"
             ],
             [
              1,
              "#f0f921"
             ]
            ],
            "type": "surface"
           }
          ],
          "table": [
           {
            "cells": {
             "fill": {
              "color": "#EBF0F8"
             },
             "line": {
              "color": "white"
             }
            },
            "header": {
             "fill": {
              "color": "#C8D4E3"
             },
             "line": {
              "color": "white"
             }
            },
            "type": "table"
           }
          ]
         },
         "layout": {
          "annotationdefaults": {
           "arrowcolor": "#2a3f5f",
           "arrowhead": 0,
           "arrowwidth": 1
          },
          "autotypenumbers": "strict",
          "coloraxis": {
           "colorbar": {
            "outlinewidth": 0,
            "ticks": ""
           }
          },
          "colorscale": {
           "diverging": [
            [
             0,
             "#8e0152"
            ],
            [
             0.1,
             "#c51b7d"
            ],
            [
             0.2,
             "#de77ae"
            ],
            [
             0.3,
             "#f1b6da"
            ],
            [
             0.4,
             "#fde0ef"
            ],
            [
             0.5,
             "#f7f7f7"
            ],
            [
             0.6,
             "#e6f5d0"
            ],
            [
             0.7,
             "#b8e186"
            ],
            [
             0.8,
             "#7fbc41"
            ],
            [
             0.9,
             "#4d9221"
            ],
            [
             1,
             "#276419"
            ]
           ],
           "sequential": [
            [
             0,
             "#0d0887"
            ],
            [
             0.1111111111111111,
             "#46039f"
            ],
            [
             0.2222222222222222,
             "#7201a8"
            ],
            [
             0.3333333333333333,
             "#9c179e"
            ],
            [
             0.4444444444444444,
             "#bd3786"
            ],
            [
             0.5555555555555556,
             "#d8576b"
            ],
            [
             0.6666666666666666,
             "#ed7953"
            ],
            [
             0.7777777777777778,
             "#fb9f3a"
            ],
            [
             0.8888888888888888,
             "#fdca26"
            ],
            [
             1,
             "#f0f921"
            ]
           ],
           "sequentialminus": [
            [
             0,
             "#0d0887"
            ],
            [
             0.1111111111111111,
             "#46039f"
            ],
            [
             0.2222222222222222,
             "#7201a8"
            ],
            [
             0.3333333333333333,
             "#9c179e"
            ],
            [
             0.4444444444444444,
             "#bd3786"
            ],
            [
             0.5555555555555556,
             "#d8576b"
            ],
            [
             0.6666666666666666,
             "#ed7953"
            ],
            [
             0.7777777777777778,
             "#fb9f3a"
            ],
            [
             0.8888888888888888,
             "#fdca26"
            ],
            [
             1,
             "#f0f921"
            ]
           ]
          },
          "colorway": [
           "#636efa",
           "#EF553B",
           "#00cc96",
           "#ab63fa",
           "#FFA15A",
           "#19d3f3",
           "#FF6692",
           "#B6E880",
           "#FF97FF",
           "#FECB52"
          ],
          "font": {
           "color": "#2a3f5f"
          },
          "geo": {
           "bgcolor": "white",
           "lakecolor": "white",
           "landcolor": "#E5ECF6",
           "showlakes": true,
           "showland": true,
           "subunitcolor": "white"
          },
          "hoverlabel": {
           "align": "left"
          },
          "hovermode": "closest",
          "mapbox": {
           "style": "light"
          },
          "paper_bgcolor": "white",
          "plot_bgcolor": "#E5ECF6",
          "polar": {
           "angularaxis": {
            "gridcolor": "white",
            "linecolor": "white",
            "ticks": ""
           },
           "bgcolor": "#E5ECF6",
           "radialaxis": {
            "gridcolor": "white",
            "linecolor": "white",
            "ticks": ""
           }
          },
          "scene": {
           "xaxis": {
            "backgroundcolor": "#E5ECF6",
            "gridcolor": "white",
            "gridwidth": 2,
            "linecolor": "white",
            "showbackground": true,
            "ticks": "",
            "zerolinecolor": "white"
           },
           "yaxis": {
            "backgroundcolor": "#E5ECF6",
            "gridcolor": "white",
            "gridwidth": 2,
            "linecolor": "white",
            "showbackground": true,
            "ticks": "",
            "zerolinecolor": "white"
           },
           "zaxis": {
            "backgroundcolor": "#E5ECF6",
            "gridcolor": "white",
            "gridwidth": 2,
            "linecolor": "white",
            "showbackground": true,
            "ticks": "",
            "zerolinecolor": "white"
           }
          },
          "shapedefaults": {
           "line": {
            "color": "#2a3f5f"
           }
          },
          "ternary": {
           "aaxis": {
            "gridcolor": "white",
            "linecolor": "white",
            "ticks": ""
           },
           "baxis": {
            "gridcolor": "white",
            "linecolor": "white",
            "ticks": ""
           },
           "bgcolor": "#E5ECF6",
           "caxis": {
            "gridcolor": "white",
            "linecolor": "white",
            "ticks": ""
           }
          },
          "title": {
           "x": 0.05
          },
          "xaxis": {
           "automargin": true,
           "gridcolor": "white",
           "linecolor": "white",
           "ticks": "",
           "title": {
            "standoff": 15
           },
           "zerolinecolor": "white",
           "zerolinewidth": 2
          },
          "yaxis": {
           "automargin": true,
           "gridcolor": "white",
           "linecolor": "white",
           "ticks": "",
           "title": {
            "standoff": 15
           },
           "zerolinecolor": "white",
           "zerolinewidth": 2
          }
         }
        },
        "width": 800,
        "xaxis": {
         "constrain": "domain",
         "domain": [
          0.171875,
          0.828125
         ],
         "range": [
          -10,
          10
         ],
         "type": "linear"
        },
        "yaxis": {
         "domain": [
          0,
          1
         ],
         "range": [
          -10,
          10
         ],
         "scaleanchor": "x",
         "scaleratio": 1,
         "type": "linear"
        }
       }
      },
      "image/png": "[encoded data removed]",
      "text/html": [
       "<div>                            <div id=\"7f611db0-8848-4c48-ba93-2ebb2dd3f52d\" class=\"plotly-graph-div\" style=\"height:600px; width:800px;\"></div>            <script type=\"text/javascript\">                require([\"plotly\"], function(Plotly) {                    window.PLOTLYENV=window.PLOTLYENV || {};                                    if (document.getElementById(\"7f611db0-8848-4c48-ba93-2ebb2dd3f52d\")) {                    Plotly.newPlot(                        \"7f611db0-8848-4c48-ba93-2ebb2dd3f52d\",                        [{\"mode\":\"markers+lines\",\"x\":[0,1],\"y\":[0,7],\"type\":\"scatter\"}],                        {\"template\":{\"data\":{\"histogram2dcontour\":[{\"type\":\"histogram2dcontour\",\"colorbar\":{\"outlinewidth\":0,\"ticks\":\"\"},\"colorscale\":[[0.0,\"#0d0887\"],[0.1111111111111111,\"#46039f\"],[0.2222222222222222,\"#7201a8\"],[0.3333333333333333,\"#9c179e\"],[0.4444444444444444,\"#bd3786\"],[0.5555555555555556,\"#d8576b\"],[0.6666666666666666,\"#ed7953\"],[0.7777777777777778,\"#fb9f3a\"],[0.8888888888888888,\"#fdca26\"],[1.0,\"#f0f921\"]]}],\"choropleth\":[{\"type\":\"choropleth\",\"colorbar\":{\"outlinewidth\":0,\"ticks\":\"\"}}],\"histogram2d\":[{\"type\":\"histogram2d\",\"colorbar\":{\"outlinewidth\":0,\"ticks\":\"\"},\"colorscale\":[[0.0,\"#0d0887\"],[0.1111111111111111,\"#46039f\"],[0.2222222222222222,\"#7201a8\"],[0.3333333333333333,\"#9c179e\"],[0.4444444444444444,\"#bd3786\"],[0.5555555555555556,\"#d8576b\"],[0.6666666666666666,\"#ed7953\"],[0.7777777777777778,\"#fb9f3a\"],[0.8888888888888888,\"#fdca26\"],[1.0,\"#f0f921\"]]}],\"heatmap\":[{\"type\":\"heatmap\",\"colorbar\":{\"outlinewidth\":0,\"ticks\":\"\"},\"colorscale\":[[0.0,\"#0d0887\"],[0.1111111111111111,\"#46039f\"],[0.2222222222222222,\"#7201a8\"],[0.3333333333333333,\"#9c179e\"],[0.4444444444444444,\"#bd3786\"],[0.5555555555555556,\"#d8576b\"],[0.6666666666666666,\"#ed7953\"],[0.7777777777777778,\"#fb9f3a\"],[0.8888888888888888,\"#fdca26\"],[1.0,\"#f0f921\"]]}],\"heatmapgl\":[{\"type\":\"heatmapgl\",\"colorbar\":{\"outlinewidth\":0,\"ticks\":\"\"},\"colorscale\":[[0.0,\"#0d0887\"],[0.1111111111111111,\"#46039f\"],[0.2222222222222222,\"#7201a8\"],[0.3333333333333333,\"#9c179e\"],[0.4444444444444444,\"#bd3786\"],[0.5555555555555556,\"#d8576b\"],[0.6666666666666666,\"#ed7953\"],[0.7777777777777778,\"#fb9f3a\"],[0.8888888888888888,\"#fdca26\"],[1.0,\"#f0f921\"]]}],\"contourcarpet\":[{\"type\":\"contourcarpet\",\"colorbar\":{\"outlinewidth\":0,\"ticks\":\"\"}}],\"contour\":[{\"type\":\"contour\",\"colorbar\":{\"outlinewidth\":0,\"ticks\":\"\"},\"colorscale\":[[0.0,\"#0d0887\"],[0.1111111111111111,\"#46039f\"],[0.2222222222222222,\"#7201a8\"],[0.3333333333333333,\"#9c179e\"],[0.4444444444444444,\"#bd3786\"],[0.5555555555555556,\"#d8576b\"],[0.6666666666666666,\"#ed7953\"],[0.7777777777777778,\"#fb9f3a\"],[0.8888888888888888,\"#fdca26\"],[1.0,\"#f0f921\"]]}],\"surface\":[{\"type\":\"surface\",\"colorbar\":{\"outlinewidth\":0,\"ticks\":\"\"},\"colorscale\":[[0.0,\"#0d0887\"],[0.1111111111111111,\"#46039f\"],[0.2222222222222222,\"#7201a8\"],[0.3333333333333333,\"#9c179e\"],[0.4444444444444444,\"#bd3786\"],[0.5555555555555556,\"#d8576b\"],[0.6666666666666666,\"#ed7953\"],[0.7777777777777778,\"#fb9f3a\"],[0.8888888888888888,\"#fdca26\"],[1.0,\"#f0f921\"]]}],\"mesh3d\":[{\"type\":\"mesh3d\",\"colorbar\":{\"outlinewidth\":0,\"ticks\":\"\"}}],\"scatter\":[{\"fillpattern\":{\"fillmode\":\"overlay\",\"size\":10,\"solidity\":0.2},\"type\":\"scatter\"}],\"parcoords\":[{\"type\":\"parcoords\",\"line\":{\"colorbar\":{\"outlinewidth\":0,\"ticks\":\"\"}}}],\"scatterpolargl\":[{\"type\":\"scatterpolargl\",\"marker\":{\"colorbar\":{\"outlinewidth\":0,\"ticks\":\"\"}}}],\"bar\":[{\"error_x\":{\"color\":\"#2a3f5f\"},\"error_y\":{\"color\":\"#2a3f5f\"},\"marker\":{\"line\":{\"color\":\"#E5ECF6\",\"width\":0.5},\"pattern\":{\"fillmode\":\"overlay\",\"size\":10,\"solidity\":0.2}},\"type\":\"bar\"}],\"scattergeo\":[{\"type\":\"scattergeo\",\"marker\":{\"colorbar\":{\"outlinewidth\":0,\"ticks\":\"\"}}}],\"scatterpolar\":[{\"type\":\"scatterpolar\",\"marker\":{\"colorbar\":{\"outlinewidth\":0,\"ticks\":\"\"}}}],\"histogram\":[{\"marker\":{\"pattern\":{\"fillmode\":\"overlay\",\"size\":10,\"solidity\":0.2}},\"type\":\"histogram\"}],\"scattergl\":[{\"type\":\"scattergl\",\"marker\":{\"colorbar\":{\"outlinewidth\":0,\"ticks\":\"\"}}}],\"scatter3d\":[{\"type\":\"scatter3d\",\"line\":{\"colorbar\":{\"outlinewidth\":0,\"ticks\":\"\"}},\"marker\":{\"colorbar\":{\"outlinewidth\":0,\"ticks\":\"\"}}}],\"scattermapbox\":[{\"type\":\"scattermapbox\",\"marker\":{\"colorbar\":{\"outlinewidth\":0,\"ticks\":\"\"}}}],\"scatterternary\":[{\"type\":\"scatterternary\",\"marker\":{\"colorbar\":{\"outlinewidth\":0,\"ticks\":\"\"}}}],\"scattercarpet\":[{\"type\":\"scattercarpet\",\"marker\":{\"colorbar\":{\"outlinewidth\":0,\"ticks\":\"\"}}}],\"carpet\":[{\"aaxis\":{\"endlinecolor\":\"#2a3f5f\",\"gridcolor\":\"white\",\"linecolor\":\"white\",\"minorgridcolor\":\"white\",\"startlinecolor\":\"#2a3f5f\"},\"baxis\":{\"endlinecolor\":\"#2a3f5f\",\"gridcolor\":\"white\",\"linecolor\":\"white\",\"minorgridcolor\":\"white\",\"startlinecolor\":\"#2a3f5f\"},\"type\":\"carpet\"}],\"table\":[{\"cells\":{\"fill\":{\"color\":\"#EBF0F8\"},\"line\":{\"color\":\"white\"}},\"header\":{\"fill\":{\"color\":\"#C8D4E3\"},\"line\":{\"color\":\"white\"}},\"type\":\"table\"}],\"barpolar\":[{\"marker\":{\"line\":{\"color\":\"#E5ECF6\",\"width\":0.5},\"pattern\":{\"fillmode\":\"overlay\",\"size\":10,\"solidity\":0.2}},\"type\":\"barpolar\"}],\"pie\":[{\"automargin\":true,\"type\":\"pie\"}]},\"layout\":{\"autotypenumbers\":\"strict\",\"colorway\":[\"#636efa\",\"#EF553B\",\"#00cc96\",\"#ab63fa\",\"#FFA15A\",\"#19d3f3\",\"#FF6692\",\"#B6E880\",\"#FF97FF\",\"#FECB52\"],\"font\":{\"color\":\"#2a3f5f\"},\"hovermode\":\"closest\",\"hoverlabel\":{\"align\":\"left\"},\"paper_bgcolor\":\"white\",\"plot_bgcolor\":\"#E5ECF6\",\"polar\":{\"bgcolor\":\"#E5ECF6\",\"angularaxis\":{\"gridcolor\":\"white\",\"linecolor\":\"white\",\"ticks\":\"\"},\"radialaxis\":{\"gridcolor\":\"white\",\"linecolor\":\"white\",\"ticks\":\"\"}},\"ternary\":{\"bgcolor\":\"#E5ECF6\",\"aaxis\":{\"gridcolor\":\"white\",\"linecolor\":\"white\",\"ticks\":\"\"},\"baxis\":{\"gridcolor\":\"white\",\"linecolor\":\"white\",\"ticks\":\"\"},\"caxis\":{\"gridcolor\":\"white\",\"linecolor\":\"white\",\"ticks\":\"\"}},\"coloraxis\":{\"colorbar\":{\"outlinewidth\":0,\"ticks\":\"\"}},\"colorscale\":{\"sequential\":[[0.0,\"#0d0887\"],[0.1111111111111111,\"#46039f\"],[0.2222222222222222,\"#7201a8\"],[0.3333333333333333,\"#9c179e\"],[0.4444444444444444,\"#bd3786\"],[0.5555555555555556,\"#d8576b\"],[0.6666666666666666,\"#ed7953\"],[0.7777777777777778,\"#fb9f3a\"],[0.8888888888888888,\"#fdca26\"],[1.0,\"#f0f921\"]],\"sequentialminus\":[[0.0,\"#0d0887\"],[0.1111111111111111,\"#46039f\"],[0.2222222222222222,\"#7201a8\"],[0.3333333333333333,\"#9c179e\"],[0.4444444444444444,\"#bd3786\"],[0.5555555555555556,\"#d8576b\"],[0.6666666666666666,\"#ed7953\"],[0.7777777777777778,\"#fb9f3a\"],[0.8888888888888888,\"#fdca26\"],[1.0,\"#f0f921\"]],\"diverging\":[[0,\"#8e0152\"],[0.1,\"#c51b7d\"],[0.2,\"#de77ae\"],[0.3,\"#f1b6da\"],[0.4,\"#fde0ef\"],[0.5,\"#f7f7f7\"],[0.6,\"#e6f5d0\"],[0.7,\"#b8e186\"],[0.8,\"#7fbc41\"],[0.9,\"#4d9221\"],[1,\"#276419\"]]},\"xaxis\":{\"gridcolor\":\"white\",\"linecolor\":\"white\",\"ticks\":\"\",\"title\":{\"standoff\":15},\"zerolinecolor\":\"white\",\"automargin\":true,\"zerolinewidth\":2},\"yaxis\":{\"gridcolor\":\"white\",\"linecolor\":\"white\",\"ticks\":\"\",\"title\":{\"standoff\":15},\"zerolinecolor\":\"white\",\"automargin\":true,\"zerolinewidth\":2},\"scene\":{\"xaxis\":{\"backgroundcolor\":\"#E5ECF6\",\"gridcolor\":\"white\",\"linecolor\":\"white\",\"showbackground\":true,\"ticks\":\"\",\"zerolinecolor\":\"white\",\"gridwidth\":2},\"yaxis\":{\"backgroundcolor\":\"#E5ECF6\",\"gridcolor\":\"white\",\"linecolor\":\"white\",\"showbackground\":true,\"ticks\":\"\",\"zerolinecolor\":\"white\",\"gridwidth\":2},\"zaxis\":{\"backgroundcolor\":\"#E5ECF6\",\"gridcolor\":\"white\",\"linecolor\":\"white\",\"showbackground\":true,\"ticks\":\"\",\"zerolinecolor\":\"white\",\"gridwidth\":2}},\"shapedefaults\":{\"line\":{\"color\":\"#2a3f5f\"}},\"annotationdefaults\":{\"arrowcolor\":\"#2a3f5f\",\"arrowhead\":0,\"arrowwidth\":1},\"geo\":{\"bgcolor\":\"white\",\"landcolor\":\"#E5ECF6\",\"subunitcolor\":\"white\",\"showland\":true,\"showlakes\":true,\"lakecolor\":\"white\"},\"title\":{\"x\":0.05},\"mapbox\":{\"style\":\"light\"}}},\"xaxis\":{\"range\":[-10,10],\"constrain\":\"domain\"},\"yaxis\":{\"range\":[-10,10],\"scaleanchor\":\"x\",\"scaleratio\":1},\"showlegend\":false,\"width\":800,\"height\":600},                        {\"responsive\": true}                    ).then(function(){\n",
       "                            \n",
       "var gd = document.getElementById('7f611db0-8848-4c48-ba93-2ebb2dd3f52d');\n",
       "var x = new MutationObserver(function (mutations, observer) {{\n",
       "        var display = window.getComputedStyle(gd).display;\n",
       "        if (!display || display === 'none') {{\n",
       "            console.log([gd, 'removed!']);\n",
       "            Plotly.purge(gd);\n",
       "            observer.disconnect();\n",
       "        }}\n",
       "}});\n",
       "\n",
       "// Listen for the removal of the full notebook cells\n",
       "var notebookContainer = gd.closest('#notebook-container');\n",
       "if (notebookContainer) {{\n",
       "    x.observe(notebookContainer, {childList: true});\n",
       "}}\n",
       "\n",
       "// Listen for the clearing of the current output cell\n",
       "var outputEl = gd.closest('.output');\n",
       "if (outputEl) {{\n",
       "    x.observe(outputEl, {childList: true});\n",
       "}}\n",
       "\n",
       "                        })                };                });            </script>        </div>"
      ]
     },
     "metadata": {},
     "output_type": "display_data"
    }
   ],
   "source": [
    "figura1 = vector(1,7)\n",
    "figura1.mostrar()"
   ]
  },
  {
   "cell_type": "code",
   "execution_count": 21,
   "id": "cd358dc2-6efc-4908-a3cd-1dc1e001884e",
   "metadata": {
    "tags": []
   },
   "outputs": [
    {
     "name": "stdout",
     "output_type": "stream",
     "text": [
      "Cordenadas.. [1 2]\n",
      "Cordenadas.. [-1  2]\n"
     ]
    },
    {
     "data": {
      "application/vnd.plotly.v1+json": {
       "config": {
        "plotlyServerURL": "https://plot.ly"
       },
       "data": [
        {
         "line": {
          "color": "blue",
          "width": 0.5
         },
         "mode": "markers+lines",
         "type": "scatter",
         "x": [
          0,
          -10
         ],
         "y": [
          0,
          -10
         ]
        },
        {
         "line": {
          "color": "blue",
          "width": 0.5
         },
         "mode": "markers+lines",
         "type": "scatter",
         "x": [
          0,
          -10
         ],
         "y": [
          0,
          -9
         ]
        },
        {
         "line": {
          "color": "blue",
          "width": 0.5
         },
         "mode": "markers+lines",
         "type": "scatter",
         "x": [
          0,
          -10
         ],
         "y": [
          0,
          -8
         ]
        },
        {
         "line": {
          "color": "blue",
          "width": 0.5
         },
         "mode": "markers+lines",
         "type": "scatter",
         "x": [
          0,
          -10
         ],
         "y": [
          0,
          -7
         ]
        },
        {
         "line": {
          "color": "blue",
          "width": 0.5
         },
         "mode": "markers+lines",
         "type": "scatter",
         "x": [
          0,
          -10
         ],
         "y": [
          0,
          -6
         ]
        },
        {
         "line": {
          "color": "blue",
          "width": 0.5
         },
         "mode": "markers+lines",
         "type": "scatter",
         "x": [
          0,
          -10
         ],
         "y": [
          0,
          -5
         ]
        },
        {
         "line": {
          "color": "blue",
          "width": 0.5
         },
         "mode": "markers+lines",
         "type": "scatter",
         "x": [
          0,
          -10
         ],
         "y": [
          0,
          -4
         ]
        },
        {
         "line": {
          "color": "blue",
          "width": 0.5
         },
         "mode": "markers+lines",
         "type": "scatter",
         "x": [
          0,
          -10
         ],
         "y": [
          0,
          -3
         ]
        },
        {
         "line": {
          "color": "blue",
          "width": 0.5
         },
         "mode": "markers+lines",
         "type": "scatter",
         "x": [
          0,
          -10
         ],
         "y": [
          0,
          -2
         ]
        },
        {
         "line": {
          "color": "blue",
          "width": 0.5
         },
         "mode": "markers+lines",
         "type": "scatter",
         "x": [
          0,
          -10
         ],
         "y": [
          0,
          -1
         ]
        },
        {
         "line": {
          "color": "blue",
          "width": 0.5
         },
         "mode": "markers+lines",
         "type": "scatter",
         "x": [
          0,
          -10
         ],
         "y": [
          0,
          0
         ]
        },
        {
         "line": {
          "color": "blue",
          "width": 0.5
         },
         "mode": "markers+lines",
         "type": "scatter",
         "x": [
          0,
          -10
         ],
         "y": [
          0,
          1
         ]
        },
        {
         "line": {
          "color": "blue",
          "width": 0.5
         },
         "mode": "markers+lines",
         "type": "scatter",
         "x": [
          0,
          -10
         ],
         "y": [
          0,
          2
         ]
        },
        {
         "line": {
          "color": "blue",
          "width": 0.5
         },
         "mode": "markers+lines",
         "type": "scatter",
         "x": [
          0,
          -10
         ],
         "y": [
          0,
          3
         ]
        },
        {
         "line": {
          "color": "blue",
          "width": 0.5
         },
         "mode": "markers+lines",
         "type": "scatter",
         "x": [
          0,
          -10
         ],
         "y": [
          0,
          4
         ]
        },
        {
         "line": {
          "color": "blue",
          "width": 0.5
         },
         "mode": "markers+lines",
         "type": "scatter",
         "x": [
          0,
          -10
         ],
         "y": [
          0,
          5
         ]
        },
        {
         "line": {
          "color": "blue",
          "width": 0.5
         },
         "mode": "markers+lines",
         "type": "scatter",
         "x": [
          0,
          -10
         ],
         "y": [
          0,
          6
         ]
        },
        {
         "line": {
          "color": "blue",
          "width": 0.5
         },
         "mode": "markers+lines",
         "type": "scatter",
         "x": [
          0,
          -10
         ],
         "y": [
          0,
          7
         ]
        },
        {
         "line": {
          "color": "blue",
          "width": 0.5
         },
         "mode": "markers+lines",
         "type": "scatter",
         "x": [
          0,
          -10
         ],
         "y": [
          0,
          8
         ]
        },
        {
         "line": {
          "color": "blue",
          "width": 0.5
         },
         "mode": "markers+lines",
         "type": "scatter",
         "x": [
          0,
          -10
         ],
         "y": [
          0,
          9
         ]
        },
        {
         "line": {
          "color": "blue",
          "width": 0.5
         },
         "mode": "markers+lines",
         "type": "scatter",
         "x": [
          0,
          -9
         ],
         "y": [
          0,
          -10
         ]
        },
        {
         "line": {
          "color": "blue",
          "width": 0.5
         },
         "mode": "markers+lines",
         "type": "scatter",
         "x": [
          0,
          -9
         ],
         "y": [
          0,
          -9
         ]
        },
        {
         "line": {
          "color": "blue",
          "width": 0.5
         },
         "mode": "markers+lines",
         "type": "scatter",
         "x": [
          0,
          -9
         ],
         "y": [
          0,
          -8
         ]
        },
        {
         "line": {
          "color": "blue",
          "width": 0.5
         },
         "mode": "markers+lines",
         "type": "scatter",
         "x": [
          0,
          -9
         ],
         "y": [
          0,
          -7
         ]
        },
        {
         "line": {
          "color": "blue",
          "width": 0.5
         },
         "mode": "markers+lines",
         "type": "scatter",
         "x": [
          0,
          -9
         ],
         "y": [
          0,
          -6
         ]
        },
        {
         "line": {
          "color": "blue",
          "width": 0.5
         },
         "mode": "markers+lines",
         "type": "scatter",
         "x": [
          0,
          -9
         ],
         "y": [
          0,
          -5
         ]
        },
        {
         "line": {
          "color": "blue",
          "width": 0.5
         },
         "mode": "markers+lines",
         "type": "scatter",
         "x": [
          0,
          -9
         ],
         "y": [
          0,
          -4
         ]
        },
        {
         "line": {
          "color": "blue",
          "width": 0.5
         },
         "mode": "markers+lines",
         "type": "scatter",
         "x": [
          0,
          -9
         ],
         "y": [
          0,
          -3
         ]
        },
        {
         "line": {
          "color": "blue",
          "width": 0.5
         },
         "mode": "markers+lines",
         "type": "scatter",
         "x": [
          0,
          -9
         ],
         "y": [
          0,
          -2
         ]
        },
        {
         "line": {
          "color": "blue",
          "width": 0.5
         },
         "mode": "markers+lines",
         "type": "scatter",
         "x": [
          0,
          -9
         ],
         "y": [
          0,
          -1
         ]
        },
        {
         "line": {
          "color": "blue",
          "width": 0.5
         },
         "mode": "markers+lines",
         "type": "scatter",
         "x": [
          0,
          -9
         ],
         "y": [
          0,
          0
         ]
        },
        {
         "line": {
          "color": "blue",
          "width": 0.5
         },
         "mode": "markers+lines",
         "type": "scatter",
         "x": [
          0,
          -9
         ],
         "y": [
          0,
          1
         ]
        },
        {
         "line": {
          "color": "blue",
          "width": 0.5
         },
         "mode": "markers+lines",
         "type": "scatter",
         "x": [
          0,
          -9
         ],
         "y": [
          0,
          2
         ]
        },
        {
         "line": {
          "color": "blue",
          "width": 0.5
         },
         "mode": "markers+lines",
         "type": "scatter",
         "x": [
          0,
          -9
         ],
         "y": [
          0,
          3
         ]
        },
        {
         "line": {
          "color": "blue",
          "width": 0.5
         },
         "mode": "markers+lines",
         "type": "scatter",
         "x": [
          0,
          -9
         ],
         "y": [
          0,
          4
         ]
        },
        {
         "line": {
          "color": "blue",
          "width": 0.5
         },
         "mode": "markers+lines",
         "type": "scatter",
         "x": [
          0,
          -9
         ],
         "y": [
          0,
          5
         ]
        },
        {
         "line": {
          "color": "blue",
          "width": 0.5
         },
         "mode": "markers+lines",
         "type": "scatter",
         "x": [
          0,
          -9
         ],
         "y": [
          0,
          6
         ]
        },
        {
         "line": {
          "color": "blue",
          "width": 0.5
         },
         "mode": "markers+lines",
         "type": "scatter",
         "x": [
          0,
          -9
         ],
         "y": [
          0,
          7
         ]
        },
        {
         "line": {
          "color": "blue",
          "width": 0.5
         },
         "mode": "markers+lines",
         "type": "scatter",
         "x": [
          0,
          -9
         ],
         "y": [
          0,
          8
         ]
        },
        {
         "line": {
          "color": "blue",
          "width": 0.5
         },
         "mode": "markers+lines",
         "type": "scatter",
         "x": [
          0,
          -9
         ],
         "y": [
          0,
          9
         ]
        },
        {
         "line": {
          "color": "blue",
          "width": 0.5
         },
         "mode": "markers+lines",
         "type": "scatter",
         "x": [
          0,
          -8
         ],
         "y": [
          0,
          -10
         ]
        },
        {
         "line": {
          "color": "blue",
          "width": 0.5
         },
         "mode": "markers+lines",
         "type": "scatter",
         "x": [
          0,
          -8
         ],
         "y": [
          0,
          -9
         ]
        },
        {
         "line": {
          "color": "blue",
          "width": 0.5
         },
         "mode": "markers+lines",
         "type": "scatter",
         "x": [
          0,
          -8
         ],
         "y": [
          0,
          -8
         ]
        },
        {
         "line": {
          "color": "blue",
          "width": 0.5
         },
         "mode": "markers+lines",
         "type": "scatter",
         "x": [
          0,
          -8
         ],
         "y": [
          0,
          -7
         ]
        },
        {
         "line": {
          "color": "blue",
          "width": 0.5
         },
         "mode": "markers+lines",
         "type": "scatter",
         "x": [
          0,
          -8
         ],
         "y": [
          0,
          -6
         ]
        },
        {
         "line": {
          "color": "blue",
          "width": 0.5
         },
         "mode": "markers+lines",
         "type": "scatter",
         "x": [
          0,
          -8
         ],
         "y": [
          0,
          -5
         ]
        },
        {
         "line": {
          "color": "blue",
          "width": 0.5
         },
         "mode": "markers+lines",
         "type": "scatter",
         "x": [
          0,
          -8
         ],
         "y": [
          0,
          -4
         ]
        },
        {
         "line": {
          "color": "blue",
          "width": 0.5
         },
         "mode": "markers+lines",
         "type": "scatter",
         "x": [
          0,
          -8
         ],
         "y": [
          0,
          -3
         ]
        },
        {
         "line": {
          "color": "blue",
          "width": 0.5
         },
         "mode": "markers+lines",
         "type": "scatter",
         "x": [
          0,
          -8
         ],
         "y": [
          0,
          -2
         ]
        },
        {
         "line": {
          "color": "blue",
          "width": 0.5
         },
         "mode": "markers+lines",
         "type": "scatter",
         "x": [
          0,
          -8
         ],
         "y": [
          0,
          -1
         ]
        },
        {
         "line": {
          "color": "blue",
          "width": 0.5
         },
         "mode": "markers+lines",
         "type": "scatter",
         "x": [
          0,
          -8
         ],
         "y": [
          0,
          0
         ]
        },
        {
         "line": {
          "color": "blue",
          "width": 0.5
         },
         "mode": "markers+lines",
         "type": "scatter",
         "x": [
          0,
          -8
         ],
         "y": [
          0,
          1
         ]
        },
        {
         "line": {
          "color": "blue",
          "width": 0.5
         },
         "mode": "markers+lines",
         "type": "scatter",
         "x": [
          0,
          -8
         ],
         "y": [
          0,
          2
         ]
        },
        {
         "line": {
          "color": "blue",
          "width": 0.5
         },
         "mode": "markers+lines",
         "type": "scatter",
         "x": [
          0,
          -8
         ],
         "y": [
          0,
          3
         ]
        },
        {
         "line": {
          "color": "blue",
          "width": 0.5
         },
         "mode": "markers+lines",
         "type": "scatter",
         "x": [
          0,
          -8
         ],
         "y": [
          0,
          4
         ]
        },
        {
         "line": {
          "color": "blue",
          "width": 0.5
         },
         "mode": "markers+lines",
         "type": "scatter",
         "x": [
          0,
          -8
         ],
         "y": [
          0,
          5
         ]
        },
        {
         "line": {
          "color": "blue",
          "width": 0.5
         },
         "mode": "markers+lines",
         "type": "scatter",
         "x": [
          0,
          -8
         ],
         "y": [
          0,
          6
         ]
        },
        {
         "line": {
          "color": "blue",
          "width": 0.5
         },
         "mode": "markers+lines",
         "type": "scatter",
         "x": [
          0,
          -8
         ],
         "y": [
          0,
          7
         ]
        },
        {
         "line": {
          "color": "blue",
          "width": 0.5
         },
         "mode": "markers+lines",
         "type": "scatter",
         "x": [
          0,
          -8
         ],
         "y": [
          0,
          8
         ]
        },
        {
         "line": {
          "color": "blue",
          "width": 0.5
         },
         "mode": "markers+lines",
         "type": "scatter",
         "x": [
          0,
          -8
         ],
         "y": [
          0,
          9
         ]
        },
        {
         "line": {
          "color": "blue",
          "width": 0.5
         },
         "mode": "markers+lines",
         "type": "scatter",
         "x": [
          0,
          -7
         ],
         "y": [
          0,
          -10
         ]
        },
        {
         "line": {
          "color": "blue",
          "width": 0.5
         },
         "mode": "markers+lines",
         "type": "scatter",
         "x": [
          0,
          -7
         ],
         "y": [
          0,
          -9
         ]
        },
        {
         "line": {
          "color": "blue",
          "width": 0.5
         },
         "mode": "markers+lines",
         "type": "scatter",
         "x": [
          0,
          -7
         ],
         "y": [
          0,
          -8
         ]
        },
        {
         "line": {
          "color": "blue",
          "width": 0.5
         },
         "mode": "markers+lines",
         "type": "scatter",
         "x": [
          0,
          -7
         ],
         "y": [
          0,
          -7
         ]
        },
        {
         "line": {
          "color": "blue",
          "width": 0.5
         },
         "mode": "markers+lines",
         "type": "scatter",
         "x": [
          0,
          -7
         ],
         "y": [
          0,
          -6
         ]
        },
        {
         "line": {
          "color": "blue",
          "width": 0.5
         },
         "mode": "markers+lines",
         "type": "scatter",
         "x": [
          0,
          -7
         ],
         "y": [
          0,
          -5
         ]
        },
        {
         "line": {
          "color": "blue",
          "width": 0.5
         },
         "mode": "markers+lines",
         "type": "scatter",
         "x": [
          0,
          -7
         ],
         "y": [
          0,
          -4
         ]
        },
        {
         "line": {
          "color": "blue",
          "width": 0.5
         },
         "mode": "markers+lines",
         "type": "scatter",
         "x": [
          0,
          -7
         ],
         "y": [
          0,
          -3
         ]
        },
        {
         "line": {
          "color": "blue",
          "width": 0.5
         },
         "mode": "markers+lines",
         "type": "scatter",
         "x": [
          0,
          -7
         ],
         "y": [
          0,
          -2
         ]
        },
        {
         "line": {
          "color": "blue",
          "width": 0.5
         },
         "mode": "markers+lines",
         "type": "scatter",
         "x": [
          0,
          -7
         ],
         "y": [
          0,
          -1
         ]
        },
        {
         "line": {
          "color": "blue",
          "width": 0.5
         },
         "mode": "markers+lines",
         "type": "scatter",
         "x": [
          0,
          -7
         ],
         "y": [
          0,
          0
         ]
        },
        {
         "line": {
          "color": "blue",
          "width": 0.5
         },
         "mode": "markers+lines",
         "type": "scatter",
         "x": [
          0,
          -7
         ],
         "y": [
          0,
          1
         ]
        },
        {
         "line": {
          "color": "blue",
          "width": 0.5
         },
         "mode": "markers+lines",
         "type": "scatter",
         "x": [
          0,
          -7
         ],
         "y": [
          0,
          2
         ]
        },
        {
         "line": {
          "color": "blue",
          "width": 0.5
         },
         "mode": "markers+lines",
         "type": "scatter",
         "x": [
          0,
          -7
         ],
         "y": [
          0,
          3
         ]
        },
        {
         "line": {
          "color": "blue",
          "width": 0.5
         },
         "mode": "markers+lines",
         "type": "scatter",
         "x": [
          0,
          -7
         ],
         "y": [
          0,
          4
         ]
        },
        {
         "line": {
          "color": "blue",
          "width": 0.5
         },
         "mode": "markers+lines",
         "type": "scatter",
         "x": [
          0,
          -7
         ],
         "y": [
          0,
          5
         ]
        },
        {
         "line": {
          "color": "blue",
          "width": 0.5
         },
         "mode": "markers+lines",
         "type": "scatter",
         "x": [
          0,
          -7
         ],
         "y": [
          0,
          6
         ]
        },
        {
         "line": {
          "color": "blue",
          "width": 0.5
         },
         "mode": "markers+lines",
         "type": "scatter",
         "x": [
          0,
          -7
         ],
         "y": [
          0,
          7
         ]
        },
        {
         "line": {
          "color": "blue",
          "width": 0.5
         },
         "mode": "markers+lines",
         "type": "scatter",
         "x": [
          0,
          -7
         ],
         "y": [
          0,
          8
         ]
        },
        {
         "line": {
          "color": "blue",
          "width": 0.5
         },
         "mode": "markers+lines",
         "type": "scatter",
         "x": [
          0,
          -7
         ],
         "y": [
          0,
          9
         ]
        },
        {
         "line": {
          "color": "blue",
          "width": 0.5
         },
         "mode": "markers+lines",
         "type": "scatter",
         "x": [
          0,
          -6
         ],
         "y": [
          0,
          -10
         ]
        },
        {
         "line": {
          "color": "blue",
          "width": 0.5
         },
         "mode": "markers+lines",
         "type": "scatter",
         "x": [
          0,
          -6
         ],
         "y": [
          0,
          -9
         ]
        },
        {
         "line": {
          "color": "blue",
          "width": 0.5
         },
         "mode": "markers+lines",
         "type": "scatter",
         "x": [
          0,
          -6
         ],
         "y": [
          0,
          -8
         ]
        },
        {
         "line": {
          "color": "blue",
          "width": 0.5
         },
         "mode": "markers+lines",
         "type": "scatter",
         "x": [
          0,
          -6
         ],
         "y": [
          0,
          -7
         ]
        },
        {
         "line": {
          "color": "blue",
          "width": 0.5
         },
         "mode": "markers+lines",
         "type": "scatter",
         "x": [
          0,
          -6
         ],
         "y": [
          0,
          -6
         ]
        },
        {
         "line": {
          "color": "blue",
          "width": 0.5
         },
         "mode": "markers+lines",
         "type": "scatter",
         "x": [
          0,
          -6
         ],
         "y": [
          0,
          -5
         ]
        },
        {
         "line": {
          "color": "blue",
          "width": 0.5
         },
         "mode": "markers+lines",
         "type": "scatter",
         "x": [
          0,
          -6
         ],
         "y": [
          0,
          -4
         ]
        },
        {
         "line": {
          "color": "blue",
          "width": 0.5
         },
         "mode": "markers+lines",
         "type": "scatter",
         "x": [
          0,
          -6
         ],
         "y": [
          0,
          -3
         ]
        },
        {
         "line": {
          "color": "blue",
          "width": 0.5
         },
         "mode": "markers+lines",
         "type": "scatter",
         "x": [
          0,
          -6
         ],
         "y": [
          0,
          -2
         ]
        },
        {
         "line": {
          "color": "blue",
          "width": 0.5
         },
         "mode": "markers+lines",
         "type": "scatter",
         "x": [
          0,
          -6
         ],
         "y": [
          0,
          -1
         ]
        },
        {
         "line": {
          "color": "blue",
          "width": 0.5
         },
         "mode": "markers+lines",
         "type": "scatter",
         "x": [
          0,
          -6
         ],
         "y": [
          0,
          0
         ]
        },
        {
         "line": {
          "color": "blue",
          "width": 0.5
         },
         "mode": "markers+lines",
         "type": "scatter",
         "x": [
          0,
          -6
         ],
         "y": [
          0,
          1
         ]
        },
        {
         "line": {
          "color": "blue",
          "width": 0.5
         },
         "mode": "markers+lines",
         "type": "scatter",
         "x": [
          0,
          -6
         ],
         "y": [
          0,
          2
         ]
        },
        {
         "line": {
          "color": "blue",
          "width": 0.5
         },
         "mode": "markers+lines",
         "type": "scatter",
         "x": [
          0,
          -6
         ],
         "y": [
          0,
          3
         ]
        },
        {
         "line": {
          "color": "blue",
          "width": 0.5
         },
         "mode": "markers+lines",
         "type": "scatter",
         "x": [
          0,
          -6
         ],
         "y": [
          0,
          4
         ]
        },
        {
         "line": {
          "color": "blue",
          "width": 0.5
         },
         "mode": "markers+lines",
         "type": "scatter",
         "x": [
          0,
          -6
         ],
         "y": [
          0,
          5
         ]
        },
        {
         "line": {
          "color": "blue",
          "width": 0.5
         },
         "mode": "markers+lines",
         "type": "scatter",
         "x": [
          0,
          -6
         ],
         "y": [
          0,
          6
         ]
        },
        {
         "line": {
          "color": "blue",
          "width": 0.5
         },
         "mode": "markers+lines",
         "type": "scatter",
         "x": [
          0,
          -6
         ],
         "y": [
          0,
          7
         ]
        },
        {
         "line": {
          "color": "blue",
          "width": 0.5
         },
         "mode": "markers+lines",
         "type": "scatter",
         "x": [
          0,
          -6
         ],
         "y": [
          0,
          8
         ]
        },
        {
         "line": {
          "color": "blue",
          "width": 0.5
         },
         "mode": "markers+lines",
         "type": "scatter",
         "x": [
          0,
          -6
         ],
         "y": [
          0,
          9
         ]
        },
        {
         "line": {
          "color": "blue",
          "width": 0.5
         },
         "mode": "markers+lines",
         "type": "scatter",
         "x": [
          0,
          -5
         ],
         "y": [
          0,
          -10
         ]
        },
        {
         "line": {
          "color": "blue",
          "width": 0.5
         },
         "mode": "markers+lines",
         "type": "scatter",
         "x": [
          0,
          -5
         ],
         "y": [
          0,
          -9
         ]
        },
        {
         "line": {
          "color": "blue",
          "width": 0.5
         },
         "mode": "markers+lines",
         "type": "scatter",
         "x": [
          0,
          -5
         ],
         "y": [
          0,
          -8
         ]
        },
        {
         "line": {
          "color": "blue",
          "width": 0.5
         },
         "mode": "markers+lines",
         "type": "scatter",
         "x": [
          0,
          -5
         ],
         "y": [
          0,
          -7
         ]
        },
        {
         "line": {
          "color": "blue",
          "width": 0.5
         },
         "mode": "markers+lines",
         "type": "scatter",
         "x": [
          0,
          -5
         ],
         "y": [
          0,
          -6
         ]
        },
        {
         "line": {
          "color": "blue",
          "width": 0.5
         },
         "mode": "markers+lines",
         "type": "scatter",
         "x": [
          0,
          -5
         ],
         "y": [
          0,
          -5
         ]
        },
        {
         "line": {
          "color": "blue",
          "width": 0.5
         },
         "mode": "markers+lines",
         "type": "scatter",
         "x": [
          0,
          -5
         ],
         "y": [
          0,
          -4
         ]
        },
        {
         "line": {
          "color": "blue",
          "width": 0.5
         },
         "mode": "markers+lines",
         "type": "scatter",
         "x": [
          0,
          -5
         ],
         "y": [
          0,
          -3
         ]
        },
        {
         "line": {
          "color": "blue",
          "width": 0.5
         },
         "mode": "markers+lines",
         "type": "scatter",
         "x": [
          0,
          -5
         ],
         "y": [
          0,
          -2
         ]
        },
        {
         "line": {
          "color": "blue",
          "width": 0.5
         },
         "mode": "markers+lines",
         "type": "scatter",
         "x": [
          0,
          -5
         ],
         "y": [
          0,
          -1
         ]
        },
        {
         "line": {
          "color": "blue",
          "width": 0.5
         },
         "mode": "markers+lines",
         "type": "scatter",
         "x": [
          0,
          -5
         ],
         "y": [
          0,
          0
         ]
        },
        {
         "line": {
          "color": "blue",
          "width": 0.5
         },
         "mode": "markers+lines",
         "type": "scatter",
         "x": [
          0,
          -5
         ],
         "y": [
          0,
          1
         ]
        },
        {
         "line": {
          "color": "blue",
          "width": 0.5
         },
         "mode": "markers+lines",
         "type": "scatter",
         "x": [
          0,
          -5
         ],
         "y": [
          0,
          2
         ]
        },
        {
         "line": {
          "color": "blue",
          "width": 0.5
         },
         "mode": "markers+lines",
         "type": "scatter",
         "x": [
          0,
          -5
         ],
         "y": [
          0,
          3
         ]
        },
        {
         "line": {
          "color": "blue",
          "width": 0.5
         },
         "mode": "markers+lines",
         "type": "scatter",
         "x": [
          0,
          -5
         ],
         "y": [
          0,
          4
         ]
        },
        {
         "line": {
          "color": "blue",
          "width": 0.5
         },
         "mode": "markers+lines",
         "type": "scatter",
         "x": [
          0,
          -5
         ],
         "y": [
          0,
          5
         ]
        },
        {
         "line": {
          "color": "blue",
          "width": 0.5
         },
         "mode": "markers+lines",
         "type": "scatter",
         "x": [
          0,
          -5
         ],
         "y": [
          0,
          6
         ]
        },
        {
         "line": {
          "color": "blue",
          "width": 0.5
         },
         "mode": "markers+lines",
         "type": "scatter",
         "x": [
          0,
          -5
         ],
         "y": [
          0,
          7
         ]
        },
        {
         "line": {
          "color": "blue",
          "width": 0.5
         },
         "mode": "markers+lines",
         "type": "scatter",
         "x": [
          0,
          -5
         ],
         "y": [
          0,
          8
         ]
        },
        {
         "line": {
          "color": "blue",
          "width": 0.5
         },
         "mode": "markers+lines",
         "type": "scatter",
         "x": [
          0,
          -5
         ],
         "y": [
          0,
          9
         ]
        },
        {
         "line": {
          "color": "blue",
          "width": 0.5
         },
         "mode": "markers+lines",
         "type": "scatter",
         "x": [
          0,
          -4
         ],
         "y": [
          0,
          -10
         ]
        },
        {
         "line": {
          "color": "blue",
          "width": 0.5
         },
         "mode": "markers+lines",
         "type": "scatter",
         "x": [
          0,
          -4
         ],
         "y": [
          0,
          -9
         ]
        },
        {
         "line": {
          "color": "blue",
          "width": 0.5
         },
         "mode": "markers+lines",
         "type": "scatter",
         "x": [
          0,
          -4
         ],
         "y": [
          0,
          -8
         ]
        },
        {
         "line": {
          "color": "blue",
          "width": 0.5
         },
         "mode": "markers+lines",
         "type": "scatter",
         "x": [
          0,
          -4
         ],
         "y": [
          0,
          -7
         ]
        },
        {
         "line": {
          "color": "blue",
          "width": 0.5
         },
         "mode": "markers+lines",
         "type": "scatter",
         "x": [
          0,
          -4
         ],
         "y": [
          0,
          -6
         ]
        },
        {
         "line": {
          "color": "blue",
          "width": 0.5
         },
         "mode": "markers+lines",
         "type": "scatter",
         "x": [
          0,
          -4
         ],
         "y": [
          0,
          -5
         ]
        },
        {
         "line": {
          "color": "blue",
          "width": 0.5
         },
         "mode": "markers+lines",
         "type": "scatter",
         "x": [
          0,
          -4
         ],
         "y": [
          0,
          -4
         ]
        },
        {
         "line": {
          "color": "blue",
          "width": 0.5
         },
         "mode": "markers+lines",
         "type": "scatter",
         "x": [
          0,
          -4
         ],
         "y": [
          0,
          -3
         ]
        },
        {
         "line": {
          "color": "blue",
          "width": 0.5
         },
         "mode": "markers+lines",
         "type": "scatter",
         "x": [
          0,
          -4
         ],
         "y": [
          0,
          -2
         ]
        },
        {
         "line": {
          "color": "blue",
          "width": 0.5
         },
         "mode": "markers+lines",
         "type": "scatter",
         "x": [
          0,
          -4
         ],
         "y": [
          0,
          -1
         ]
        },
        {
         "line": {
          "color": "blue",
          "width": 0.5
         },
         "mode": "markers+lines",
         "type": "scatter",
         "x": [
          0,
          -4
         ],
         "y": [
          0,
          0
         ]
        },
        {
         "line": {
          "color": "blue",
          "width": 0.5
         },
         "mode": "markers+lines",
         "type": "scatter",
         "x": [
          0,
          -4
         ],
         "y": [
          0,
          1
         ]
        },
        {
         "line": {
          "color": "blue",
          "width": 0.5
         },
         "mode": "markers+lines",
         "type": "scatter",
         "x": [
          0,
          -4
         ],
         "y": [
          0,
          2
         ]
        },
        {
         "line": {
          "color": "blue",
          "width": 0.5
         },
         "mode": "markers+lines",
         "type": "scatter",
         "x": [
          0,
          -4
         ],
         "y": [
          0,
          3
         ]
        },
        {
         "line": {
          "color": "blue",
          "width": 0.5
         },
         "mode": "markers+lines",
         "type": "scatter",
         "x": [
          0,
          -4
         ],
         "y": [
          0,
          4
         ]
        },
        {
         "line": {
          "color": "blue",
          "width": 0.5
         },
         "mode": "markers+lines",
         "type": "scatter",
         "x": [
          0,
          -4
         ],
         "y": [
          0,
          5
         ]
        },
        {
         "line": {
          "color": "blue",
          "width": 0.5
         },
         "mode": "markers+lines",
         "type": "scatter",
         "x": [
          0,
          -4
         ],
         "y": [
          0,
          6
         ]
        },
        {
         "line": {
          "color": "blue",
          "width": 0.5
         },
         "mode": "markers+lines",
         "type": "scatter",
         "x": [
          0,
          -4
         ],
         "y": [
          0,
          7
         ]
        },
        {
         "line": {
          "color": "blue",
          "width": 0.5
         },
         "mode": "markers+lines",
         "type": "scatter",
         "x": [
          0,
          -4
         ],
         "y": [
          0,
          8
         ]
        },
        {
         "line": {
          "color": "blue",
          "width": 0.5
         },
         "mode": "markers+lines",
         "type": "scatter",
         "x": [
          0,
          -4
         ],
         "y": [
          0,
          9
         ]
        },
        {
         "line": {
          "color": "blue",
          "width": 0.5
         },
         "mode": "markers+lines",
         "type": "scatter",
         "x": [
          0,
          -3
         ],
         "y": [
          0,
          -10
         ]
        },
        {
         "line": {
          "color": "blue",
          "width": 0.5
         },
         "mode": "markers+lines",
         "type": "scatter",
         "x": [
          0,
          -3
         ],
         "y": [
          0,
          -9
         ]
        },
        {
         "line": {
          "color": "blue",
          "width": 0.5
         },
         "mode": "markers+lines",
         "type": "scatter",
         "x": [
          0,
          -3
         ],
         "y": [
          0,
          -8
         ]
        },
        {
         "line": {
          "color": "blue",
          "width": 0.5
         },
         "mode": "markers+lines",
         "type": "scatter",
         "x": [
          0,
          -3
         ],
         "y": [
          0,
          -7
         ]
        },
        {
         "line": {
          "color": "blue",
          "width": 0.5
         },
         "mode": "markers+lines",
         "type": "scatter",
         "x": [
          0,
          -3
         ],
         "y": [
          0,
          -6
         ]
        },
        {
         "line": {
          "color": "blue",
          "width": 0.5
         },
         "mode": "markers+lines",
         "type": "scatter",
         "x": [
          0,
          -3
         ],
         "y": [
          0,
          -5
         ]
        },
        {
         "line": {
          "color": "blue",
          "width": 0.5
         },
         "mode": "markers+lines",
         "type": "scatter",
         "x": [
          0,
          -3
         ],
         "y": [
          0,
          -4
         ]
        },
        {
         "line": {
          "color": "blue",
          "width": 0.5
         },
         "mode": "markers+lines",
         "type": "scatter",
         "x": [
          0,
          -3
         ],
         "y": [
          0,
          -3
         ]
        },
        {
         "line": {
          "color": "blue",
          "width": 0.5
         },
         "mode": "markers+lines",
         "type": "scatter",
         "x": [
          0,
          -3
         ],
         "y": [
          0,
          -2
         ]
        },
        {
         "line": {
          "color": "blue",
          "width": 0.5
         },
         "mode": "markers+lines",
         "type": "scatter",
         "x": [
          0,
          -3
         ],
         "y": [
          0,
          -1
         ]
        },
        {
         "line": {
          "color": "blue",
          "width": 0.5
         },
         "mode": "markers+lines",
         "type": "scatter",
         "x": [
          0,
          -3
         ],
         "y": [
          0,
          0
         ]
        },
        {
         "line": {
          "color": "blue",
          "width": 0.5
         },
         "mode": "markers+lines",
         "type": "scatter",
         "x": [
          0,
          -3
         ],
         "y": [
          0,
          1
         ]
        },
        {
         "line": {
          "color": "blue",
          "width": 0.5
         },
         "mode": "markers+lines",
         "type": "scatter",
         "x": [
          0,
          -3
         ],
         "y": [
          0,
          2
         ]
        },
        {
         "line": {
          "color": "blue",
          "width": 0.5
         },
         "mode": "markers+lines",
         "type": "scatter",
         "x": [
          0,
          -3
         ],
         "y": [
          0,
          3
         ]
        },
        {
         "line": {
          "color": "blue",
          "width": 0.5
         },
         "mode": "markers+lines",
         "type": "scatter",
         "x": [
          0,
          -3
         ],
         "y": [
          0,
          4
         ]
        },
        {
         "line": {
          "color": "blue",
          "width": 0.5
         },
         "mode": "markers+lines",
         "type": "scatter",
         "x": [
          0,
          -3
         ],
         "y": [
          0,
          5
         ]
        },
        {
         "line": {
          "color": "blue",
          "width": 0.5
         },
         "mode": "markers+lines",
         "type": "scatter",
         "x": [
          0,
          -3
         ],
         "y": [
          0,
          6
         ]
        },
        {
         "line": {
          "color": "blue",
          "width": 0.5
         },
         "mode": "markers+lines",
         "type": "scatter",
         "x": [
          0,
          -3
         ],
         "y": [
          0,
          7
         ]
        },
        {
         "line": {
          "color": "blue",
          "width": 0.5
         },
         "mode": "markers+lines",
         "type": "scatter",
         "x": [
          0,
          -3
         ],
         "y": [
          0,
          8
         ]
        },
        {
         "line": {
          "color": "blue",
          "width": 0.5
         },
         "mode": "markers+lines",
         "type": "scatter",
         "x": [
          0,
          -3
         ],
         "y": [
          0,
          9
         ]
        },
        {
         "line": {
          "color": "blue",
          "width": 0.5
         },
         "mode": "markers+lines",
         "type": "scatter",
         "x": [
          0,
          -2
         ],
         "y": [
          0,
          -10
         ]
        },
        {
         "line": {
          "color": "blue",
          "width": 0.5
         },
         "mode": "markers+lines",
         "type": "scatter",
         "x": [
          0,
          -2
         ],
         "y": [
          0,
          -9
         ]
        },
        {
         "line": {
          "color": "blue",
          "width": 0.5
         },
         "mode": "markers+lines",
         "type": "scatter",
         "x": [
          0,
          -2
         ],
         "y": [
          0,
          -8
         ]
        },
        {
         "line": {
          "color": "blue",
          "width": 0.5
         },
         "mode": "markers+lines",
         "type": "scatter",
         "x": [
          0,
          -2
         ],
         "y": [
          0,
          -7
         ]
        },
        {
         "line": {
          "color": "blue",
          "width": 0.5
         },
         "mode": "markers+lines",
         "type": "scatter",
         "x": [
          0,
          -2
         ],
         "y": [
          0,
          -6
         ]
        },
        {
         "line": {
          "color": "blue",
          "width": 0.5
         },
         "mode": "markers+lines",
         "type": "scatter",
         "x": [
          0,
          -2
         ],
         "y": [
          0,
          -5
         ]
        },
        {
         "line": {
          "color": "blue",
          "width": 0.5
         },
         "mode": "markers+lines",
         "type": "scatter",
         "x": [
          0,
          -2
         ],
         "y": [
          0,
          -4
         ]
        },
        {
         "line": {
          "color": "blue",
          "width": 0.5
         },
         "mode": "markers+lines",
         "type": "scatter",
         "x": [
          0,
          -2
         ],
         "y": [
          0,
          -3
         ]
        },
        {
         "line": {
          "color": "blue",
          "width": 0.5
         },
         "mode": "markers+lines",
         "type": "scatter",
         "x": [
          0,
          -2
         ],
         "y": [
          0,
          -2
         ]
        },
        {
         "line": {
          "color": "blue",
          "width": 0.5
         },
         "mode": "markers+lines",
         "type": "scatter",
         "x": [
          0,
          -2
         ],
         "y": [
          0,
          -1
         ]
        },
        {
         "line": {
          "color": "blue",
          "width": 0.5
         },
         "mode": "markers+lines",
         "type": "scatter",
         "x": [
          0,
          -2
         ],
         "y": [
          0,
          0
         ]
        },
        {
         "line": {
          "color": "blue",
          "width": 0.5
         },
         "mode": "markers+lines",
         "type": "scatter",
         "x": [
          0,
          -2
         ],
         "y": [
          0,
          1
         ]
        },
        {
         "line": {
          "color": "blue",
          "width": 0.5
         },
         "mode": "markers+lines",
         "type": "scatter",
         "x": [
          0,
          -2
         ],
         "y": [
          0,
          2
         ]
        },
        {
         "line": {
          "color": "blue",
          "width": 0.5
         },
         "mode": "markers+lines",
         "type": "scatter",
         "x": [
          0,
          -2
         ],
         "y": [
          0,
          3
         ]
        },
        {
         "line": {
          "color": "blue",
          "width": 0.5
         },
         "mode": "markers+lines",
         "type": "scatter",
         "x": [
          0,
          -2
         ],
         "y": [
          0,
          4
         ]
        },
        {
         "line": {
          "color": "blue",
          "width": 0.5
         },
         "mode": "markers+lines",
         "type": "scatter",
         "x": [
          0,
          -2
         ],
         "y": [
          0,
          5
         ]
        },
        {
         "line": {
          "color": "blue",
          "width": 0.5
         },
         "mode": "markers+lines",
         "type": "scatter",
         "x": [
          0,
          -2
         ],
         "y": [
          0,
          6
         ]
        },
        {
         "line": {
          "color": "blue",
          "width": 0.5
         },
         "mode": "markers+lines",
         "type": "scatter",
         "x": [
          0,
          -2
         ],
         "y": [
          0,
          7
         ]
        },
        {
         "line": {
          "color": "blue",
          "width": 0.5
         },
         "mode": "markers+lines",
         "type": "scatter",
         "x": [
          0,
          -2
         ],
         "y": [
          0,
          8
         ]
        },
        {
         "line": {
          "color": "blue",
          "width": 0.5
         },
         "mode": "markers+lines",
         "type": "scatter",
         "x": [
          0,
          -2
         ],
         "y": [
          0,
          9
         ]
        },
        {
         "line": {
          "color": "blue",
          "width": 0.5
         },
         "mode": "markers+lines",
         "type": "scatter",
         "x": [
          0,
          -1
         ],
         "y": [
          0,
          -10
         ]
        },
        {
         "line": {
          "color": "blue",
          "width": 0.5
         },
         "mode": "markers+lines",
         "type": "scatter",
         "x": [
          0,
          -1
         ],
         "y": [
          0,
          -9
         ]
        },
        {
         "line": {
          "color": "blue",
          "width": 0.5
         },
         "mode": "markers+lines",
         "type": "scatter",
         "x": [
          0,
          -1
         ],
         "y": [
          0,
          -8
         ]
        },
        {
         "line": {
          "color": "blue",
          "width": 0.5
         },
         "mode": "markers+lines",
         "type": "scatter",
         "x": [
          0,
          -1
         ],
         "y": [
          0,
          -7
         ]
        },
        {
         "line": {
          "color": "blue",
          "width": 0.5
         },
         "mode": "markers+lines",
         "type": "scatter",
         "x": [
          0,
          -1
         ],
         "y": [
          0,
          -6
         ]
        },
        {
         "line": {
          "color": "blue",
          "width": 0.5
         },
         "mode": "markers+lines",
         "type": "scatter",
         "x": [
          0,
          -1
         ],
         "y": [
          0,
          -5
         ]
        },
        {
         "line": {
          "color": "blue",
          "width": 0.5
         },
         "mode": "markers+lines",
         "type": "scatter",
         "x": [
          0,
          -1
         ],
         "y": [
          0,
          -4
         ]
        },
        {
         "line": {
          "color": "blue",
          "width": 0.5
         },
         "mode": "markers+lines",
         "type": "scatter",
         "x": [
          0,
          -1
         ],
         "y": [
          0,
          -3
         ]
        },
        {
         "line": {
          "color": "blue",
          "width": 0.5
         },
         "mode": "markers+lines",
         "type": "scatter",
         "x": [
          0,
          -1
         ],
         "y": [
          0,
          -2
         ]
        },
        {
         "line": {
          "color": "blue",
          "width": 0.5
         },
         "mode": "markers+lines",
         "type": "scatter",
         "x": [
          0,
          -1
         ],
         "y": [
          0,
          -1
         ]
        },
        {
         "line": {
          "color": "blue",
          "width": 0.5
         },
         "mode": "markers+lines",
         "type": "scatter",
         "x": [
          0,
          -1
         ],
         "y": [
          0,
          0
         ]
        },
        {
         "line": {
          "color": "blue",
          "width": 0.5
         },
         "mode": "markers+lines",
         "type": "scatter",
         "x": [
          0,
          -1
         ],
         "y": [
          0,
          1
         ]
        },
        {
         "line": {
          "color": "blue",
          "width": 0.5
         },
         "mode": "markers+lines",
         "type": "scatter",
         "x": [
          0,
          -1
         ],
         "y": [
          0,
          2
         ]
        },
        {
         "line": {
          "color": "blue",
          "width": 0.5
         },
         "mode": "markers+lines",
         "type": "scatter",
         "x": [
          0,
          -1
         ],
         "y": [
          0,
          3
         ]
        },
        {
         "line": {
          "color": "blue",
          "width": 0.5
         },
         "mode": "markers+lines",
         "type": "scatter",
         "x": [
          0,
          -1
         ],
         "y": [
          0,
          4
         ]
        },
        {
         "line": {
          "color": "blue",
          "width": 0.5
         },
         "mode": "markers+lines",
         "type": "scatter",
         "x": [
          0,
          -1
         ],
         "y": [
          0,
          5
         ]
        },
        {
         "line": {
          "color": "blue",
          "width": 0.5
         },
         "mode": "markers+lines",
         "type": "scatter",
         "x": [
          0,
          -1
         ],
         "y": [
          0,
          6
         ]
        },
        {
         "line": {
          "color": "blue",
          "width": 0.5
         },
         "mode": "markers+lines",
         "type": "scatter",
         "x": [
          0,
          -1
         ],
         "y": [
          0,
          7
         ]
        },
        {
         "line": {
          "color": "blue",
          "width": 0.5
         },
         "mode": "markers+lines",
         "type": "scatter",
         "x": [
          0,
          -1
         ],
         "y": [
          0,
          8
         ]
        },
        {
         "line": {
          "color": "blue",
          "width": 0.5
         },
         "mode": "markers+lines",
         "type": "scatter",
         "x": [
          0,
          -1
         ],
         "y": [
          0,
          9
         ]
        },
        {
         "line": {
          "color": "blue",
          "width": 0.5
         },
         "mode": "markers+lines",
         "type": "scatter",
         "x": [
          0,
          0
         ],
         "y": [
          0,
          -10
         ]
        },
        {
         "line": {
          "color": "blue",
          "width": 0.5
         },
         "mode": "markers+lines",
         "type": "scatter",
         "x": [
          0,
          0
         ],
         "y": [
          0,
          -9
         ]
        },
        {
         "line": {
          "color": "blue",
          "width": 0.5
         },
         "mode": "markers+lines",
         "type": "scatter",
         "x": [
          0,
          0
         ],
         "y": [
          0,
          -8
         ]
        },
        {
         "line": {
          "color": "blue",
          "width": 0.5
         },
         "mode": "markers+lines",
         "type": "scatter",
         "x": [
          0,
          0
         ],
         "y": [
          0,
          -7
         ]
        },
        {
         "line": {
          "color": "blue",
          "width": 0.5
         },
         "mode": "markers+lines",
         "type": "scatter",
         "x": [
          0,
          0
         ],
         "y": [
          0,
          -6
         ]
        },
        {
         "line": {
          "color": "blue",
          "width": 0.5
         },
         "mode": "markers+lines",
         "type": "scatter",
         "x": [
          0,
          0
         ],
         "y": [
          0,
          -5
         ]
        },
        {
         "line": {
          "color": "blue",
          "width": 0.5
         },
         "mode": "markers+lines",
         "type": "scatter",
         "x": [
          0,
          0
         ],
         "y": [
          0,
          -4
         ]
        },
        {
         "line": {
          "color": "blue",
          "width": 0.5
         },
         "mode": "markers+lines",
         "type": "scatter",
         "x": [
          0,
          0
         ],
         "y": [
          0,
          -3
         ]
        },
        {
         "line": {
          "color": "blue",
          "width": 0.5
         },
         "mode": "markers+lines",
         "type": "scatter",
         "x": [
          0,
          0
         ],
         "y": [
          0,
          -2
         ]
        },
        {
         "line": {
          "color": "blue",
          "width": 0.5
         },
         "mode": "markers+lines",
         "type": "scatter",
         "x": [
          0,
          0
         ],
         "y": [
          0,
          -1
         ]
        },
        {
         "line": {
          "color": "blue",
          "width": 0.5
         },
         "mode": "markers+lines",
         "type": "scatter",
         "x": [
          0,
          0
         ],
         "y": [
          0,
          0
         ]
        },
        {
         "line": {
          "color": "blue",
          "width": 0.5
         },
         "mode": "markers+lines",
         "type": "scatter",
         "x": [
          0,
          0
         ],
         "y": [
          0,
          1
         ]
        },
        {
         "line": {
          "color": "blue",
          "width": 0.5
         },
         "mode": "markers+lines",
         "type": "scatter",
         "x": [
          0,
          0
         ],
         "y": [
          0,
          2
         ]
        },
        {
         "line": {
          "color": "blue",
          "width": 0.5
         },
         "mode": "markers+lines",
         "type": "scatter",
         "x": [
          0,
          0
         ],
         "y": [
          0,
          3
         ]
        },
        {
         "line": {
          "color": "blue",
          "width": 0.5
         },
         "mode": "markers+lines",
         "type": "scatter",
         "x": [
          0,
          0
         ],
         "y": [
          0,
          4
         ]
        },
        {
         "line": {
          "color": "blue",
          "width": 0.5
         },
         "mode": "markers+lines",
         "type": "scatter",
         "x": [
          0,
          0
         ],
         "y": [
          0,
          5
         ]
        },
        {
         "line": {
          "color": "blue",
          "width": 0.5
         },
         "mode": "markers+lines",
         "type": "scatter",
         "x": [
          0,
          0
         ],
         "y": [
          0,
          6
         ]
        },
        {
         "line": {
          "color": "blue",
          "width": 0.5
         },
         "mode": "markers+lines",
         "type": "scatter",
         "x": [
          0,
          0
         ],
         "y": [
          0,
          7
         ]
        },
        {
         "line": {
          "color": "blue",
          "width": 0.5
         },
         "mode": "markers+lines",
         "type": "scatter",
         "x": [
          0,
          0
         ],
         "y": [
          0,
          8
         ]
        },
        {
         "line": {
          "color": "blue",
          "width": 0.5
         },
         "mode": "markers+lines",
         "type": "scatter",
         "x": [
          0,
          0
         ],
         "y": [
          0,
          9
         ]
        },
        {
         "line": {
          "color": "blue",
          "width": 0.5
         },
         "mode": "markers+lines",
         "type": "scatter",
         "x": [
          0,
          1
         ],
         "y": [
          0,
          -10
         ]
        },
        {
         "line": {
          "color": "blue",
          "width": 0.5
         },
         "mode": "markers+lines",
         "type": "scatter",
         "x": [
          0,
          1
         ],
         "y": [
          0,
          -9
         ]
        },
        {
         "line": {
          "color": "blue",
          "width": 0.5
         },
         "mode": "markers+lines",
         "type": "scatter",
         "x": [
          0,
          1
         ],
         "y": [
          0,
          -8
         ]
        },
        {
         "line": {
          "color": "blue",
          "width": 0.5
         },
         "mode": "markers+lines",
         "type": "scatter",
         "x": [
          0,
          1
         ],
         "y": [
          0,
          -7
         ]
        },
        {
         "line": {
          "color": "blue",
          "width": 0.5
         },
         "mode": "markers+lines",
         "type": "scatter",
         "x": [
          0,
          1
         ],
         "y": [
          0,
          -6
         ]
        },
        {
         "line": {
          "color": "blue",
          "width": 0.5
         },
         "mode": "markers+lines",
         "type": "scatter",
         "x": [
          0,
          1
         ],
         "y": [
          0,
          -5
         ]
        },
        {
         "line": {
          "color": "blue",
          "width": 0.5
         },
         "mode": "markers+lines",
         "type": "scatter",
         "x": [
          0,
          1
         ],
         "y": [
          0,
          -4
         ]
        },
        {
         "line": {
          "color": "blue",
          "width": 0.5
         },
         "mode": "markers+lines",
         "type": "scatter",
         "x": [
          0,
          1
         ],
         "y": [
          0,
          -3
         ]
        },
        {
         "line": {
          "color": "blue",
          "width": 0.5
         },
         "mode": "markers+lines",
         "type": "scatter",
         "x": [
          0,
          1
         ],
         "y": [
          0,
          -2
         ]
        },
        {
         "line": {
          "color": "blue",
          "width": 0.5
         },
         "mode": "markers+lines",
         "type": "scatter",
         "x": [
          0,
          1
         ],
         "y": [
          0,
          -1
         ]
        },
        {
         "line": {
          "color": "blue",
          "width": 0.5
         },
         "mode": "markers+lines",
         "type": "scatter",
         "x": [
          0,
          1
         ],
         "y": [
          0,
          0
         ]
        },
        {
         "line": {
          "color": "blue",
          "width": 0.5
         },
         "mode": "markers+lines",
         "type": "scatter",
         "x": [
          0,
          1
         ],
         "y": [
          0,
          1
         ]
        },
        {
         "line": {
          "color": "blue",
          "width": 0.5
         },
         "mode": "markers+lines",
         "type": "scatter",
         "x": [
          0,
          1
         ],
         "y": [
          0,
          2
         ]
        },
        {
         "line": {
          "color": "blue",
          "width": 0.5
         },
         "mode": "markers+lines",
         "type": "scatter",
         "x": [
          0,
          1
         ],
         "y": [
          0,
          3
         ]
        },
        {
         "line": {
          "color": "blue",
          "width": 0.5
         },
         "mode": "markers+lines",
         "type": "scatter",
         "x": [
          0,
          1
         ],
         "y": [
          0,
          4
         ]
        },
        {
         "line": {
          "color": "blue",
          "width": 0.5
         },
         "mode": "markers+lines",
         "type": "scatter",
         "x": [
          0,
          1
         ],
         "y": [
          0,
          5
         ]
        },
        {
         "line": {
          "color": "blue",
          "width": 0.5
         },
         "mode": "markers+lines",
         "type": "scatter",
         "x": [
          0,
          1
         ],
         "y": [
          0,
          6
         ]
        },
        {
         "line": {
          "color": "blue",
          "width": 0.5
         },
         "mode": "markers+lines",
         "type": "scatter",
         "x": [
          0,
          1
         ],
         "y": [
          0,
          7
         ]
        },
        {
         "line": {
          "color": "blue",
          "width": 0.5
         },
         "mode": "markers+lines",
         "type": "scatter",
         "x": [
          0,
          1
         ],
         "y": [
          0,
          8
         ]
        },
        {
         "line": {
          "color": "blue",
          "width": 0.5
         },
         "mode": "markers+lines",
         "type": "scatter",
         "x": [
          0,
          1
         ],
         "y": [
          0,
          9
         ]
        },
        {
         "line": {
          "color": "blue",
          "width": 0.5
         },
         "mode": "markers+lines",
         "type": "scatter",
         "x": [
          0,
          2
         ],
         "y": [
          0,
          -10
         ]
        },
        {
         "line": {
          "color": "blue",
          "width": 0.5
         },
         "mode": "markers+lines",
         "type": "scatter",
         "x": [
          0,
          2
         ],
         "y": [
          0,
          -9
         ]
        },
        {
         "line": {
          "color": "blue",
          "width": 0.5
         },
         "mode": "markers+lines",
         "type": "scatter",
         "x": [
          0,
          2
         ],
         "y": [
          0,
          -8
         ]
        },
        {
         "line": {
          "color": "blue",
          "width": 0.5
         },
         "mode": "markers+lines",
         "type": "scatter",
         "x": [
          0,
          2
         ],
         "y": [
          0,
          -7
         ]
        },
        {
         "line": {
          "color": "blue",
          "width": 0.5
         },
         "mode": "markers+lines",
         "type": "scatter",
         "x": [
          0,
          2
         ],
         "y": [
          0,
          -6
         ]
        },
        {
         "line": {
          "color": "blue",
          "width": 0.5
         },
         "mode": "markers+lines",
         "type": "scatter",
         "x": [
          0,
          2
         ],
         "y": [
          0,
          -5
         ]
        },
        {
         "line": {
          "color": "blue",
          "width": 0.5
         },
         "mode": "markers+lines",
         "type": "scatter",
         "x": [
          0,
          2
         ],
         "y": [
          0,
          -4
         ]
        },
        {
         "line": {
          "color": "blue",
          "width": 0.5
         },
         "mode": "markers+lines",
         "type": "scatter",
         "x": [
          0,
          2
         ],
         "y": [
          0,
          -3
         ]
        },
        {
         "line": {
          "color": "blue",
          "width": 0.5
         },
         "mode": "markers+lines",
         "type": "scatter",
         "x": [
          0,
          2
         ],
         "y": [
          0,
          -2
         ]
        },
        {
         "line": {
          "color": "blue",
          "width": 0.5
         },
         "mode": "markers+lines",
         "type": "scatter",
         "x": [
          0,
          2
         ],
         "y": [
          0,
          -1
         ]
        },
        {
         "line": {
          "color": "blue",
          "width": 0.5
         },
         "mode": "markers+lines",
         "type": "scatter",
         "x": [
          0,
          2
         ],
         "y": [
          0,
          0
         ]
        },
        {
         "line": {
          "color": "blue",
          "width": 0.5
         },
         "mode": "markers+lines",
         "type": "scatter",
         "x": [
          0,
          2
         ],
         "y": [
          0,
          1
         ]
        },
        {
         "line": {
          "color": "blue",
          "width": 0.5
         },
         "mode": "markers+lines",
         "type": "scatter",
         "x": [
          0,
          2
         ],
         "y": [
          0,
          2
         ]
        },
        {
         "line": {
          "color": "blue",
          "width": 0.5
         },
         "mode": "markers+lines",
         "type": "scatter",
         "x": [
          0,
          2
         ],
         "y": [
          0,
          3
         ]
        },
        {
         "line": {
          "color": "blue",
          "width": 0.5
         },
         "mode": "markers+lines",
         "type": "scatter",
         "x": [
          0,
          2
         ],
         "y": [
          0,
          4
         ]
        },
        {
         "line": {
          "color": "blue",
          "width": 0.5
         },
         "mode": "markers+lines",
         "type": "scatter",
         "x": [
          0,
          2
         ],
         "y": [
          0,
          5
         ]
        },
        {
         "line": {
          "color": "blue",
          "width": 0.5
         },
         "mode": "markers+lines",
         "type": "scatter",
         "x": [
          0,
          2
         ],
         "y": [
          0,
          6
         ]
        },
        {
         "line": {
          "color": "blue",
          "width": 0.5
         },
         "mode": "markers+lines",
         "type": "scatter",
         "x": [
          0,
          2
         ],
         "y": [
          0,
          7
         ]
        },
        {
         "line": {
          "color": "blue",
          "width": 0.5
         },
         "mode": "markers+lines",
         "type": "scatter",
         "x": [
          0,
          2
         ],
         "y": [
          0,
          8
         ]
        },
        {
         "line": {
          "color": "blue",
          "width": 0.5
         },
         "mode": "markers+lines",
         "type": "scatter",
         "x": [
          0,
          2
         ],
         "y": [
          0,
          9
         ]
        },
        {
         "line": {
          "color": "blue",
          "width": 0.5
         },
         "mode": "markers+lines",
         "type": "scatter",
         "x": [
          0,
          3
         ],
         "y": [
          0,
          -10
         ]
        },
        {
         "line": {
          "color": "blue",
          "width": 0.5
         },
         "mode": "markers+lines",
         "type": "scatter",
         "x": [
          0,
          3
         ],
         "y": [
          0,
          -9
         ]
        },
        {
         "line": {
          "color": "blue",
          "width": 0.5
         },
         "mode": "markers+lines",
         "type": "scatter",
         "x": [
          0,
          3
         ],
         "y": [
          0,
          -8
         ]
        },
        {
         "line": {
          "color": "blue",
          "width": 0.5
         },
         "mode": "markers+lines",
         "type": "scatter",
         "x": [
          0,
          3
         ],
         "y": [
          0,
          -7
         ]
        },
        {
         "line": {
          "color": "blue",
          "width": 0.5
         },
         "mode": "markers+lines",
         "type": "scatter",
         "x": [
          0,
          3
         ],
         "y": [
          0,
          -6
         ]
        },
        {
         "line": {
          "color": "blue",
          "width": 0.5
         },
         "mode": "markers+lines",
         "type": "scatter",
         "x": [
          0,
          3
         ],
         "y": [
          0,
          -5
         ]
        },
        {
         "line": {
          "color": "blue",
          "width": 0.5
         },
         "mode": "markers+lines",
         "type": "scatter",
         "x": [
          0,
          3
         ],
         "y": [
          0,
          -4
         ]
        },
        {
         "line": {
          "color": "blue",
          "width": 0.5
         },
         "mode": "markers+lines",
         "type": "scatter",
         "x": [
          0,
          3
         ],
         "y": [
          0,
          -3
         ]
        },
        {
         "line": {
          "color": "blue",
          "width": 0.5
         },
         "mode": "markers+lines",
         "type": "scatter",
         "x": [
          0,
          3
         ],
         "y": [
          0,
          -2
         ]
        },
        {
         "line": {
          "color": "blue",
          "width": 0.5
         },
         "mode": "markers+lines",
         "type": "scatter",
         "x": [
          0,
          3
         ],
         "y": [
          0,
          -1
         ]
        },
        {
         "line": {
          "color": "blue",
          "width": 0.5
         },
         "mode": "markers+lines",
         "type": "scatter",
         "x": [
          0,
          3
         ],
         "y": [
          0,
          0
         ]
        },
        {
         "line": {
          "color": "blue",
          "width": 0.5
         },
         "mode": "markers+lines",
         "type": "scatter",
         "x": [
          0,
          3
         ],
         "y": [
          0,
          1
         ]
        },
        {
         "line": {
          "color": "blue",
          "width": 0.5
         },
         "mode": "markers+lines",
         "type": "scatter",
         "x": [
          0,
          3
         ],
         "y": [
          0,
          2
         ]
        },
        {
         "line": {
          "color": "blue",
          "width": 0.5
         },
         "mode": "markers+lines",
         "type": "scatter",
         "x": [
          0,
          3
         ],
         "y": [
          0,
          3
         ]
        },
        {
         "line": {
          "color": "blue",
          "width": 0.5
         },
         "mode": "markers+lines",
         "type": "scatter",
         "x": [
          0,
          3
         ],
         "y": [
          0,
          4
         ]
        },
        {
         "line": {
          "color": "blue",
          "width": 0.5
         },
         "mode": "markers+lines",
         "type": "scatter",
         "x": [
          0,
          3
         ],
         "y": [
          0,
          5
         ]
        },
        {
         "line": {
          "color": "blue",
          "width": 0.5
         },
         "mode": "markers+lines",
         "type": "scatter",
         "x": [
          0,
          3
         ],
         "y": [
          0,
          6
         ]
        },
        {
         "line": {
          "color": "blue",
          "width": 0.5
         },
         "mode": "markers+lines",
         "type": "scatter",
         "x": [
          0,
          3
         ],
         "y": [
          0,
          7
         ]
        },
        {
         "line": {
          "color": "blue",
          "width": 0.5
         },
         "mode": "markers+lines",
         "type": "scatter",
         "x": [
          0,
          3
         ],
         "y": [
          0,
          8
         ]
        },
        {
         "line": {
          "color": "blue",
          "width": 0.5
         },
         "mode": "markers+lines",
         "type": "scatter",
         "x": [
          0,
          3
         ],
         "y": [
          0,
          9
         ]
        },
        {
         "line": {
          "color": "blue",
          "width": 0.5
         },
         "mode": "markers+lines",
         "type": "scatter",
         "x": [
          0,
          4
         ],
         "y": [
          0,
          -10
         ]
        },
        {
         "line": {
          "color": "blue",
          "width": 0.5
         },
         "mode": "markers+lines",
         "type": "scatter",
         "x": [
          0,
          4
         ],
         "y": [
          0,
          -9
         ]
        },
        {
         "line": {
          "color": "blue",
          "width": 0.5
         },
         "mode": "markers+lines",
         "type": "scatter",
         "x": [
          0,
          4
         ],
         "y": [
          0,
          -8
         ]
        },
        {
         "line": {
          "color": "blue",
          "width": 0.5
         },
         "mode": "markers+lines",
         "type": "scatter",
         "x": [
          0,
          4
         ],
         "y": [
          0,
          -7
         ]
        },
        {
         "line": {
          "color": "blue",
          "width": 0.5
         },
         "mode": "markers+lines",
         "type": "scatter",
         "x": [
          0,
          4
         ],
         "y": [
          0,
          -6
         ]
        },
        {
         "line": {
          "color": "blue",
          "width": 0.5
         },
         "mode": "markers+lines",
         "type": "scatter",
         "x": [
          0,
          4
         ],
         "y": [
          0,
          -5
         ]
        },
        {
         "line": {
          "color": "blue",
          "width": 0.5
         },
         "mode": "markers+lines",
         "type": "scatter",
         "x": [
          0,
          4
         ],
         "y": [
          0,
          -4
         ]
        },
        {
         "line": {
          "color": "blue",
          "width": 0.5
         },
         "mode": "markers+lines",
         "type": "scatter",
         "x": [
          0,
          4
         ],
         "y": [
          0,
          -3
         ]
        },
        {
         "line": {
          "color": "blue",
          "width": 0.5
         },
         "mode": "markers+lines",
         "type": "scatter",
         "x": [
          0,
          4
         ],
         "y": [
          0,
          -2
         ]
        },
        {
         "line": {
          "color": "blue",
          "width": 0.5
         },
         "mode": "markers+lines",
         "type": "scatter",
         "x": [
          0,
          4
         ],
         "y": [
          0,
          -1
         ]
        },
        {
         "line": {
          "color": "blue",
          "width": 0.5
         },
         "mode": "markers+lines",
         "type": "scatter",
         "x": [
          0,
          4
         ],
         "y": [
          0,
          0
         ]
        },
        {
         "line": {
          "color": "blue",
          "width": 0.5
         },
         "mode": "markers+lines",
         "type": "scatter",
         "x": [
          0,
          4
         ],
         "y": [
          0,
          1
         ]
        },
        {
         "line": {
          "color": "blue",
          "width": 0.5
         },
         "mode": "markers+lines",
         "type": "scatter",
         "x": [
          0,
          4
         ],
         "y": [
          0,
          2
         ]
        },
        {
         "line": {
          "color": "blue",
          "width": 0.5
         },
         "mode": "markers+lines",
         "type": "scatter",
         "x": [
          0,
          4
         ],
         "y": [
          0,
          3
         ]
        },
        {
         "line": {
          "color": "blue",
          "width": 0.5
         },
         "mode": "markers+lines",
         "type": "scatter",
         "x": [
          0,
          4
         ],
         "y": [
          0,
          4
         ]
        },
        {
         "line": {
          "color": "blue",
          "width": 0.5
         },
         "mode": "markers+lines",
         "type": "scatter",
         "x": [
          0,
          4
         ],
         "y": [
          0,
          5
         ]
        },
        {
         "line": {
          "color": "blue",
          "width": 0.5
         },
         "mode": "markers+lines",
         "type": "scatter",
         "x": [
          0,
          4
         ],
         "y": [
          0,
          6
         ]
        },
        {
         "line": {
          "color": "blue",
          "width": 0.5
         },
         "mode": "markers+lines",
         "type": "scatter",
         "x": [
          0,
          4
         ],
         "y": [
          0,
          7
         ]
        },
        {
         "line": {
          "color": "blue",
          "width": 0.5
         },
         "mode": "markers+lines",
         "type": "scatter",
         "x": [
          0,
          4
         ],
         "y": [
          0,
          8
         ]
        },
        {
         "line": {
          "color": "blue",
          "width": 0.5
         },
         "mode": "markers+lines",
         "type": "scatter",
         "x": [
          0,
          4
         ],
         "y": [
          0,
          9
         ]
        },
        {
         "line": {
          "color": "blue",
          "width": 0.5
         },
         "mode": "markers+lines",
         "type": "scatter",
         "x": [
          0,
          5
         ],
         "y": [
          0,
          -10
         ]
        },
        {
         "line": {
          "color": "blue",
          "width": 0.5
         },
         "mode": "markers+lines",
         "type": "scatter",
         "x": [
          0,
          5
         ],
         "y": [
          0,
          -9
         ]
        },
        {
         "line": {
          "color": "blue",
          "width": 0.5
         },
         "mode": "markers+lines",
         "type": "scatter",
         "x": [
          0,
          5
         ],
         "y": [
          0,
          -8
         ]
        },
        {
         "line": {
          "color": "blue",
          "width": 0.5
         },
         "mode": "markers+lines",
         "type": "scatter",
         "x": [
          0,
          5
         ],
         "y": [
          0,
          -7
         ]
        },
        {
         "line": {
          "color": "blue",
          "width": 0.5
         },
         "mode": "markers+lines",
         "type": "scatter",
         "x": [
          0,
          5
         ],
         "y": [
          0,
          -6
         ]
        },
        {
         "line": {
          "color": "blue",
          "width": 0.5
         },
         "mode": "markers+lines",
         "type": "scatter",
         "x": [
          0,
          5
         ],
         "y": [
          0,
          -5
         ]
        },
        {
         "line": {
          "color": "blue",
          "width": 0.5
         },
         "mode": "markers+lines",
         "type": "scatter",
         "x": [
          0,
          5
         ],
         "y": [
          0,
          -4
         ]
        },
        {
         "line": {
          "color": "blue",
          "width": 0.5
         },
         "mode": "markers+lines",
         "type": "scatter",
         "x": [
          0,
          5
         ],
         "y": [
          0,
          -3
         ]
        },
        {
         "line": {
          "color": "blue",
          "width": 0.5
         },
         "mode": "markers+lines",
         "type": "scatter",
         "x": [
          0,
          5
         ],
         "y": [
          0,
          -2
         ]
        },
        {
         "line": {
          "color": "blue",
          "width": 0.5
         },
         "mode": "markers+lines",
         "type": "scatter",
         "x": [
          0,
          5
         ],
         "y": [
          0,
          -1
         ]
        },
        {
         "line": {
          "color": "blue",
          "width": 0.5
         },
         "mode": "markers+lines",
         "type": "scatter",
         "x": [
          0,
          5
         ],
         "y": [
          0,
          0
         ]
        },
        {
         "line": {
          "color": "blue",
          "width": 0.5
         },
         "mode": "markers+lines",
         "type": "scatter",
         "x": [
          0,
          5
         ],
         "y": [
          0,
          1
         ]
        },
        {
         "line": {
          "color": "blue",
          "width": 0.5
         },
         "mode": "markers+lines",
         "type": "scatter",
         "x": [
          0,
          5
         ],
         "y": [
          0,
          2
         ]
        },
        {
         "line": {
          "color": "blue",
          "width": 0.5
         },
         "mode": "markers+lines",
         "type": "scatter",
         "x": [
          0,
          5
         ],
         "y": [
          0,
          3
         ]
        },
        {
         "line": {
          "color": "blue",
          "width": 0.5
         },
         "mode": "markers+lines",
         "type": "scatter",
         "x": [
          0,
          5
         ],
         "y": [
          0,
          4
         ]
        },
        {
         "line": {
          "color": "blue",
          "width": 0.5
         },
         "mode": "markers+lines",
         "type": "scatter",
         "x": [
          0,
          5
         ],
         "y": [
          0,
          5
         ]
        },
        {
         "line": {
          "color": "blue",
          "width": 0.5
         },
         "mode": "markers+lines",
         "type": "scatter",
         "x": [
          0,
          5
         ],
         "y": [
          0,
          6
         ]
        },
        {
         "line": {
          "color": "blue",
          "width": 0.5
         },
         "mode": "markers+lines",
         "type": "scatter",
         "x": [
          0,
          5
         ],
         "y": [
          0,
          7
         ]
        },
        {
         "line": {
          "color": "blue",
          "width": 0.5
         },
         "mode": "markers+lines",
         "type": "scatter",
         "x": [
          0,
          5
         ],
         "y": [
          0,
          8
         ]
        },
        {
         "line": {
          "color": "blue",
          "width": 0.5
         },
         "mode": "markers+lines",
         "type": "scatter",
         "x": [
          0,
          5
         ],
         "y": [
          0,
          9
         ]
        },
        {
         "line": {
          "color": "blue",
          "width": 0.5
         },
         "mode": "markers+lines",
         "type": "scatter",
         "x": [
          0,
          6
         ],
         "y": [
          0,
          -10
         ]
        },
        {
         "line": {
          "color": "blue",
          "width": 0.5
         },
         "mode": "markers+lines",
         "type": "scatter",
         "x": [
          0,
          6
         ],
         "y": [
          0,
          -9
         ]
        },
        {
         "line": {
          "color": "blue",
          "width": 0.5
         },
         "mode": "markers+lines",
         "type": "scatter",
         "x": [
          0,
          6
         ],
         "y": [
          0,
          -8
         ]
        },
        {
         "line": {
          "color": "blue",
          "width": 0.5
         },
         "mode": "markers+lines",
         "type": "scatter",
         "x": [
          0,
          6
         ],
         "y": [
          0,
          -7
         ]
        },
        {
         "line": {
          "color": "blue",
          "width": 0.5
         },
         "mode": "markers+lines",
         "type": "scatter",
         "x": [
          0,
          6
         ],
         "y": [
          0,
          -6
         ]
        },
        {
         "line": {
          "color": "blue",
          "width": 0.5
         },
         "mode": "markers+lines",
         "type": "scatter",
         "x": [
          0,
          6
         ],
         "y": [
          0,
          -5
         ]
        },
        {
         "line": {
          "color": "blue",
          "width": 0.5
         },
         "mode": "markers+lines",
         "type": "scatter",
         "x": [
          0,
          6
         ],
         "y": [
          0,
          -4
         ]
        },
        {
         "line": {
          "color": "blue",
          "width": 0.5
         },
         "mode": "markers+lines",
         "type": "scatter",
         "x": [
          0,
          6
         ],
         "y": [
          0,
          -3
         ]
        },
        {
         "line": {
          "color": "blue",
          "width": 0.5
         },
         "mode": "markers+lines",
         "type": "scatter",
         "x": [
          0,
          6
         ],
         "y": [
          0,
          -2
         ]
        },
        {
         "line": {
          "color": "blue",
          "width": 0.5
         },
         "mode": "markers+lines",
         "type": "scatter",
         "x": [
          0,
          6
         ],
         "y": [
          0,
          -1
         ]
        },
        {
         "line": {
          "color": "blue",
          "width": 0.5
         },
         "mode": "markers+lines",
         "type": "scatter",
         "x": [
          0,
          6
         ],
         "y": [
          0,
          0
         ]
        },
        {
         "line": {
          "color": "blue",
          "width": 0.5
         },
         "mode": "markers+lines",
         "type": "scatter",
         "x": [
          0,
          6
         ],
         "y": [
          0,
          1
         ]
        },
        {
         "line": {
          "color": "blue",
          "width": 0.5
         },
         "mode": "markers+lines",
         "type": "scatter",
         "x": [
          0,
          6
         ],
         "y": [
          0,
          2
         ]
        },
        {
         "line": {
          "color": "blue",
          "width": 0.5
         },
         "mode": "markers+lines",
         "type": "scatter",
         "x": [
          0,
          6
         ],
         "y": [
          0,
          3
         ]
        },
        {
         "line": {
          "color": "blue",
          "width": 0.5
         },
         "mode": "markers+lines",
         "type": "scatter",
         "x": [
          0,
          6
         ],
         "y": [
          0,
          4
         ]
        },
        {
         "line": {
          "color": "blue",
          "width": 0.5
         },
         "mode": "markers+lines",
         "type": "scatter",
         "x": [
          0,
          6
         ],
         "y": [
          0,
          5
         ]
        },
        {
         "line": {
          "color": "blue",
          "width": 0.5
         },
         "mode": "markers+lines",
         "type": "scatter",
         "x": [
          0,
          6
         ],
         "y": [
          0,
          6
         ]
        },
        {
         "line": {
          "color": "blue",
          "width": 0.5
         },
         "mode": "markers+lines",
         "type": "scatter",
         "x": [
          0,
          6
         ],
         "y": [
          0,
          7
         ]
        },
        {
         "line": {
          "color": "blue",
          "width": 0.5
         },
         "mode": "markers+lines",
         "type": "scatter",
         "x": [
          0,
          6
         ],
         "y": [
          0,
          8
         ]
        },
        {
         "line": {
          "color": "blue",
          "width": 0.5
         },
         "mode": "markers+lines",
         "type": "scatter",
         "x": [
          0,
          6
         ],
         "y": [
          0,
          9
         ]
        },
        {
         "line": {
          "color": "blue",
          "width": 0.5
         },
         "mode": "markers+lines",
         "type": "scatter",
         "x": [
          0,
          7
         ],
         "y": [
          0,
          -10
         ]
        },
        {
         "line": {
          "color": "blue",
          "width": 0.5
         },
         "mode": "markers+lines",
         "type": "scatter",
         "x": [
          0,
          7
         ],
         "y": [
          0,
          -9
         ]
        },
        {
         "line": {
          "color": "blue",
          "width": 0.5
         },
         "mode": "markers+lines",
         "type": "scatter",
         "x": [
          0,
          7
         ],
         "y": [
          0,
          -8
         ]
        },
        {
         "line": {
          "color": "blue",
          "width": 0.5
         },
         "mode": "markers+lines",
         "type": "scatter",
         "x": [
          0,
          7
         ],
         "y": [
          0,
          -7
         ]
        },
        {
         "line": {
          "color": "blue",
          "width": 0.5
         },
         "mode": "markers+lines",
         "type": "scatter",
         "x": [
          0,
          7
         ],
         "y": [
          0,
          -6
         ]
        },
        {
         "line": {
          "color": "blue",
          "width": 0.5
         },
         "mode": "markers+lines",
         "type": "scatter",
         "x": [
          0,
          7
         ],
         "y": [
          0,
          -5
         ]
        },
        {
         "line": {
          "color": "blue",
          "width": 0.5
         },
         "mode": "markers+lines",
         "type": "scatter",
         "x": [
          0,
          7
         ],
         "y": [
          0,
          -4
         ]
        },
        {
         "line": {
          "color": "blue",
          "width": 0.5
         },
         "mode": "markers+lines",
         "type": "scatter",
         "x": [
          0,
          7
         ],
         "y": [
          0,
          -3
         ]
        },
        {
         "line": {
          "color": "blue",
          "width": 0.5
         },
         "mode": "markers+lines",
         "type": "scatter",
         "x": [
          0,
          7
         ],
         "y": [
          0,
          -2
         ]
        },
        {
         "line": {
          "color": "blue",
          "width": 0.5
         },
         "mode": "markers+lines",
         "type": "scatter",
         "x": [
          0,
          7
         ],
         "y": [
          0,
          -1
         ]
        },
        {
         "line": {
          "color": "blue",
          "width": 0.5
         },
         "mode": "markers+lines",
         "type": "scatter",
         "x": [
          0,
          7
         ],
         "y": [
          0,
          0
         ]
        },
        {
         "line": {
          "color": "blue",
          "width": 0.5
         },
         "mode": "markers+lines",
         "type": "scatter",
         "x": [
          0,
          7
         ],
         "y": [
          0,
          1
         ]
        },
        {
         "line": {
          "color": "blue",
          "width": 0.5
         },
         "mode": "markers+lines",
         "type": "scatter",
         "x": [
          0,
          7
         ],
         "y": [
          0,
          2
         ]
        },
        {
         "line": {
          "color": "blue",
          "width": 0.5
         },
         "mode": "markers+lines",
         "type": "scatter",
         "x": [
          0,
          7
         ],
         "y": [
          0,
          3
         ]
        },
        {
         "line": {
          "color": "blue",
          "width": 0.5
         },
         "mode": "markers+lines",
         "type": "scatter",
         "x": [
          0,
          7
         ],
         "y": [
          0,
          4
         ]
        },
        {
         "line": {
          "color": "blue",
          "width": 0.5
         },
         "mode": "markers+lines",
         "type": "scatter",
         "x": [
          0,
          7
         ],
         "y": [
          0,
          5
         ]
        },
        {
         "line": {
          "color": "blue",
          "width": 0.5
         },
         "mode": "markers+lines",
         "type": "scatter",
         "x": [
          0,
          7
         ],
         "y": [
          0,
          6
         ]
        },
        {
         "line": {
          "color": "blue",
          "width": 0.5
         },
         "mode": "markers+lines",
         "type": "scatter",
         "x": [
          0,
          7
         ],
         "y": [
          0,
          7
         ]
        },
        {
         "line": {
          "color": "blue",
          "width": 0.5
         },
         "mode": "markers+lines",
         "type": "scatter",
         "x": [
          0,
          7
         ],
         "y": [
          0,
          8
         ]
        },
        {
         "line": {
          "color": "blue",
          "width": 0.5
         },
         "mode": "markers+lines",
         "type": "scatter",
         "x": [
          0,
          7
         ],
         "y": [
          0,
          9
         ]
        },
        {
         "line": {
          "color": "blue",
          "width": 0.5
         },
         "mode": "markers+lines",
         "type": "scatter",
         "x": [
          0,
          8
         ],
         "y": [
          0,
          -10
         ]
        },
        {
         "line": {
          "color": "blue",
          "width": 0.5
         },
         "mode": "markers+lines",
         "type": "scatter",
         "x": [
          0,
          8
         ],
         "y": [
          0,
          -9
         ]
        },
        {
         "line": {
          "color": "blue",
          "width": 0.5
         },
         "mode": "markers+lines",
         "type": "scatter",
         "x": [
          0,
          8
         ],
         "y": [
          0,
          -8
         ]
        },
        {
         "line": {
          "color": "blue",
          "width": 0.5
         },
         "mode": "markers+lines",
         "type": "scatter",
         "x": [
          0,
          8
         ],
         "y": [
          0,
          -7
         ]
        },
        {
         "line": {
          "color": "blue",
          "width": 0.5
         },
         "mode": "markers+lines",
         "type": "scatter",
         "x": [
          0,
          8
         ],
         "y": [
          0,
          -6
         ]
        },
        {
         "line": {
          "color": "blue",
          "width": 0.5
         },
         "mode": "markers+lines",
         "type": "scatter",
         "x": [
          0,
          8
         ],
         "y": [
          0,
          -5
         ]
        },
        {
         "line": {
          "color": "blue",
          "width": 0.5
         },
         "mode": "markers+lines",
         "type": "scatter",
         "x": [
          0,
          8
         ],
         "y": [
          0,
          -4
         ]
        },
        {
         "line": {
          "color": "blue",
          "width": 0.5
         },
         "mode": "markers+lines",
         "type": "scatter",
         "x": [
          0,
          8
         ],
         "y": [
          0,
          -3
         ]
        },
        {
         "line": {
          "color": "blue",
          "width": 0.5
         },
         "mode": "markers+lines",
         "type": "scatter",
         "x": [
          0,
          8
         ],
         "y": [
          0,
          -2
         ]
        },
        {
         "line": {
          "color": "blue",
          "width": 0.5
         },
         "mode": "markers+lines",
         "type": "scatter",
         "x": [
          0,
          8
         ],
         "y": [
          0,
          -1
         ]
        },
        {
         "line": {
          "color": "blue",
          "width": 0.5
         },
         "mode": "markers+lines",
         "type": "scatter",
         "x": [
          0,
          8
         ],
         "y": [
          0,
          0
         ]
        },
        {
         "line": {
          "color": "blue",
          "width": 0.5
         },
         "mode": "markers+lines",
         "type": "scatter",
         "x": [
          0,
          8
         ],
         "y": [
          0,
          1
         ]
        },
        {
         "line": {
          "color": "blue",
          "width": 0.5
         },
         "mode": "markers+lines",
         "type": "scatter",
         "x": [
          0,
          8
         ],
         "y": [
          0,
          2
         ]
        },
        {
         "line": {
          "color": "blue",
          "width": 0.5
         },
         "mode": "markers+lines",
         "type": "scatter",
         "x": [
          0,
          8
         ],
         "y": [
          0,
          3
         ]
        },
        {
         "line": {
          "color": "blue",
          "width": 0.5
         },
         "mode": "markers+lines",
         "type": "scatter",
         "x": [
          0,
          8
         ],
         "y": [
          0,
          4
         ]
        },
        {
         "line": {
          "color": "blue",
          "width": 0.5
         },
         "mode": "markers+lines",
         "type": "scatter",
         "x": [
          0,
          8
         ],
         "y": [
          0,
          5
         ]
        },
        {
         "line": {
          "color": "blue",
          "width": 0.5
         },
         "mode": "markers+lines",
         "type": "scatter",
         "x": [
          0,
          8
         ],
         "y": [
          0,
          6
         ]
        },
        {
         "line": {
          "color": "blue",
          "width": 0.5
         },
         "mode": "markers+lines",
         "type": "scatter",
         "x": [
          0,
          8
         ],
         "y": [
          0,
          7
         ]
        },
        {
         "line": {
          "color": "blue",
          "width": 0.5
         },
         "mode": "markers+lines",
         "type": "scatter",
         "x": [
          0,
          8
         ],
         "y": [
          0,
          8
         ]
        },
        {
         "line": {
          "color": "blue",
          "width": 0.5
         },
         "mode": "markers+lines",
         "type": "scatter",
         "x": [
          0,
          8
         ],
         "y": [
          0,
          9
         ]
        },
        {
         "line": {
          "color": "blue",
          "width": 0.5
         },
         "mode": "markers+lines",
         "type": "scatter",
         "x": [
          0,
          9
         ],
         "y": [
          0,
          -10
         ]
        },
        {
         "line": {
          "color": "blue",
          "width": 0.5
         },
         "mode": "markers+lines",
         "type": "scatter",
         "x": [
          0,
          9
         ],
         "y": [
          0,
          -9
         ]
        },
        {
         "line": {
          "color": "blue",
          "width": 0.5
         },
         "mode": "markers+lines",
         "type": "scatter",
         "x": [
          0,
          9
         ],
         "y": [
          0,
          -8
         ]
        },
        {
         "line": {
          "color": "blue",
          "width": 0.5
         },
         "mode": "markers+lines",
         "type": "scatter",
         "x": [
          0,
          9
         ],
         "y": [
          0,
          -7
         ]
        },
        {
         "line": {
          "color": "blue",
          "width": 0.5
         },
         "mode": "markers+lines",
         "type": "scatter",
         "x": [
          0,
          9
         ],
         "y": [
          0,
          -6
         ]
        },
        {
         "line": {
          "color": "blue",
          "width": 0.5
         },
         "mode": "markers+lines",
         "type": "scatter",
         "x": [
          0,
          9
         ],
         "y": [
          0,
          -5
         ]
        },
        {
         "line": {
          "color": "blue",
          "width": 0.5
         },
         "mode": "markers+lines",
         "type": "scatter",
         "x": [
          0,
          9
         ],
         "y": [
          0,
          -4
         ]
        },
        {
         "line": {
          "color": "blue",
          "width": 0.5
         },
         "mode": "markers+lines",
         "type": "scatter",
         "x": [
          0,
          9
         ],
         "y": [
          0,
          -3
         ]
        },
        {
         "line": {
          "color": "blue",
          "width": 0.5
         },
         "mode": "markers+lines",
         "type": "scatter",
         "x": [
          0,
          9
         ],
         "y": [
          0,
          -2
         ]
        },
        {
         "line": {
          "color": "blue",
          "width": 0.5
         },
         "mode": "markers+lines",
         "type": "scatter",
         "x": [
          0,
          9
         ],
         "y": [
          0,
          -1
         ]
        },
        {
         "line": {
          "color": "blue",
          "width": 0.5
         },
         "mode": "markers+lines",
         "type": "scatter",
         "x": [
          0,
          9
         ],
         "y": [
          0,
          0
         ]
        },
        {
         "line": {
          "color": "blue",
          "width": 0.5
         },
         "mode": "markers+lines",
         "type": "scatter",
         "x": [
          0,
          9
         ],
         "y": [
          0,
          1
         ]
        },
        {
         "line": {
          "color": "blue",
          "width": 0.5
         },
         "mode": "markers+lines",
         "type": "scatter",
         "x": [
          0,
          9
         ],
         "y": [
          0,
          2
         ]
        },
        {
         "line": {
          "color": "blue",
          "width": 0.5
         },
         "mode": "markers+lines",
         "type": "scatter",
         "x": [
          0,
          9
         ],
         "y": [
          0,
          3
         ]
        },
        {
         "line": {
          "color": "blue",
          "width": 0.5
         },
         "mode": "markers+lines",
         "type": "scatter",
         "x": [
          0,
          9
         ],
         "y": [
          0,
          4
         ]
        },
        {
         "line": {
          "color": "blue",
          "width": 0.5
         },
         "mode": "markers+lines",
         "type": "scatter",
         "x": [
          0,
          9
         ],
         "y": [
          0,
          5
         ]
        },
        {
         "line": {
          "color": "blue",
          "width": 0.5
         },
         "mode": "markers+lines",
         "type": "scatter",
         "x": [
          0,
          9
         ],
         "y": [
          0,
          6
         ]
        },
        {
         "line": {
          "color": "blue",
          "width": 0.5
         },
         "mode": "markers+lines",
         "type": "scatter",
         "x": [
          0,
          9
         ],
         "y": [
          0,
          7
         ]
        },
        {
         "line": {
          "color": "blue",
          "width": 0.5
         },
         "mode": "markers+lines",
         "type": "scatter",
         "x": [
          0,
          9
         ],
         "y": [
          0,
          8
         ]
        },
        {
         "line": {
          "color": "blue",
          "width": 0.5
         },
         "mode": "markers+lines",
         "type": "scatter",
         "x": [
          0,
          9
         ],
         "y": [
          0,
          9
         ]
        }
       ],
       "layout": {
        "height": 600,
        "showlegend": false,
        "template": {
         "data": {
          "bar": [
           {
            "error_x": {
             "color": "#2a3f5f"
            },
            "error_y": {
             "color": "#2a3f5f"
            },
            "marker": {
             "line": {
              "color": "#E5ECF6",
              "width": 0.5
             },
             "pattern": {
              "fillmode": "overlay",
              "size": 10,
              "solidity": 0.2
             }
            },
            "type": "bar"
           }
          ],
          "barpolar": [
           {
            "marker": {
             "line": {
              "color": "#E5ECF6",
              "width": 0.5
             },
             "pattern": {
              "fillmode": "overlay",
              "size": 10,
              "solidity": 0.2
             }
            },
            "type": "barpolar"
           }
          ],
          "carpet": [
           {
            "aaxis": {
             "endlinecolor": "#2a3f5f",
             "gridcolor": "white",
             "linecolor": "white",
             "minorgridcolor": "white",
             "startlinecolor": "#2a3f5f"
            },
            "baxis": {
             "endlinecolor": "#2a3f5f",
             "gridcolor": "white",
             "linecolor": "white",
             "minorgridcolor": "white",
             "startlinecolor": "#2a3f5f"
            },
            "type": "carpet"
           }
          ],
          "choropleth": [
           {
            "colorbar": {
             "outlinewidth": 0,
             "ticks": ""
            },
            "type": "choropleth"
           }
          ],
          "contour": [
           {
            "colorbar": {
             "outlinewidth": 0,
             "ticks": ""
            },
            "colorscale": [
             [
              0,
              "#0d0887"
             ],
             [
              0.1111111111111111,
              "#46039f"
             ],
             [
              0.2222222222222222,
              "#7201a8"
             ],
             [
              0.3333333333333333,
              "#9c179e"
             ],
             [
              0.4444444444444444,
              "#bd3786"
             ],
             [
              0.5555555555555556,
              "#d8576b"
             ],
             [
              0.6666666666666666,
              "#ed7953"
             ],
             [
              0.7777777777777778,
              "#fb9f3a"
             ],
             [
              0.8888888888888888,
              "#fdca26"
             ],
             [
              1,
              "#f0f921"
             ]
            ],
            "type": "contour"
           }
          ],
          "contourcarpet": [
           {
            "colorbar": {
             "outlinewidth": 0,
             "ticks": ""
            },
            "type": "contourcarpet"
           }
          ],
          "heatmap": [
           {
            "colorbar": {
             "outlinewidth": 0,
             "ticks": ""
            },
            "colorscale": [
             [
              0,
              "#0d0887"
             ],
             [
              0.1111111111111111,
              "#46039f"
             ],
             [
              0.2222222222222222,
              "#7201a8"
             ],
             [
              0.3333333333333333,
              "#9c179e"
             ],
             [
              0.4444444444444444,
              "#bd3786"
             ],
             [
              0.5555555555555556,
              "#d8576b"
             ],
             [
              0.6666666666666666,
              "#ed7953"
             ],
             [
              0.7777777777777778,
              "#fb9f3a"
             ],
             [
              0.8888888888888888,
              "#fdca26"
             ],
             [
              1,
              "#f0f921"
             ]
            ],
            "type": "heatmap"
           }
          ],
          "heatmapgl": [
           {
            "colorbar": {
             "outlinewidth": 0,
             "ticks": ""
            },
            "colorscale": [
             [
              0,
              "#0d0887"
             ],
             [
              0.1111111111111111,
              "#46039f"
             ],
             [
              0.2222222222222222,
              "#7201a8"
             ],
             [
              0.3333333333333333,
              "#9c179e"
             ],
             [
              0.4444444444444444,
              "#bd3786"
             ],
             [
              0.5555555555555556,
              "#d8576b"
             ],
             [
              0.6666666666666666,
              "#ed7953"
             ],
             [
              0.7777777777777778,
              "#fb9f3a"
             ],
             [
              0.8888888888888888,
              "#fdca26"
             ],
             [
              1,
              "#f0f921"
             ]
            ],
            "type": "heatmapgl"
           }
          ],
          "histogram": [
           {
            "marker": {
             "pattern": {
              "fillmode": "overlay",
              "size": 10,
              "solidity": 0.2
             }
            },
            "type": "histogram"
           }
          ],
          "histogram2d": [
           {
            "colorbar": {
             "outlinewidth": 0,
             "ticks": ""
            },
            "colorscale": [
             [
              0,
              "#0d0887"
             ],
             [
              0.1111111111111111,
              "#46039f"
             ],
             [
              0.2222222222222222,
              "#7201a8"
             ],
             [
              0.3333333333333333,
              "#9c179e"
             ],
             [
              0.4444444444444444,
              "#bd3786"
             ],
             [
              0.5555555555555556,
              "#d8576b"
             ],
             [
              0.6666666666666666,
              "#ed7953"
             ],
             [
              0.7777777777777778,
              "#fb9f3a"
             ],
             [
              0.8888888888888888,
              "#fdca26"
             ],
             [
              1,
              "#f0f921"
             ]
            ],
            "type": "histogram2d"
           }
          ],
          "histogram2dcontour": [
           {
            "colorbar": {
             "outlinewidth": 0,
             "ticks": ""
            },
            "colorscale": [
             [
              0,
              "#0d0887"
             ],
             [
              0.1111111111111111,
              "#46039f"
             ],
             [
              0.2222222222222222,
              "#7201a8"
             ],
             [
              0.3333333333333333,
              "#9c179e"
             ],
             [
              0.4444444444444444,
              "#bd3786"
             ],
             [
              0.5555555555555556,
              "#d8576b"
             ],
             [
              0.6666666666666666,
              "#ed7953"
             ],
             [
              0.7777777777777778,
              "#fb9f3a"
             ],
             [
              0.8888888888888888,
              "#fdca26"
             ],
             [
              1,
              "#f0f921"
             ]
            ],
            "type": "histogram2dcontour"
           }
          ],
          "mesh3d": [
           {
            "colorbar": {
             "outlinewidth": 0,
             "ticks": ""
            },
            "type": "mesh3d"
           }
          ],
          "parcoords": [
           {
            "line": {
             "colorbar": {
              "outlinewidth": 0,
              "ticks": ""
             }
            },
            "type": "parcoords"
           }
          ],
          "pie": [
           {
            "automargin": true,
            "type": "pie"
           }
          ],
          "scatter": [
           {
            "fillpattern": {
             "fillmode": "overlay",
             "size": 10,
             "solidity": 0.2
            },
            "type": "scatter"
           }
          ],
          "scatter3d": [
           {
            "line": {
             "colorbar": {
              "outlinewidth": 0,
              "ticks": ""
             }
            },
            "marker": {
             "colorbar": {
              "outlinewidth": 0,
              "ticks": ""
             }
            },
            "type": "scatter3d"
           }
          ],
          "scattercarpet": [
           {
            "marker": {
             "colorbar": {
              "outlinewidth": 0,
              "ticks": ""
             }
            },
            "type": "scattercarpet"
           }
          ],
          "scattergeo": [
           {
            "marker": {
             "colorbar": {
              "outlinewidth": 0,
              "ticks": ""
             }
            },
            "type": "scattergeo"
           }
          ],
          "scattergl": [
           {
            "marker": {
             "colorbar": {
              "outlinewidth": 0,
              "ticks": ""
             }
            },
            "type": "scattergl"
           }
          ],
          "scattermapbox": [
           {
            "marker": {
             "colorbar": {
              "outlinewidth": 0,
              "ticks": ""
             }
            },
            "type": "scattermapbox"
           }
          ],
          "scatterpolar": [
           {
            "marker": {
             "colorbar": {
              "outlinewidth": 0,
              "ticks": ""
             }
            },
            "type": "scatterpolar"
           }
          ],
          "scatterpolargl": [
           {
            "marker": {
             "colorbar": {
              "outlinewidth": 0,
              "ticks": ""
             }
            },
            "type": "scatterpolargl"
           }
          ],
          "scatterternary": [
           {
            "marker": {
             "colorbar": {
              "outlinewidth": 0,
              "ticks": ""
             }
            },
            "type": "scatterternary"
           }
          ],
          "surface": [
           {
            "colorbar": {
             "outlinewidth": 0,
             "ticks": ""
            },
            "colorscale": [
             [
              0,
              "#0d0887"
             ],
             [
              0.1111111111111111,
              "#46039f"
             ],
             [
              0.2222222222222222,
              "#7201a8"
             ],
             [
              0.3333333333333333,
              "#9c179e"
             ],
             [
              0.4444444444444444,
              "#bd3786"
             ],
             [
              0.5555555555555556,
              "#d8576b"
             ],
             [
              0.6666666666666666,
              "#ed7953"
             ],
             [
              0.7777777777777778,
              "#fb9f3a"
             ],
             [
              0.8888888888888888,
              "#fdca26"
             ],
             [
              1,
              "#f0f921"
             ]
            ],
            "type": "surface"
           }
          ],
          "table": [
           {
            "cells": {
             "fill": {
              "color": "#EBF0F8"
             },
             "line": {
              "color": "white"
             }
            },
            "header": {
             "fill": {
              "color": "#C8D4E3"
             },
             "line": {
              "color": "white"
             }
            },
            "type": "table"
           }
          ]
         },
         "layout": {
          "annotationdefaults": {
           "arrowcolor": "#2a3f5f",
           "arrowhead": 0,
           "arrowwidth": 1
          },
          "autotypenumbers": "strict",
          "coloraxis": {
           "colorbar": {
            "outlinewidth": 0,
            "ticks": ""
           }
          },
          "colorscale": {
           "diverging": [
            [
             0,
             "#8e0152"
            ],
            [
             0.1,
             "#c51b7d"
            ],
            [
             0.2,
             "#de77ae"
            ],
            [
             0.3,
             "#f1b6da"
            ],
            [
             0.4,
             "#fde0ef"
            ],
            [
             0.5,
             "#f7f7f7"
            ],
            [
             0.6,
             "#e6f5d0"
            ],
            [
             0.7,
             "#b8e186"
            ],
            [
             0.8,
             "#7fbc41"
            ],
            [
             0.9,
             "#4d9221"
            ],
            [
             1,
             "#276419"
            ]
           ],
           "sequential": [
            [
             0,
             "#0d0887"
            ],
            [
             0.1111111111111111,
             "#46039f"
            ],
            [
             0.2222222222222222,
             "#7201a8"
            ],
            [
             0.3333333333333333,
             "#9c179e"
            ],
            [
             0.4444444444444444,
             "#bd3786"
            ],
            [
             0.5555555555555556,
             "#d8576b"
            ],
            [
             0.6666666666666666,
             "#ed7953"
            ],
            [
             0.7777777777777778,
             "#fb9f3a"
            ],
            [
             0.8888888888888888,
             "#fdca26"
            ],
            [
             1,
             "#f0f921"
            ]
           ],
           "sequentialminus": [
            [
             0,
             "#0d0887"
            ],
            [
             0.1111111111111111,
             "#46039f"
            ],
            [
             0.2222222222222222,
             "#7201a8"
            ],
            [
             0.3333333333333333,
             "#9c179e"
            ],
            [
             0.4444444444444444,
             "#bd3786"
            ],
            [
             0.5555555555555556,
             "#d8576b"
            ],
            [
             0.6666666666666666,
             "#ed7953"
            ],
            [
             0.7777777777777778,
             "#fb9f3a"
            ],
            [
             0.8888888888888888,
             "#fdca26"
            ],
            [
             1,
             "#f0f921"
            ]
           ]
          },
          "colorway": [
           "#636efa",
           "#EF553B",
           "#00cc96",
           "#ab63fa",
           "#FFA15A",
           "#19d3f3",
           "#FF6692",
           "#B6E880",
           "#FF97FF",
           "#FECB52"
          ],
          "font": {
           "color": "#2a3f5f"
          },
          "geo": {
           "bgcolor": "white",
           "lakecolor": "white",
           "landcolor": "#E5ECF6",
           "showlakes": true,
           "showland": true,
           "subunitcolor": "white"
          },
          "hoverlabel": {
           "align": "left"
          },
          "hovermode": "closest",
          "mapbox": {
           "style": "light"
          },
          "paper_bgcolor": "white",
          "plot_bgcolor": "#E5ECF6",
          "polar": {
           "angularaxis": {
            "gridcolor": "white",
            "linecolor": "white",
            "ticks": ""
           },
           "bgcolor": "#E5ECF6",
           "radialaxis": {
            "gridcolor": "white",
            "linecolor": "white",
            "ticks": ""
           }
          },
          "scene": {
           "xaxis": {
            "backgroundcolor": "#E5ECF6",
            "gridcolor": "white",
            "gridwidth": 2,
            "linecolor": "white",
            "showbackground": true,
            "ticks": "",
            "zerolinecolor": "white"
           },
           "yaxis": {
            "backgroundcolor": "#E5ECF6",
            "gridcolor": "white",
            "gridwidth": 2,
            "linecolor": "white",
            "showbackground": true,
            "ticks": "",
            "zerolinecolor": "white"
           },
           "zaxis": {
            "backgroundcolor": "#E5ECF6",
            "gridcolor": "white",
            "gridwidth": 2,
            "linecolor": "white",
            "showbackground": true,
            "ticks": "",
            "zerolinecolor": "white"
           }
          },
          "shapedefaults": {
           "line": {
            "color": "#2a3f5f"
           }
          },
          "ternary": {
           "aaxis": {
            "gridcolor": "white",
            "linecolor": "white",
            "ticks": ""
           },
           "baxis": {
            "gridcolor": "white",
            "linecolor": "white",
            "ticks": ""
           },
           "bgcolor": "#E5ECF6",
           "caxis": {
            "gridcolor": "white",
            "linecolor": "white",
            "ticks": ""
           }
          },
          "title": {
           "x": 0.05
          },
          "xaxis": {
           "automargin": true,
           "gridcolor": "white",
           "linecolor": "white",
           "ticks": "",
           "title": {
            "standoff": 15
           },
           "zerolinecolor": "white",
           "zerolinewidth": 2
          },
          "yaxis": {
           "automargin": true,
           "gridcolor": "white",
           "linecolor": "white",
           "ticks": "",
           "title": {
            "standoff": 15
           },
           "zerolinecolor": "white",
           "zerolinewidth": 2
          }
         }
        },
        "width": 800,
        "xaxis": {
         "constrain": "domain",
         "domain": [
          0.171875,
          0.828125
         ],
         "range": [
          -10,
          10
         ],
         "type": "linear"
        },
        "yaxis": {
         "domain": [
          0,
          1
         ],
         "range": [
          -10,
          10
         ],
         "scaleanchor": "x",
         "scaleratio": 1,
         "type": "linear"
        }
       }
      },
      "image/png": "[encoded data removed]",
      "text/html": [
       "<div>                            <div id=\"24e39473-1697-4844-b75b-77b6a5eecfc0\" class=\"plotly-graph-div\" style=\"height:600px; width:800px;\"></div>            <script type=\"text/javascript\">                require([\"plotly\"], function(Plotly) {                    window.PLOTLYENV=window.PLOTLYENV || {};                                    if (document.getElementById(\"24e39473-1697-4844-b75b-77b6a5eecfc0\")) {                    Plotly.newPlot(                        \"24e39473-1697-4844-b75b-77b6a5eecfc0\",                        [{\"line\":{\"color\":\"blue\",\"width\":0.5},\"mode\":\"markers+lines\",\"x\":[0,-10],\"y\":[0,-10],\"type\":\"scatter\"},{\"line\":{\"color\":\"blue\",\"width\":0.5},\"mode\":\"markers+lines\",\"x\":[0,-10],\"y\":[0,-9],\"type\":\"scatter\"},{\"line\":{\"color\":\"blue\",\"width\":0.5},\"mode\":\"markers+lines\",\"x\":[0,-10],\"y\":[0,-8],\"type\":\"scatter\"},{\"line\":{\"color\":\"blue\",\"width\":0.5},\"mode\":\"markers+lines\",\"x\":[0,-10],\"y\":[0,-7],\"type\":\"scatter\"},{\"line\":{\"color\":\"blue\",\"width\":0.5},\"mode\":\"markers+lines\",\"x\":[0,-10],\"y\":[0,-6],\"type\":\"scatter\"},{\"line\":{\"color\":\"blue\",\"width\":0.5},\"mode\":\"markers+lines\",\"x\":[0,-10],\"y\":[0,-5],\"type\":\"scatter\"},{\"line\":{\"color\":\"blue\",\"width\":0.5},\"mode\":\"markers+lines\",\"x\":[0,-10],\"y\":[0,-4],\"type\":\"scatter\"},{\"line\":{\"color\":\"blue\",\"width\":0.5},\"mode\":\"markers+lines\",\"x\":[0,-10],\"y\":[0,-3],\"type\":\"scatter\"},{\"line\":{\"color\":\"blue\",\"width\":0.5},\"mode\":\"markers+lines\",\"x\":[0,-10],\"y\":[0,-2],\"type\":\"scatter\"},{\"line\":{\"color\":\"blue\",\"width\":0.5},\"mode\":\"markers+lines\",\"x\":[0,-10],\"y\":[0,-1],\"type\":\"scatter\"},{\"line\":{\"color\":\"blue\",\"width\":0.5},\"mode\":\"markers+lines\",\"x\":[0,-10],\"y\":[0,0],\"type\":\"scatter\"},{\"line\":{\"color\":\"blue\",\"width\":0.5},\"mode\":\"markers+lines\",\"x\":[0,-10],\"y\":[0,1],\"type\":\"scatter\"},{\"line\":{\"color\":\"blue\",\"width\":0.5},\"mode\":\"markers+lines\",\"x\":[0,-10],\"y\":[0,2],\"type\":\"scatter\"},{\"line\":{\"color\":\"blue\",\"width\":0.5},\"mode\":\"markers+lines\",\"x\":[0,-10],\"y\":[0,3],\"type\":\"scatter\"},{\"line\":{\"color\":\"blue\",\"width\":0.5},\"mode\":\"markers+lines\",\"x\":[0,-10],\"y\":[0,4],\"type\":\"scatter\"},{\"line\":{\"color\":\"blue\",\"width\":0.5},\"mode\":\"markers+lines\",\"x\":[0,-10],\"y\":[0,5],\"type\":\"scatter\"},{\"line\":{\"color\":\"blue\",\"width\":0.5},\"mode\":\"markers+lines\",\"x\":[0,-10],\"y\":[0,6],\"type\":\"scatter\"},{\"line\":{\"color\":\"blue\",\"width\":0.5},\"mode\":\"markers+lines\",\"x\":[0,-10],\"y\":[0,7],\"type\":\"scatter\"},{\"line\":{\"color\":\"blue\",\"width\":0.5},\"mode\":\"markers+lines\",\"x\":[0,-10],\"y\":[0,8],\"type\":\"scatter\"},{\"line\":{\"color\":\"blue\",\"width\":0.5},\"mode\":\"markers+lines\",\"x\":[0,-10],\"y\":[0,9],\"type\":\"scatter\"},{\"line\":{\"color\":\"blue\",\"width\":0.5},\"mode\":\"markers+lines\",\"x\":[0,-9],\"y\":[0,-10],\"type\":\"scatter\"},{\"line\":{\"color\":\"blue\",\"width\":0.5},\"mode\":\"markers+lines\",\"x\":[0,-9],\"y\":[0,-9],\"type\":\"scatter\"},{\"line\":{\"color\":\"blue\",\"width\":0.5},\"mode\":\"markers+lines\",\"x\":[0,-9],\"y\":[0,-8],\"type\":\"scatter\"},{\"line\":{\"color\":\"blue\",\"width\":0.5},\"mode\":\"markers+lines\",\"x\":[0,-9],\"y\":[0,-7],\"type\":\"scatter\"},{\"line\":{\"color\":\"blue\",\"width\":0.5},\"mode\":\"markers+lines\",\"x\":[0,-9],\"y\":[0,-6],\"type\":\"scatter\"},{\"line\":{\"color\":\"blue\",\"width\":0.5},\"mode\":\"markers+lines\",\"x\":[0,-9],\"y\":[0,-5],\"type\":\"scatter\"},{\"line\":{\"color\":\"blue\",\"width\":0.5},\"mode\":\"markers+lines\",\"x\":[0,-9],\"y\":[0,-4],\"type\":\"scatter\"},{\"line\":{\"color\":\"blue\",\"width\":0.5},\"mode\":\"markers+lines\",\"x\":[0,-9],\"y\":[0,-3],\"type\":\"scatter\"},{\"line\":{\"color\":\"blue\",\"width\":0.5},\"mode\":\"markers+lines\",\"x\":[0,-9],\"y\":[0,-2],\"type\":\"scatter\"},{\"line\":{\"color\":\"blue\",\"width\":0.5},\"mode\":\"markers+lines\",\"x\":[0,-9],\"y\":[0,-1],\"type\":\"scatter\"},{\"line\":{\"color\":\"blue\",\"width\":0.5},\"mode\":\"markers+lines\",\"x\":[0,-9],\"y\":[0,0],\"type\":\"scatter\"},{\"line\":{\"color\":\"blue\",\"width\":0.5},\"mode\":\"markers+lines\",\"x\":[0,-9],\"y\":[0,1],\"type\":\"scatter\"},{\"line\":{\"color\":\"blue\",\"width\":0.5},\"mode\":\"markers+lines\",\"x\":[0,-9],\"y\":[0,2],\"type\":\"scatter\"},{\"line\":{\"color\":\"blue\",\"width\":0.5},\"mode\":\"markers+lines\",\"x\":[0,-9],\"y\":[0,3],\"type\":\"scatter\"},{\"line\":{\"color\":\"blue\",\"width\":0.5},\"mode\":\"markers+lines\",\"x\":[0,-9],\"y\":[0,4],\"type\":\"scatter\"},{\"line\":{\"color\":\"blue\",\"width\":0.5},\"mode\":\"markers+lines\",\"x\":[0,-9],\"y\":[0,5],\"type\":\"scatter\"},{\"line\":{\"color\":\"blue\",\"width\":0.5},\"mode\":\"markers+lines\",\"x\":[0,-9],\"y\":[0,6],\"type\":\"scatter\"},{\"line\":{\"color\":\"blue\",\"width\":0.5},\"mode\":\"markers+lines\",\"x\":[0,-9],\"y\":[0,7],\"type\":\"scatter\"},{\"line\":{\"color\":\"blue\",\"width\":0.5},\"mode\":\"markers+lines\",\"x\":[0,-9],\"y\":[0,8],\"type\":\"scatter\"},{\"line\":{\"color\":\"blue\",\"width\":0.5},\"mode\":\"markers+lines\",\"x\":[0,-9],\"y\":[0,9],\"type\":\"scatter\"},{\"line\":{\"color\":\"blue\",\"width\":0.5},\"mode\":\"markers+lines\",\"x\":[0,-8],\"y\":[0,-10],\"type\":\"scatter\"},{\"line\":{\"color\":\"blue\",\"width\":0.5},\"mode\":\"markers+lines\",\"x\":[0,-8],\"y\":[0,-9],\"type\":\"scatter\"},{\"line\":{\"color\":\"blue\",\"width\":0.5},\"mode\":\"markers+lines\",\"x\":[0,-8],\"y\":[0,-8],\"type\":\"scatter\"},{\"line\":{\"color\":\"blue\",\"width\":0.5},\"mode\":\"markers+lines\",\"x\":[0,-8],\"y\":[0,-7],\"type\":\"scatter\"},{\"line\":{\"color\":\"blue\",\"width\":0.5},\"mode\":\"markers+lines\",\"x\":[0,-8],\"y\":[0,-6],\"type\":\"scatter\"},{\"line\":{\"color\":\"blue\",\"width\":0.5},\"mode\":\"markers+lines\",\"x\":[0,-8],\"y\":[0,-5],\"type\":\"scatter\"},{\"line\":{\"color\":\"blue\",\"width\":0.5},\"mode\":\"markers+lines\",\"x\":[0,-8],\"y\":[0,-4],\"type\":\"scatter\"},{\"line\":{\"color\":\"blue\",\"width\":0.5},\"mode\":\"markers+lines\",\"x\":[0,-8],\"y\":[0,-3],\"type\":\"scatter\"},{\"line\":{\"color\":\"blue\",\"width\":0.5},\"mode\":\"markers+lines\",\"x\":[0,-8],\"y\":[0,-2],\"type\":\"scatter\"},{\"line\":{\"color\":\"blue\",\"width\":0.5},\"mode\":\"markers+lines\",\"x\":[0,-8],\"y\":[0,-1],\"type\":\"scatter\"},{\"line\":{\"color\":\"blue\",\"width\":0.5},\"mode\":\"markers+lines\",\"x\":[0,-8],\"y\":[0,0],\"type\":\"scatter\"},{\"line\":{\"color\":\"blue\",\"width\":0.5},\"mode\":\"markers+lines\",\"x\":[0,-8],\"y\":[0,1],\"type\":\"scatter\"},{\"line\":{\"color\":\"blue\",\"width\":0.5},\"mode\":\"markers+lines\",\"x\":[0,-8],\"y\":[0,2],\"type\":\"scatter\"},{\"line\":{\"color\":\"blue\",\"width\":0.5},\"mode\":\"markers+lines\",\"x\":[0,-8],\"y\":[0,3],\"type\":\"scatter\"},{\"line\":{\"color\":\"blue\",\"width\":0.5},\"mode\":\"markers+lines\",\"x\":[0,-8],\"y\":[0,4],\"type\":\"scatter\"},{\"line\":{\"color\":\"blue\",\"width\":0.5},\"mode\":\"markers+lines\",\"x\":[0,-8],\"y\":[0,5],\"type\":\"scatter\"},{\"line\":{\"color\":\"blue\",\"width\":0.5},\"mode\":\"markers+lines\",\"x\":[0,-8],\"y\":[0,6],\"type\":\"scatter\"},{\"line\":{\"color\":\"blue\",\"width\":0.5},\"mode\":\"markers+lines\",\"x\":[0,-8],\"y\":[0,7],\"type\":\"scatter\"},{\"line\":{\"color\":\"blue\",\"width\":0.5},\"mode\":\"markers+lines\",\"x\":[0,-8],\"y\":[0,8],\"type\":\"scatter\"},{\"line\":{\"color\":\"blue\",\"width\":0.5},\"mode\":\"markers+lines\",\"x\":[0,-8],\"y\":[0,9],\"type\":\"scatter\"},{\"line\":{\"color\":\"blue\",\"width\":0.5},\"mode\":\"markers+lines\",\"x\":[0,-7],\"y\":[0,-10],\"type\":\"scatter\"},{\"line\":{\"color\":\"blue\",\"width\":0.5},\"mode\":\"markers+lines\",\"x\":[0,-7],\"y\":[0,-9],\"type\":\"scatter\"},{\"line\":{\"color\":\"blue\",\"width\":0.5},\"mode\":\"markers+lines\",\"x\":[0,-7],\"y\":[0,-8],\"type\":\"scatter\"},{\"line\":{\"color\":\"blue\",\"width\":0.5},\"mode\":\"markers+lines\",\"x\":[0,-7],\"y\":[0,-7],\"type\":\"scatter\"},{\"line\":{\"color\":\"blue\",\"width\":0.5},\"mode\":\"markers+lines\",\"x\":[0,-7],\"y\":[0,-6],\"type\":\"scatter\"},{\"line\":{\"color\":\"blue\",\"width\":0.5},\"mode\":\"markers+lines\",\"x\":[0,-7],\"y\":[0,-5],\"type\":\"scatter\"},{\"line\":{\"color\":\"blue\",\"width\":0.5},\"mode\":\"markers+lines\",\"x\":[0,-7],\"y\":[0,-4],\"type\":\"scatter\"},{\"line\":{\"color\":\"blue\",\"width\":0.5},\"mode\":\"markers+lines\",\"x\":[0,-7],\"y\":[0,-3],\"type\":\"scatter\"},{\"line\":{\"color\":\"blue\",\"width\":0.5},\"mode\":\"markers+lines\",\"x\":[0,-7],\"y\":[0,-2],\"type\":\"scatter\"},{\"line\":{\"color\":\"blue\",\"width\":0.5},\"mode\":\"markers+lines\",\"x\":[0,-7],\"y\":[0,-1],\"type\":\"scatter\"},{\"line\":{\"color\":\"blue\",\"width\":0.5},\"mode\":\"markers+lines\",\"x\":[0,-7],\"y\":[0,0],\"type\":\"scatter\"},{\"line\":{\"color\":\"blue\",\"width\":0.5},\"mode\":\"markers+lines\",\"x\":[0,-7],\"y\":[0,1],\"type\":\"scatter\"},{\"line\":{\"color\":\"blue\",\"width\":0.5},\"mode\":\"markers+lines\",\"x\":[0,-7],\"y\":[0,2],\"type\":\"scatter\"},{\"line\":{\"color\":\"blue\",\"width\":0.5},\"mode\":\"markers+lines\",\"x\":[0,-7],\"y\":[0,3],\"type\":\"scatter\"},{\"line\":{\"color\":\"blue\",\"width\":0.5},\"mode\":\"markers+lines\",\"x\":[0,-7],\"y\":[0,4],\"type\":\"scatter\"},{\"line\":{\"color\":\"blue\",\"width\":0.5},\"mode\":\"markers+lines\",\"x\":[0,-7],\"y\":[0,5],\"type\":\"scatter\"},{\"line\":{\"color\":\"blue\",\"width\":0.5},\"mode\":\"markers+lines\",\"x\":[0,-7],\"y\":[0,6],\"type\":\"scatter\"},{\"line\":{\"color\":\"blue\",\"width\":0.5},\"mode\":\"markers+lines\",\"x\":[0,-7],\"y\":[0,7],\"type\":\"scatter\"},{\"line\":{\"color\":\"blue\",\"width\":0.5},\"mode\":\"markers+lines\",\"x\":[0,-7],\"y\":[0,8],\"type\":\"scatter\"},{\"line\":{\"color\":\"blue\",\"width\":0.5},\"mode\":\"markers+lines\",\"x\":[0,-7],\"y\":[0,9],\"type\":\"scatter\"},{\"line\":{\"color\":\"blue\",\"width\":0.5},\"mode\":\"markers+lines\",\"x\":[0,-6],\"y\":[0,-10],\"type\":\"scatter\"},{\"line\":{\"color\":\"blue\",\"width\":0.5},\"mode\":\"markers+lines\",\"x\":[0,-6],\"y\":[0,-9],\"type\":\"scatter\"},{\"line\":{\"color\":\"blue\",\"width\":0.5},\"mode\":\"markers+lines\",\"x\":[0,-6],\"y\":[0,-8],\"type\":\"scatter\"},{\"line\":{\"color\":\"blue\",\"width\":0.5},\"mode\":\"markers+lines\",\"x\":[0,-6],\"y\":[0,-7],\"type\":\"scatter\"},{\"line\":{\"color\":\"blue\",\"width\":0.5},\"mode\":\"markers+lines\",\"x\":[0,-6],\"y\":[0,-6],\"type\":\"scatter\"},{\"line\":{\"color\":\"blue\",\"width\":0.5},\"mode\":\"markers+lines\",\"x\":[0,-6],\"y\":[0,-5],\"type\":\"scatter\"},{\"line\":{\"color\":\"blue\",\"width\":0.5},\"mode\":\"markers+lines\",\"x\":[0,-6],\"y\":[0,-4],\"type\":\"scatter\"},{\"line\":{\"color\":\"blue\",\"width\":0.5},\"mode\":\"markers+lines\",\"x\":[0,-6],\"y\":[0,-3],\"type\":\"scatter\"},{\"line\":{\"color\":\"blue\",\"width\":0.5},\"mode\":\"markers+lines\",\"x\":[0,-6],\"y\":[0,-2],\"type\":\"scatter\"},{\"line\":{\"color\":\"blue\",\"width\":0.5},\"mode\":\"markers+lines\",\"x\":[0,-6],\"y\":[0,-1],\"type\":\"scatter\"},{\"line\":{\"color\":\"blue\",\"width\":0.5},\"mode\":\"markers+lines\",\"x\":[0,-6],\"y\":[0,0],\"type\":\"scatter\"},{\"line\":{\"color\":\"blue\",\"width\":0.5},\"mode\":\"markers+lines\",\"x\":[0,-6],\"y\":[0,1],\"type\":\"scatter\"},{\"line\":{\"color\":\"blue\",\"width\":0.5},\"mode\":\"markers+lines\",\"x\":[0,-6],\"y\":[0,2],\"type\":\"scatter\"},{\"line\":{\"color\":\"blue\",\"width\":0.5},\"mode\":\"markers+lines\",\"x\":[0,-6],\"y\":[0,3],\"type\":\"scatter\"},{\"line\":{\"color\":\"blue\",\"width\":0.5},\"mode\":\"markers+lines\",\"x\":[0,-6],\"y\":[0,4],\"type\":\"scatter\"},{\"line\":{\"color\":\"blue\",\"width\":0.5},\"mode\":\"markers+lines\",\"x\":[0,-6],\"y\":[0,5],\"type\":\"scatter\"},{\"line\":{\"color\":\"blue\",\"width\":0.5},\"mode\":\"markers+lines\",\"x\":[0,-6],\"y\":[0,6],\"type\":\"scatter\"},{\"line\":{\"color\":\"blue\",\"width\":0.5},\"mode\":\"markers+lines\",\"x\":[0,-6],\"y\":[0,7],\"type\":\"scatter\"},{\"line\":{\"color\":\"blue\",\"width\":0.5},\"mode\":\"markers+lines\",\"x\":[0,-6],\"y\":[0,8],\"type\":\"scatter\"},{\"line\":{\"color\":\"blue\",\"width\":0.5},\"mode\":\"markers+lines\",\"x\":[0,-6],\"y\":[0,9],\"type\":\"scatter\"},{\"line\":{\"color\":\"blue\",\"width\":0.5},\"mode\":\"markers+lines\",\"x\":[0,-5],\"y\":[0,-10],\"type\":\"scatter\"},{\"line\":{\"color\":\"blue\",\"width\":0.5},\"mode\":\"markers+lines\",\"x\":[0,-5],\"y\":[0,-9],\"type\":\"scatter\"},{\"line\":{\"color\":\"blue\",\"width\":0.5},\"mode\":\"markers+lines\",\"x\":[0,-5],\"y\":[0,-8],\"type\":\"scatter\"},{\"line\":{\"color\":\"blue\",\"width\":0.5},\"mode\":\"markers+lines\",\"x\":[0,-5],\"y\":[0,-7],\"type\":\"scatter\"},{\"line\":{\"color\":\"blue\",\"width\":0.5},\"mode\":\"markers+lines\",\"x\":[0,-5],\"y\":[0,-6],\"type\":\"scatter\"},{\"line\":{\"color\":\"blue\",\"width\":0.5},\"mode\":\"markers+lines\",\"x\":[0,-5],\"y\":[0,-5],\"type\":\"scatter\"},{\"line\":{\"color\":\"blue\",\"width\":0.5},\"mode\":\"markers+lines\",\"x\":[0,-5],\"y\":[0,-4],\"type\":\"scatter\"},{\"line\":{\"color\":\"blue\",\"width\":0.5},\"mode\":\"markers+lines\",\"x\":[0,-5],\"y\":[0,-3],\"type\":\"scatter\"},{\"line\":{\"color\":\"blue\",\"width\":0.5},\"mode\":\"markers+lines\",\"x\":[0,-5],\"y\":[0,-2],\"type\":\"scatter\"},{\"line\":{\"color\":\"blue\",\"width\":0.5},\"mode\":\"markers+lines\",\"x\":[0,-5],\"y\":[0,-1],\"type\":\"scatter\"},{\"line\":{\"color\":\"blue\",\"width\":0.5},\"mode\":\"markers+lines\",\"x\":[0,-5],\"y\":[0,0],\"type\":\"scatter\"},{\"line\":{\"color\":\"blue\",\"width\":0.5},\"mode\":\"markers+lines\",\"x\":[0,-5],\"y\":[0,1],\"type\":\"scatter\"},{\"line\":{\"color\":\"blue\",\"width\":0.5},\"mode\":\"markers+lines\",\"x\":[0,-5],\"y\":[0,2],\"type\":\"scatter\"},{\"line\":{\"color\":\"blue\",\"width\":0.5},\"mode\":\"markers+lines\",\"x\":[0,-5],\"y\":[0,3],\"type\":\"scatter\"},{\"line\":{\"color\":\"blue\",\"width\":0.5},\"mode\":\"markers+lines\",\"x\":[0,-5],\"y\":[0,4],\"type\":\"scatter\"},{\"line\":{\"color\":\"blue\",\"width\":0.5},\"mode\":\"markers+lines\",\"x\":[0,-5],\"y\":[0,5],\"type\":\"scatter\"},{\"line\":{\"color\":\"blue\",\"width\":0.5},\"mode\":\"markers+lines\",\"x\":[0,-5],\"y\":[0,6],\"type\":\"scatter\"},{\"line\":{\"color\":\"blue\",\"width\":0.5},\"mode\":\"markers+lines\",\"x\":[0,-5],\"y\":[0,7],\"type\":\"scatter\"},{\"line\":{\"color\":\"blue\",\"width\":0.5},\"mode\":\"markers+lines\",\"x\":[0,-5],\"y\":[0,8],\"type\":\"scatter\"},{\"line\":{\"color\":\"blue\",\"width\":0.5},\"mode\":\"markers+lines\",\"x\":[0,-5],\"y\":[0,9],\"type\":\"scatter\"},{\"line\":{\"color\":\"blue\",\"width\":0.5},\"mode\":\"markers+lines\",\"x\":[0,-4],\"y\":[0,-10],\"type\":\"scatter\"},{\"line\":{\"color\":\"blue\",\"width\":0.5},\"mode\":\"markers+lines\",\"x\":[0,-4],\"y\":[0,-9],\"type\":\"scatter\"},{\"line\":{\"color\":\"blue\",\"width\":0.5},\"mode\":\"markers+lines\",\"x\":[0,-4],\"y\":[0,-8],\"type\":\"scatter\"},{\"line\":{\"color\":\"blue\",\"width\":0.5},\"mode\":\"markers+lines\",\"x\":[0,-4],\"y\":[0,-7],\"type\":\"scatter\"},{\"line\":{\"color\":\"blue\",\"width\":0.5},\"mode\":\"markers+lines\",\"x\":[0,-4],\"y\":[0,-6],\"type\":\"scatter\"},{\"line\":{\"color\":\"blue\",\"width\":0.5},\"mode\":\"markers+lines\",\"x\":[0,-4],\"y\":[0,-5],\"type\":\"scatter\"},{\"line\":{\"color\":\"blue\",\"width\":0.5},\"mode\":\"markers+lines\",\"x\":[0,-4],\"y\":[0,-4],\"type\":\"scatter\"},{\"line\":{\"color\":\"blue\",\"width\":0.5},\"mode\":\"markers+lines\",\"x\":[0,-4],\"y\":[0,-3],\"type\":\"scatter\"},{\"line\":{\"color\":\"blue\",\"width\":0.5},\"mode\":\"markers+lines\",\"x\":[0,-4],\"y\":[0,-2],\"type\":\"scatter\"},{\"line\":{\"color\":\"blue\",\"width\":0.5},\"mode\":\"markers+lines\",\"x\":[0,-4],\"y\":[0,-1],\"type\":\"scatter\"},{\"line\":{\"color\":\"blue\",\"width\":0.5},\"mode\":\"markers+lines\",\"x\":[0,-4],\"y\":[0,0],\"type\":\"scatter\"},{\"line\":{\"color\":\"blue\",\"width\":0.5},\"mode\":\"markers+lines\",\"x\":[0,-4],\"y\":[0,1],\"type\":\"scatter\"},{\"line\":{\"color\":\"blue\",\"width\":0.5},\"mode\":\"markers+lines\",\"x\":[0,-4],\"y\":[0,2],\"type\":\"scatter\"},{\"line\":{\"color\":\"blue\",\"width\":0.5},\"mode\":\"markers+lines\",\"x\":[0,-4],\"y\":[0,3],\"type\":\"scatter\"},{\"line\":{\"color\":\"blue\",\"width\":0.5},\"mode\":\"markers+lines\",\"x\":[0,-4],\"y\":[0,4],\"type\":\"scatter\"},{\"line\":{\"color\":\"blue\",\"width\":0.5},\"mode\":\"markers+lines\",\"x\":[0,-4],\"y\":[0,5],\"type\":\"scatter\"},{\"line\":{\"color\":\"blue\",\"width\":0.5},\"mode\":\"markers+lines\",\"x\":[0,-4],\"y\":[0,6],\"type\":\"scatter\"},{\"line\":{\"color\":\"blue\",\"width\":0.5},\"mode\":\"markers+lines\",\"x\":[0,-4],\"y\":[0,7],\"type\":\"scatter\"},{\"line\":{\"color\":\"blue\",\"width\":0.5},\"mode\":\"markers+lines\",\"x\":[0,-4],\"y\":[0,8],\"type\":\"scatter\"},{\"line\":{\"color\":\"blue\",\"width\":0.5},\"mode\":\"markers+lines\",\"x\":[0,-4],\"y\":[0,9],\"type\":\"scatter\"},{\"line\":{\"color\":\"blue\",\"width\":0.5},\"mode\":\"markers+lines\",\"x\":[0,-3],\"y\":[0,-10],\"type\":\"scatter\"},{\"line\":{\"color\":\"blue\",\"width\":0.5},\"mode\":\"markers+lines\",\"x\":[0,-3],\"y\":[0,-9],\"type\":\"scatter\"},{\"line\":{\"color\":\"blue\",\"width\":0.5},\"mode\":\"markers+lines\",\"x\":[0,-3],\"y\":[0,-8],\"type\":\"scatter\"},{\"line\":{\"color\":\"blue\",\"width\":0.5},\"mode\":\"markers+lines\",\"x\":[0,-3],\"y\":[0,-7],\"type\":\"scatter\"},{\"line\":{\"color\":\"blue\",\"width\":0.5},\"mode\":\"markers+lines\",\"x\":[0,-3],\"y\":[0,-6],\"type\":\"scatter\"},{\"line\":{\"color\":\"blue\",\"width\":0.5},\"mode\":\"markers+lines\",\"x\":[0,-3],\"y\":[0,-5],\"type\":\"scatter\"},{\"line\":{\"color\":\"blue\",\"width\":0.5},\"mode\":\"markers+lines\",\"x\":[0,-3],\"y\":[0,-4],\"type\":\"scatter\"},{\"line\":{\"color\":\"blue\",\"width\":0.5},\"mode\":\"markers+lines\",\"x\":[0,-3],\"y\":[0,-3],\"type\":\"scatter\"},{\"line\":{\"color\":\"blue\",\"width\":0.5},\"mode\":\"markers+lines\",\"x\":[0,-3],\"y\":[0,-2],\"type\":\"scatter\"},{\"line\":{\"color\":\"blue\",\"width\":0.5},\"mode\":\"markers+lines\",\"x\":[0,-3],\"y\":[0,-1],\"type\":\"scatter\"},{\"line\":{\"color\":\"blue\",\"width\":0.5},\"mode\":\"markers+lines\",\"x\":[0,-3],\"y\":[0,0],\"type\":\"scatter\"},{\"line\":{\"color\":\"blue\",\"width\":0.5},\"mode\":\"markers+lines\",\"x\":[0,-3],\"y\":[0,1],\"type\":\"scatter\"},{\"line\":{\"color\":\"blue\",\"width\":0.5},\"mode\":\"markers+lines\",\"x\":[0,-3],\"y\":[0,2],\"type\":\"scatter\"},{\"line\":{\"color\":\"blue\",\"width\":0.5},\"mode\":\"markers+lines\",\"x\":[0,-3],\"y\":[0,3],\"type\":\"scatter\"},{\"line\":{\"color\":\"blue\",\"width\":0.5},\"mode\":\"markers+lines\",\"x\":[0,-3],\"y\":[0,4],\"type\":\"scatter\"},{\"line\":{\"color\":\"blue\",\"width\":0.5},\"mode\":\"markers+lines\",\"x\":[0,-3],\"y\":[0,5],\"type\":\"scatter\"},{\"line\":{\"color\":\"blue\",\"width\":0.5},\"mode\":\"markers+lines\",\"x\":[0,-3],\"y\":[0,6],\"type\":\"scatter\"},{\"line\":{\"color\":\"blue\",\"width\":0.5},\"mode\":\"markers+lines\",\"x\":[0,-3],\"y\":[0,7],\"type\":\"scatter\"},{\"line\":{\"color\":\"blue\",\"width\":0.5},\"mode\":\"markers+lines\",\"x\":[0,-3],\"y\":[0,8],\"type\":\"scatter\"},{\"line\":{\"color\":\"blue\",\"width\":0.5},\"mode\":\"markers+lines\",\"x\":[0,-3],\"y\":[0,9],\"type\":\"scatter\"},{\"line\":{\"color\":\"blue\",\"width\":0.5},\"mode\":\"markers+lines\",\"x\":[0,-2],\"y\":[0,-10],\"type\":\"scatter\"},{\"line\":{\"color\":\"blue\",\"width\":0.5},\"mode\":\"markers+lines\",\"x\":[0,-2],\"y\":[0,-9],\"type\":\"scatter\"},{\"line\":{\"color\":\"blue\",\"width\":0.5},\"mode\":\"markers+lines\",\"x\":[0,-2],\"y\":[0,-8],\"type\":\"scatter\"},{\"line\":{\"color\":\"blue\",\"width\":0.5},\"mode\":\"markers+lines\",\"x\":[0,-2],\"y\":[0,-7],\"type\":\"scatter\"},{\"line\":{\"color\":\"blue\",\"width\":0.5},\"mode\":\"markers+lines\",\"x\":[0,-2],\"y\":[0,-6],\"type\":\"scatter\"},{\"line\":{\"color\":\"blue\",\"width\":0.5},\"mode\":\"markers+lines\",\"x\":[0,-2],\"y\":[0,-5],\"type\":\"scatter\"},{\"line\":{\"color\":\"blue\",\"width\":0.5},\"mode\":\"markers+lines\",\"x\":[0,-2],\"y\":[0,-4],\"type\":\"scatter\"},{\"line\":{\"color\":\"blue\",\"width\":0.5},\"mode\":\"markers+lines\",\"x\":[0,-2],\"y\":[0,-3],\"type\":\"scatter\"},{\"line\":{\"color\":\"blue\",\"width\":0.5},\"mode\":\"markers+lines\",\"x\":[0,-2],\"y\":[0,-2],\"type\":\"scatter\"},{\"line\":{\"color\":\"blue\",\"width\":0.5},\"mode\":\"markers+lines\",\"x\":[0,-2],\"y\":[0,-1],\"type\":\"scatter\"},{\"line\":{\"color\":\"blue\",\"width\":0.5},\"mode\":\"markers+lines\",\"x\":[0,-2],\"y\":[0,0],\"type\":\"scatter\"},{\"line\":{\"color\":\"blue\",\"width\":0.5},\"mode\":\"markers+lines\",\"x\":[0,-2],\"y\":[0,1],\"type\":\"scatter\"},{\"line\":{\"color\":\"blue\",\"width\":0.5},\"mode\":\"markers+lines\",\"x\":[0,-2],\"y\":[0,2],\"type\":\"scatter\"},{\"line\":{\"color\":\"blue\",\"width\":0.5},\"mode\":\"markers+lines\",\"x\":[0,-2],\"y\":[0,3],\"type\":\"scatter\"},{\"line\":{\"color\":\"blue\",\"width\":0.5},\"mode\":\"markers+lines\",\"x\":[0,-2],\"y\":[0,4],\"type\":\"scatter\"},{\"line\":{\"color\":\"blue\",\"width\":0.5},\"mode\":\"markers+lines\",\"x\":[0,-2],\"y\":[0,5],\"type\":\"scatter\"},{\"line\":{\"color\":\"blue\",\"width\":0.5},\"mode\":\"markers+lines\",\"x\":[0,-2],\"y\":[0,6],\"type\":\"scatter\"},{\"line\":{\"color\":\"blue\",\"width\":0.5},\"mode\":\"markers+lines\",\"x\":[0,-2],\"y\":[0,7],\"type\":\"scatter\"},{\"line\":{\"color\":\"blue\",\"width\":0.5},\"mode\":\"markers+lines\",\"x\":[0,-2],\"y\":[0,8],\"type\":\"scatter\"},{\"line\":{\"color\":\"blue\",\"width\":0.5},\"mode\":\"markers+lines\",\"x\":[0,-2],\"y\":[0,9],\"type\":\"scatter\"},{\"line\":{\"color\":\"blue\",\"width\":0.5},\"mode\":\"markers+lines\",\"x\":[0,-1],\"y\":[0,-10],\"type\":\"scatter\"},{\"line\":{\"color\":\"blue\",\"width\":0.5},\"mode\":\"markers+lines\",\"x\":[0,-1],\"y\":[0,-9],\"type\":\"scatter\"},{\"line\":{\"color\":\"blue\",\"width\":0.5},\"mode\":\"markers+lines\",\"x\":[0,-1],\"y\":[0,-8],\"type\":\"scatter\"},{\"line\":{\"color\":\"blue\",\"width\":0.5},\"mode\":\"markers+lines\",\"x\":[0,-1],\"y\":[0,-7],\"type\":\"scatter\"},{\"line\":{\"color\":\"blue\",\"width\":0.5},\"mode\":\"markers+lines\",\"x\":[0,-1],\"y\":[0,-6],\"type\":\"scatter\"},{\"line\":{\"color\":\"blue\",\"width\":0.5},\"mode\":\"markers+lines\",\"x\":[0,-1],\"y\":[0,-5],\"type\":\"scatter\"},{\"line\":{\"color\":\"blue\",\"width\":0.5},\"mode\":\"markers+lines\",\"x\":[0,-1],\"y\":[0,-4],\"type\":\"scatter\"},{\"line\":{\"color\":\"blue\",\"width\":0.5},\"mode\":\"markers+lines\",\"x\":[0,-1],\"y\":[0,-3],\"type\":\"scatter\"},{\"line\":{\"color\":\"blue\",\"width\":0.5},\"mode\":\"markers+lines\",\"x\":[0,-1],\"y\":[0,-2],\"type\":\"scatter\"},{\"line\":{\"color\":\"blue\",\"width\":0.5},\"mode\":\"markers+lines\",\"x\":[0,-1],\"y\":[0,-1],\"type\":\"scatter\"},{\"line\":{\"color\":\"blue\",\"width\":0.5},\"mode\":\"markers+lines\",\"x\":[0,-1],\"y\":[0,0],\"type\":\"scatter\"},{\"line\":{\"color\":\"blue\",\"width\":0.5},\"mode\":\"markers+lines\",\"x\":[0,-1],\"y\":[0,1],\"type\":\"scatter\"},{\"line\":{\"color\":\"blue\",\"width\":0.5},\"mode\":\"markers+lines\",\"x\":[0,-1],\"y\":[0,2],\"type\":\"scatter\"},{\"line\":{\"color\":\"blue\",\"width\":0.5},\"mode\":\"markers+lines\",\"x\":[0,-1],\"y\":[0,3],\"type\":\"scatter\"},{\"line\":{\"color\":\"blue\",\"width\":0.5},\"mode\":\"markers+lines\",\"x\":[0,-1],\"y\":[0,4],\"type\":\"scatter\"},{\"line\":{\"color\":\"blue\",\"width\":0.5},\"mode\":\"markers+lines\",\"x\":[0,-1],\"y\":[0,5],\"type\":\"scatter\"},{\"line\":{\"color\":\"blue\",\"width\":0.5},\"mode\":\"markers+lines\",\"x\":[0,-1],\"y\":[0,6],\"type\":\"scatter\"},{\"line\":{\"color\":\"blue\",\"width\":0.5},\"mode\":\"markers+lines\",\"x\":[0,-1],\"y\":[0,7],\"type\":\"scatter\"},{\"line\":{\"color\":\"blue\",\"width\":0.5},\"mode\":\"markers+lines\",\"x\":[0,-1],\"y\":[0,8],\"type\":\"scatter\"},{\"line\":{\"color\":\"blue\",\"width\":0.5},\"mode\":\"markers+lines\",\"x\":[0,-1],\"y\":[0,9],\"type\":\"scatter\"},{\"line\":{\"color\":\"blue\",\"width\":0.5},\"mode\":\"markers+lines\",\"x\":[0,0],\"y\":[0,-10],\"type\":\"scatter\"},{\"line\":{\"color\":\"blue\",\"width\":0.5},\"mode\":\"markers+lines\",\"x\":[0,0],\"y\":[0,-9],\"type\":\"scatter\"},{\"line\":{\"color\":\"blue\",\"width\":0.5},\"mode\":\"markers+lines\",\"x\":[0,0],\"y\":[0,-8],\"type\":\"scatter\"},{\"line\":{\"color\":\"blue\",\"width\":0.5},\"mode\":\"markers+lines\",\"x\":[0,0],\"y\":[0,-7],\"type\":\"scatter\"},{\"line\":{\"color\":\"blue\",\"width\":0.5},\"mode\":\"markers+lines\",\"x\":[0,0],\"y\":[0,-6],\"type\":\"scatter\"},{\"line\":{\"color\":\"blue\",\"width\":0.5},\"mode\":\"markers+lines\",\"x\":[0,0],\"y\":[0,-5],\"type\":\"scatter\"},{\"line\":{\"color\":\"blue\",\"width\":0.5},\"mode\":\"markers+lines\",\"x\":[0,0],\"y\":[0,-4],\"type\":\"scatter\"},{\"line\":{\"color\":\"blue\",\"width\":0.5},\"mode\":\"markers+lines\",\"x\":[0,0],\"y\":[0,-3],\"type\":\"scatter\"},{\"line\":{\"color\":\"blue\",\"width\":0.5},\"mode\":\"markers+lines\",\"x\":[0,0],\"y\":[0,-2],\"type\":\"scatter\"},{\"line\":{\"color\":\"blue\",\"width\":0.5},\"mode\":\"markers+lines\",\"x\":[0,0],\"y\":[0,-1],\"type\":\"scatter\"},{\"line\":{\"color\":\"blue\",\"width\":0.5},\"mode\":\"markers+lines\",\"x\":[0,0],\"y\":[0,0],\"type\":\"scatter\"},{\"line\":{\"color\":\"blue\",\"width\":0.5},\"mode\":\"markers+lines\",\"x\":[0,0],\"y\":[0,1],\"type\":\"scatter\"},{\"line\":{\"color\":\"blue\",\"width\":0.5},\"mode\":\"markers+lines\",\"x\":[0,0],\"y\":[0,2],\"type\":\"scatter\"},{\"line\":{\"color\":\"blue\",\"width\":0.5},\"mode\":\"markers+lines\",\"x\":[0,0],\"y\":[0,3],\"type\":\"scatter\"},{\"line\":{\"color\":\"blue\",\"width\":0.5},\"mode\":\"markers+lines\",\"x\":[0,0],\"y\":[0,4],\"type\":\"scatter\"},{\"line\":{\"color\":\"blue\",\"width\":0.5},\"mode\":\"markers+lines\",\"x\":[0,0],\"y\":[0,5],\"type\":\"scatter\"},{\"line\":{\"color\":\"blue\",\"width\":0.5},\"mode\":\"markers+lines\",\"x\":[0,0],\"y\":[0,6],\"type\":\"scatter\"},{\"line\":{\"color\":\"blue\",\"width\":0.5},\"mode\":\"markers+lines\",\"x\":[0,0],\"y\":[0,7],\"type\":\"scatter\"},{\"line\":{\"color\":\"blue\",\"width\":0.5},\"mode\":\"markers+lines\",\"x\":[0,0],\"y\":[0,8],\"type\":\"scatter\"},{\"line\":{\"color\":\"blue\",\"width\":0.5},\"mode\":\"markers+lines\",\"x\":[0,0],\"y\":[0,9],\"type\":\"scatter\"},{\"line\":{\"color\":\"blue\",\"width\":0.5},\"mode\":\"markers+lines\",\"x\":[0,1],\"y\":[0,-10],\"type\":\"scatter\"},{\"line\":{\"color\":\"blue\",\"width\":0.5},\"mode\":\"markers+lines\",\"x\":[0,1],\"y\":[0,-9],\"type\":\"scatter\"},{\"line\":{\"color\":\"blue\",\"width\":0.5},\"mode\":\"markers+lines\",\"x\":[0,1],\"y\":[0,-8],\"type\":\"scatter\"},{\"line\":{\"color\":\"blue\",\"width\":0.5},\"mode\":\"markers+lines\",\"x\":[0,1],\"y\":[0,-7],\"type\":\"scatter\"},{\"line\":{\"color\":\"blue\",\"width\":0.5},\"mode\":\"markers+lines\",\"x\":[0,1],\"y\":[0,-6],\"type\":\"scatter\"},{\"line\":{\"color\":\"blue\",\"width\":0.5},\"mode\":\"markers+lines\",\"x\":[0,1],\"y\":[0,-5],\"type\":\"scatter\"},{\"line\":{\"color\":\"blue\",\"width\":0.5},\"mode\":\"markers+lines\",\"x\":[0,1],\"y\":[0,-4],\"type\":\"scatter\"},{\"line\":{\"color\":\"blue\",\"width\":0.5},\"mode\":\"markers+lines\",\"x\":[0,1],\"y\":[0,-3],\"type\":\"scatter\"},{\"line\":{\"color\":\"blue\",\"width\":0.5},\"mode\":\"markers+lines\",\"x\":[0,1],\"y\":[0,-2],\"type\":\"scatter\"},{\"line\":{\"color\":\"blue\",\"width\":0.5},\"mode\":\"markers+lines\",\"x\":[0,1],\"y\":[0,-1],\"type\":\"scatter\"},{\"line\":{\"color\":\"blue\",\"width\":0.5},\"mode\":\"markers+lines\",\"x\":[0,1],\"y\":[0,0],\"type\":\"scatter\"},{\"line\":{\"color\":\"blue\",\"width\":0.5},\"mode\":\"markers+lines\",\"x\":[0,1],\"y\":[0,1],\"type\":\"scatter\"},{\"line\":{\"color\":\"blue\",\"width\":0.5},\"mode\":\"markers+lines\",\"x\":[0,1],\"y\":[0,2],\"type\":\"scatter\"},{\"line\":{\"color\":\"blue\",\"width\":0.5},\"mode\":\"markers+lines\",\"x\":[0,1],\"y\":[0,3],\"type\":\"scatter\"},{\"line\":{\"color\":\"blue\",\"width\":0.5},\"mode\":\"markers+lines\",\"x\":[0,1],\"y\":[0,4],\"type\":\"scatter\"},{\"line\":{\"color\":\"blue\",\"width\":0.5},\"mode\":\"markers+lines\",\"x\":[0,1],\"y\":[0,5],\"type\":\"scatter\"},{\"line\":{\"color\":\"blue\",\"width\":0.5},\"mode\":\"markers+lines\",\"x\":[0,1],\"y\":[0,6],\"type\":\"scatter\"},{\"line\":{\"color\":\"blue\",\"width\":0.5},\"mode\":\"markers+lines\",\"x\":[0,1],\"y\":[0,7],\"type\":\"scatter\"},{\"line\":{\"color\":\"blue\",\"width\":0.5},\"mode\":\"markers+lines\",\"x\":[0,1],\"y\":[0,8],\"type\":\"scatter\"},{\"line\":{\"color\":\"blue\",\"width\":0.5},\"mode\":\"markers+lines\",\"x\":[0,1],\"y\":[0,9],\"type\":\"scatter\"},{\"line\":{\"color\":\"blue\",\"width\":0.5},\"mode\":\"markers+lines\",\"x\":[0,2],\"y\":[0,-10],\"type\":\"scatter\"},{\"line\":{\"color\":\"blue\",\"width\":0.5},\"mode\":\"markers+lines\",\"x\":[0,2],\"y\":[0,-9],\"type\":\"scatter\"},{\"line\":{\"color\":\"blue\",\"width\":0.5},\"mode\":\"markers+lines\",\"x\":[0,2],\"y\":[0,-8],\"type\":\"scatter\"},{\"line\":{\"color\":\"blue\",\"width\":0.5},\"mode\":\"markers+lines\",\"x\":[0,2],\"y\":[0,-7],\"type\":\"scatter\"},{\"line\":{\"color\":\"blue\",\"width\":0.5},\"mode\":\"markers+lines\",\"x\":[0,2],\"y\":[0,-6],\"type\":\"scatter\"},{\"line\":{\"color\":\"blue\",\"width\":0.5},\"mode\":\"markers+lines\",\"x\":[0,2],\"y\":[0,-5],\"type\":\"scatter\"},{\"line\":{\"color\":\"blue\",\"width\":0.5},\"mode\":\"markers+lines\",\"x\":[0,2],\"y\":[0,-4],\"type\":\"scatter\"},{\"line\":{\"color\":\"blue\",\"width\":0.5},\"mode\":\"markers+lines\",\"x\":[0,2],\"y\":[0,-3],\"type\":\"scatter\"},{\"line\":{\"color\":\"blue\",\"width\":0.5},\"mode\":\"markers+lines\",\"x\":[0,2],\"y\":[0,-2],\"type\":\"scatter\"},{\"line\":{\"color\":\"blue\",\"width\":0.5},\"mode\":\"markers+lines\",\"x\":[0,2],\"y\":[0,-1],\"type\":\"scatter\"},{\"line\":{\"color\":\"blue\",\"width\":0.5},\"mode\":\"markers+lines\",\"x\":[0,2],\"y\":[0,0],\"type\":\"scatter\"},{\"line\":{\"color\":\"blue\",\"width\":0.5},\"mode\":\"markers+lines\",\"x\":[0,2],\"y\":[0,1],\"type\":\"scatter\"},{\"line\":{\"color\":\"blue\",\"width\":0.5},\"mode\":\"markers+lines\",\"x\":[0,2],\"y\":[0,2],\"type\":\"scatter\"},{\"line\":{\"color\":\"blue\",\"width\":0.5},\"mode\":\"markers+lines\",\"x\":[0,2],\"y\":[0,3],\"type\":\"scatter\"},{\"line\":{\"color\":\"blue\",\"width\":0.5},\"mode\":\"markers+lines\",\"x\":[0,2],\"y\":[0,4],\"type\":\"scatter\"},{\"line\":{\"color\":\"blue\",\"width\":0.5},\"mode\":\"markers+lines\",\"x\":[0,2],\"y\":[0,5],\"type\":\"scatter\"},{\"line\":{\"color\":\"blue\",\"width\":0.5},\"mode\":\"markers+lines\",\"x\":[0,2],\"y\":[0,6],\"type\":\"scatter\"},{\"line\":{\"color\":\"blue\",\"width\":0.5},\"mode\":\"markers+lines\",\"x\":[0,2],\"y\":[0,7],\"type\":\"scatter\"},{\"line\":{\"color\":\"blue\",\"width\":0.5},\"mode\":\"markers+lines\",\"x\":[0,2],\"y\":[0,8],\"type\":\"scatter\"},{\"line\":{\"color\":\"blue\",\"width\":0.5},\"mode\":\"markers+lines\",\"x\":[0,2],\"y\":[0,9],\"type\":\"scatter\"},{\"line\":{\"color\":\"blue\",\"width\":0.5},\"mode\":\"markers+lines\",\"x\":[0,3],\"y\":[0,-10],\"type\":\"scatter\"},{\"line\":{\"color\":\"blue\",\"width\":0.5},\"mode\":\"markers+lines\",\"x\":[0,3],\"y\":[0,-9],\"type\":\"scatter\"},{\"line\":{\"color\":\"blue\",\"width\":0.5},\"mode\":\"markers+lines\",\"x\":[0,3],\"y\":[0,-8],\"type\":\"scatter\"},{\"line\":{\"color\":\"blue\",\"width\":0.5},\"mode\":\"markers+lines\",\"x\":[0,3],\"y\":[0,-7],\"type\":\"scatter\"},{\"line\":{\"color\":\"blue\",\"width\":0.5},\"mode\":\"markers+lines\",\"x\":[0,3],\"y\":[0,-6],\"type\":\"scatter\"},{\"line\":{\"color\":\"blue\",\"width\":0.5},\"mode\":\"markers+lines\",\"x\":[0,3],\"y\":[0,-5],\"type\":\"scatter\"},{\"line\":{\"color\":\"blue\",\"width\":0.5},\"mode\":\"markers+lines\",\"x\":[0,3],\"y\":[0,-4],\"type\":\"scatter\"},{\"line\":{\"color\":\"blue\",\"width\":0.5},\"mode\":\"markers+lines\",\"x\":[0,3],\"y\":[0,-3],\"type\":\"scatter\"},{\"line\":{\"color\":\"blue\",\"width\":0.5},\"mode\":\"markers+lines\",\"x\":[0,3],\"y\":[0,-2],\"type\":\"scatter\"},{\"line\":{\"color\":\"blue\",\"width\":0.5},\"mode\":\"markers+lines\",\"x\":[0,3],\"y\":[0,-1],\"type\":\"scatter\"},{\"line\":{\"color\":\"blue\",\"width\":0.5},\"mode\":\"markers+lines\",\"x\":[0,3],\"y\":[0,0],\"type\":\"scatter\"},{\"line\":{\"color\":\"blue\",\"width\":0.5},\"mode\":\"markers+lines\",\"x\":[0,3],\"y\":[0,1],\"type\":\"scatter\"},{\"line\":{\"color\":\"blue\",\"width\":0.5},\"mode\":\"markers+lines\",\"x\":[0,3],\"y\":[0,2],\"type\":\"scatter\"},{\"line\":{\"color\":\"blue\",\"width\":0.5},\"mode\":\"markers+lines\",\"x\":[0,3],\"y\":[0,3],\"type\":\"scatter\"},{\"line\":{\"color\":\"blue\",\"width\":0.5},\"mode\":\"markers+lines\",\"x\":[0,3],\"y\":[0,4],\"type\":\"scatter\"},{\"line\":{\"color\":\"blue\",\"width\":0.5},\"mode\":\"markers+lines\",\"x\":[0,3],\"y\":[0,5],\"type\":\"scatter\"},{\"line\":{\"color\":\"blue\",\"width\":0.5},\"mode\":\"markers+lines\",\"x\":[0,3],\"y\":[0,6],\"type\":\"scatter\"},{\"line\":{\"color\":\"blue\",\"width\":0.5},\"mode\":\"markers+lines\",\"x\":[0,3],\"y\":[0,7],\"type\":\"scatter\"},{\"line\":{\"color\":\"blue\",\"width\":0.5},\"mode\":\"markers+lines\",\"x\":[0,3],\"y\":[0,8],\"type\":\"scatter\"},{\"line\":{\"color\":\"blue\",\"width\":0.5},\"mode\":\"markers+lines\",\"x\":[0,3],\"y\":[0,9],\"type\":\"scatter\"},{\"line\":{\"color\":\"blue\",\"width\":0.5},\"mode\":\"markers+lines\",\"x\":[0,4],\"y\":[0,-10],\"type\":\"scatter\"},{\"line\":{\"color\":\"blue\",\"width\":0.5},\"mode\":\"markers+lines\",\"x\":[0,4],\"y\":[0,-9],\"type\":\"scatter\"},{\"line\":{\"color\":\"blue\",\"width\":0.5},\"mode\":\"markers+lines\",\"x\":[0,4],\"y\":[0,-8],\"type\":\"scatter\"},{\"line\":{\"color\":\"blue\",\"width\":0.5},\"mode\":\"markers+lines\",\"x\":[0,4],\"y\":[0,-7],\"type\":\"scatter\"},{\"line\":{\"color\":\"blue\",\"width\":0.5},\"mode\":\"markers+lines\",\"x\":[0,4],\"y\":[0,-6],\"type\":\"scatter\"},{\"line\":{\"color\":\"blue\",\"width\":0.5},\"mode\":\"markers+lines\",\"x\":[0,4],\"y\":[0,-5],\"type\":\"scatter\"},{\"line\":{\"color\":\"blue\",\"width\":0.5},\"mode\":\"markers+lines\",\"x\":[0,4],\"y\":[0,-4],\"type\":\"scatter\"},{\"line\":{\"color\":\"blue\",\"width\":0.5},\"mode\":\"markers+lines\",\"x\":[0,4],\"y\":[0,-3],\"type\":\"scatter\"},{\"line\":{\"color\":\"blue\",\"width\":0.5},\"mode\":\"markers+lines\",\"x\":[0,4],\"y\":[0,-2],\"type\":\"scatter\"},{\"line\":{\"color\":\"blue\",\"width\":0.5},\"mode\":\"markers+lines\",\"x\":[0,4],\"y\":[0,-1],\"type\":\"scatter\"},{\"line\":{\"color\":\"blue\",\"width\":0.5},\"mode\":\"markers+lines\",\"x\":[0,4],\"y\":[0,0],\"type\":\"scatter\"},{\"line\":{\"color\":\"blue\",\"width\":0.5},\"mode\":\"markers+lines\",\"x\":[0,4],\"y\":[0,1],\"type\":\"scatter\"},{\"line\":{\"color\":\"blue\",\"width\":0.5},\"mode\":\"markers+lines\",\"x\":[0,4],\"y\":[0,2],\"type\":\"scatter\"},{\"line\":{\"color\":\"blue\",\"width\":0.5},\"mode\":\"markers+lines\",\"x\":[0,4],\"y\":[0,3],\"type\":\"scatter\"},{\"line\":{\"color\":\"blue\",\"width\":0.5},\"mode\":\"markers+lines\",\"x\":[0,4],\"y\":[0,4],\"type\":\"scatter\"},{\"line\":{\"color\":\"blue\",\"width\":0.5},\"mode\":\"markers+lines\",\"x\":[0,4],\"y\":[0,5],\"type\":\"scatter\"},{\"line\":{\"color\":\"blue\",\"width\":0.5},\"mode\":\"markers+lines\",\"x\":[0,4],\"y\":[0,6],\"type\":\"scatter\"},{\"line\":{\"color\":\"blue\",\"width\":0.5},\"mode\":\"markers+lines\",\"x\":[0,4],\"y\":[0,7],\"type\":\"scatter\"},{\"line\":{\"color\":\"blue\",\"width\":0.5},\"mode\":\"markers+lines\",\"x\":[0,4],\"y\":[0,8],\"type\":\"scatter\"},{\"line\":{\"color\":\"blue\",\"width\":0.5},\"mode\":\"markers+lines\",\"x\":[0,4],\"y\":[0,9],\"type\":\"scatter\"},{\"line\":{\"color\":\"blue\",\"width\":0.5},\"mode\":\"markers+lines\",\"x\":[0,5],\"y\":[0,-10],\"type\":\"scatter\"},{\"line\":{\"color\":\"blue\",\"width\":0.5},\"mode\":\"markers+lines\",\"x\":[0,5],\"y\":[0,-9],\"type\":\"scatter\"},{\"line\":{\"color\":\"blue\",\"width\":0.5},\"mode\":\"markers+lines\",\"x\":[0,5],\"y\":[0,-8],\"type\":\"scatter\"},{\"line\":{\"color\":\"blue\",\"width\":0.5},\"mode\":\"markers+lines\",\"x\":[0,5],\"y\":[0,-7],\"type\":\"scatter\"},{\"line\":{\"color\":\"blue\",\"width\":0.5},\"mode\":\"markers+lines\",\"x\":[0,5],\"y\":[0,-6],\"type\":\"scatter\"},{\"line\":{\"color\":\"blue\",\"width\":0.5},\"mode\":\"markers+lines\",\"x\":[0,5],\"y\":[0,-5],\"type\":\"scatter\"},{\"line\":{\"color\":\"blue\",\"width\":0.5},\"mode\":\"markers+lines\",\"x\":[0,5],\"y\":[0,-4],\"type\":\"scatter\"},{\"line\":{\"color\":\"blue\",\"width\":0.5},\"mode\":\"markers+lines\",\"x\":[0,5],\"y\":[0,-3],\"type\":\"scatter\"},{\"line\":{\"color\":\"blue\",\"width\":0.5},\"mode\":\"markers+lines\",\"x\":[0,5],\"y\":[0,-2],\"type\":\"scatter\"},{\"line\":{\"color\":\"blue\",\"width\":0.5},\"mode\":\"markers+lines\",\"x\":[0,5],\"y\":[0,-1],\"type\":\"scatter\"},{\"line\":{\"color\":\"blue\",\"width\":0.5},\"mode\":\"markers+lines\",\"x\":[0,5],\"y\":[0,0],\"type\":\"scatter\"},{\"line\":{\"color\":\"blue\",\"width\":0.5},\"mode\":\"markers+lines\",\"x\":[0,5],\"y\":[0,1],\"type\":\"scatter\"},{\"line\":{\"color\":\"blue\",\"width\":0.5},\"mode\":\"markers+lines\",\"x\":[0,5],\"y\":[0,2],\"type\":\"scatter\"},{\"line\":{\"color\":\"blue\",\"width\":0.5},\"mode\":\"markers+lines\",\"x\":[0,5],\"y\":[0,3],\"type\":\"scatter\"},{\"line\":{\"color\":\"blue\",\"width\":0.5},\"mode\":\"markers+lines\",\"x\":[0,5],\"y\":[0,4],\"type\":\"scatter\"},{\"line\":{\"color\":\"blue\",\"width\":0.5},\"mode\":\"markers+lines\",\"x\":[0,5],\"y\":[0,5],\"type\":\"scatter\"},{\"line\":{\"color\":\"blue\",\"width\":0.5},\"mode\":\"markers+lines\",\"x\":[0,5],\"y\":[0,6],\"type\":\"scatter\"},{\"line\":{\"color\":\"blue\",\"width\":0.5},\"mode\":\"markers+lines\",\"x\":[0,5],\"y\":[0,7],\"type\":\"scatter\"},{\"line\":{\"color\":\"blue\",\"width\":0.5},\"mode\":\"markers+lines\",\"x\":[0,5],\"y\":[0,8],\"type\":\"scatter\"},{\"line\":{\"color\":\"blue\",\"width\":0.5},\"mode\":\"markers+lines\",\"x\":[0,5],\"y\":[0,9],\"type\":\"scatter\"},{\"line\":{\"color\":\"blue\",\"width\":0.5},\"mode\":\"markers+lines\",\"x\":[0,6],\"y\":[0,-10],\"type\":\"scatter\"},{\"line\":{\"color\":\"blue\",\"width\":0.5},\"mode\":\"markers+lines\",\"x\":[0,6],\"y\":[0,-9],\"type\":\"scatter\"},{\"line\":{\"color\":\"blue\",\"width\":0.5},\"mode\":\"markers+lines\",\"x\":[0,6],\"y\":[0,-8],\"type\":\"scatter\"},{\"line\":{\"color\":\"blue\",\"width\":0.5},\"mode\":\"markers+lines\",\"x\":[0,6],\"y\":[0,-7],\"type\":\"scatter\"},{\"line\":{\"color\":\"blue\",\"width\":0.5},\"mode\":\"markers+lines\",\"x\":[0,6],\"y\":[0,-6],\"type\":\"scatter\"},{\"line\":{\"color\":\"blue\",\"width\":0.5},\"mode\":\"markers+lines\",\"x\":[0,6],\"y\":[0,-5],\"type\":\"scatter\"},{\"line\":{\"color\":\"blue\",\"width\":0.5},\"mode\":\"markers+lines\",\"x\":[0,6],\"y\":[0,-4],\"type\":\"scatter\"},{\"line\":{\"color\":\"blue\",\"width\":0.5},\"mode\":\"markers+lines\",\"x\":[0,6],\"y\":[0,-3],\"type\":\"scatter\"},{\"line\":{\"color\":\"blue\",\"width\":0.5},\"mode\":\"markers+lines\",\"x\":[0,6],\"y\":[0,-2],\"type\":\"scatter\"},{\"line\":{\"color\":\"blue\",\"width\":0.5},\"mode\":\"markers+lines\",\"x\":[0,6],\"y\":[0,-1],\"type\":\"scatter\"},{\"line\":{\"color\":\"blue\",\"width\":0.5},\"mode\":\"markers+lines\",\"x\":[0,6],\"y\":[0,0],\"type\":\"scatter\"},{\"line\":{\"color\":\"blue\",\"width\":0.5},\"mode\":\"markers+lines\",\"x\":[0,6],\"y\":[0,1],\"type\":\"scatter\"},{\"line\":{\"color\":\"blue\",\"width\":0.5},\"mode\":\"markers+lines\",\"x\":[0,6],\"y\":[0,2],\"type\":\"scatter\"},{\"line\":{\"color\":\"blue\",\"width\":0.5},\"mode\":\"markers+lines\",\"x\":[0,6],\"y\":[0,3],\"type\":\"scatter\"},{\"line\":{\"color\":\"blue\",\"width\":0.5},\"mode\":\"markers+lines\",\"x\":[0,6],\"y\":[0,4],\"type\":\"scatter\"},{\"line\":{\"color\":\"blue\",\"width\":0.5},\"mode\":\"markers+lines\",\"x\":[0,6],\"y\":[0,5],\"type\":\"scatter\"},{\"line\":{\"color\":\"blue\",\"width\":0.5},\"mode\":\"markers+lines\",\"x\":[0,6],\"y\":[0,6],\"type\":\"scatter\"},{\"line\":{\"color\":\"blue\",\"width\":0.5},\"mode\":\"markers+lines\",\"x\":[0,6],\"y\":[0,7],\"type\":\"scatter\"},{\"line\":{\"color\":\"blue\",\"width\":0.5},\"mode\":\"markers+lines\",\"x\":[0,6],\"y\":[0,8],\"type\":\"scatter\"},{\"line\":{\"color\":\"blue\",\"width\":0.5},\"mode\":\"markers+lines\",\"x\":[0,6],\"y\":[0,9],\"type\":\"scatter\"},{\"line\":{\"color\":\"blue\",\"width\":0.5},\"mode\":\"markers+lines\",\"x\":[0,7],\"y\":[0,-10],\"type\":\"scatter\"},{\"line\":{\"color\":\"blue\",\"width\":0.5},\"mode\":\"markers+lines\",\"x\":[0,7],\"y\":[0,-9],\"type\":\"scatter\"},{\"line\":{\"color\":\"blue\",\"width\":0.5},\"mode\":\"markers+lines\",\"x\":[0,7],\"y\":[0,-8],\"type\":\"scatter\"},{\"line\":{\"color\":\"blue\",\"width\":0.5},\"mode\":\"markers+lines\",\"x\":[0,7],\"y\":[0,-7],\"type\":\"scatter\"},{\"line\":{\"color\":\"blue\",\"width\":0.5},\"mode\":\"markers+lines\",\"x\":[0,7],\"y\":[0,-6],\"type\":\"scatter\"},{\"line\":{\"color\":\"blue\",\"width\":0.5},\"mode\":\"markers+lines\",\"x\":[0,7],\"y\":[0,-5],\"type\":\"scatter\"},{\"line\":{\"color\":\"blue\",\"width\":0.5},\"mode\":\"markers+lines\",\"x\":[0,7],\"y\":[0,-4],\"type\":\"scatter\"},{\"line\":{\"color\":\"blue\",\"width\":0.5},\"mode\":\"markers+lines\",\"x\":[0,7],\"y\":[0,-3],\"type\":\"scatter\"},{\"line\":{\"color\":\"blue\",\"width\":0.5},\"mode\":\"markers+lines\",\"x\":[0,7],\"y\":[0,-2],\"type\":\"scatter\"},{\"line\":{\"color\":\"blue\",\"width\":0.5},\"mode\":\"markers+lines\",\"x\":[0,7],\"y\":[0,-1],\"type\":\"scatter\"},{\"line\":{\"color\":\"blue\",\"width\":0.5},\"mode\":\"markers+lines\",\"x\":[0,7],\"y\":[0,0],\"type\":\"scatter\"},{\"line\":{\"color\":\"blue\",\"width\":0.5},\"mode\":\"markers+lines\",\"x\":[0,7],\"y\":[0,1],\"type\":\"scatter\"},{\"line\":{\"color\":\"blue\",\"width\":0.5},\"mode\":\"markers+lines\",\"x\":[0,7],\"y\":[0,2],\"type\":\"scatter\"},{\"line\":{\"color\":\"blue\",\"width\":0.5},\"mode\":\"markers+lines\",\"x\":[0,7],\"y\":[0,3],\"type\":\"scatter\"},{\"line\":{\"color\":\"blue\",\"width\":0.5},\"mode\":\"markers+lines\",\"x\":[0,7],\"y\":[0,4],\"type\":\"scatter\"},{\"line\":{\"color\":\"blue\",\"width\":0.5},\"mode\":\"markers+lines\",\"x\":[0,7],\"y\":[0,5],\"type\":\"scatter\"},{\"line\":{\"color\":\"blue\",\"width\":0.5},\"mode\":\"markers+lines\",\"x\":[0,7],\"y\":[0,6],\"type\":\"scatter\"},{\"line\":{\"color\":\"blue\",\"width\":0.5},\"mode\":\"markers+lines\",\"x\":[0,7],\"y\":[0,7],\"type\":\"scatter\"},{\"line\":{\"color\":\"blue\",\"width\":0.5},\"mode\":\"markers+lines\",\"x\":[0,7],\"y\":[0,8],\"type\":\"scatter\"},{\"line\":{\"color\":\"blue\",\"width\":0.5},\"mode\":\"markers+lines\",\"x\":[0,7],\"y\":[0,9],\"type\":\"scatter\"},{\"line\":{\"color\":\"blue\",\"width\":0.5},\"mode\":\"markers+lines\",\"x\":[0,8],\"y\":[0,-10],\"type\":\"scatter\"},{\"line\":{\"color\":\"blue\",\"width\":0.5},\"mode\":\"markers+lines\",\"x\":[0,8],\"y\":[0,-9],\"type\":\"scatter\"},{\"line\":{\"color\":\"blue\",\"width\":0.5},\"mode\":\"markers+lines\",\"x\":[0,8],\"y\":[0,-8],\"type\":\"scatter\"},{\"line\":{\"color\":\"blue\",\"width\":0.5},\"mode\":\"markers+lines\",\"x\":[0,8],\"y\":[0,-7],\"type\":\"scatter\"},{\"line\":{\"color\":\"blue\",\"width\":0.5},\"mode\":\"markers+lines\",\"x\":[0,8],\"y\":[0,-6],\"type\":\"scatter\"},{\"line\":{\"color\":\"blue\",\"width\":0.5},\"mode\":\"markers+lines\",\"x\":[0,8],\"y\":[0,-5],\"type\":\"scatter\"},{\"line\":{\"color\":\"blue\",\"width\":0.5},\"mode\":\"markers+lines\",\"x\":[0,8],\"y\":[0,-4],\"type\":\"scatter\"},{\"line\":{\"color\":\"blue\",\"width\":0.5},\"mode\":\"markers+lines\",\"x\":[0,8],\"y\":[0,-3],\"type\":\"scatter\"},{\"line\":{\"color\":\"blue\",\"width\":0.5},\"mode\":\"markers+lines\",\"x\":[0,8],\"y\":[0,-2],\"type\":\"scatter\"},{\"line\":{\"color\":\"blue\",\"width\":0.5},\"mode\":\"markers+lines\",\"x\":[0,8],\"y\":[0,-1],\"type\":\"scatter\"},{\"line\":{\"color\":\"blue\",\"width\":0.5},\"mode\":\"markers+lines\",\"x\":[0,8],\"y\":[0,0],\"type\":\"scatter\"},{\"line\":{\"color\":\"blue\",\"width\":0.5},\"mode\":\"markers+lines\",\"x\":[0,8],\"y\":[0,1],\"type\":\"scatter\"},{\"line\":{\"color\":\"blue\",\"width\":0.5},\"mode\":\"markers+lines\",\"x\":[0,8],\"y\":[0,2],\"type\":\"scatter\"},{\"line\":{\"color\":\"blue\",\"width\":0.5},\"mode\":\"markers+lines\",\"x\":[0,8],\"y\":[0,3],\"type\":\"scatter\"},{\"line\":{\"color\":\"blue\",\"width\":0.5},\"mode\":\"markers+lines\",\"x\":[0,8],\"y\":[0,4],\"type\":\"scatter\"},{\"line\":{\"color\":\"blue\",\"width\":0.5},\"mode\":\"markers+lines\",\"x\":[0,8],\"y\":[0,5],\"type\":\"scatter\"},{\"line\":{\"color\":\"blue\",\"width\":0.5},\"mode\":\"markers+lines\",\"x\":[0,8],\"y\":[0,6],\"type\":\"scatter\"},{\"line\":{\"color\":\"blue\",\"width\":0.5},\"mode\":\"markers+lines\",\"x\":[0,8],\"y\":[0,7],\"type\":\"scatter\"},{\"line\":{\"color\":\"blue\",\"width\":0.5},\"mode\":\"markers+lines\",\"x\":[0,8],\"y\":[0,8],\"type\":\"scatter\"},{\"line\":{\"color\":\"blue\",\"width\":0.5},\"mode\":\"markers+lines\",\"x\":[0,8],\"y\":[0,9],\"type\":\"scatter\"},{\"line\":{\"color\":\"blue\",\"width\":0.5},\"mode\":\"markers+lines\",\"x\":[0,9],\"y\":[0,-10],\"type\":\"scatter\"},{\"line\":{\"color\":\"blue\",\"width\":0.5},\"mode\":\"markers+lines\",\"x\":[0,9],\"y\":[0,-9],\"type\":\"scatter\"},{\"line\":{\"color\":\"blue\",\"width\":0.5},\"mode\":\"markers+lines\",\"x\":[0,9],\"y\":[0,-8],\"type\":\"scatter\"},{\"line\":{\"color\":\"blue\",\"width\":0.5},\"mode\":\"markers+lines\",\"x\":[0,9],\"y\":[0,-7],\"type\":\"scatter\"},{\"line\":{\"color\":\"blue\",\"width\":0.5},\"mode\":\"markers+lines\",\"x\":[0,9],\"y\":[0,-6],\"type\":\"scatter\"},{\"line\":{\"color\":\"blue\",\"width\":0.5},\"mode\":\"markers+lines\",\"x\":[0,9],\"y\":[0,-5],\"type\":\"scatter\"},{\"line\":{\"color\":\"blue\",\"width\":0.5},\"mode\":\"markers+lines\",\"x\":[0,9],\"y\":[0,-4],\"type\":\"scatter\"},{\"line\":{\"color\":\"blue\",\"width\":0.5},\"mode\":\"markers+lines\",\"x\":[0,9],\"y\":[0,-3],\"type\":\"scatter\"},{\"line\":{\"color\":\"blue\",\"width\":0.5},\"mode\":\"markers+lines\",\"x\":[0,9],\"y\":[0,-2],\"type\":\"scatter\"},{\"line\":{\"color\":\"blue\",\"width\":0.5},\"mode\":\"markers+lines\",\"x\":[0,9],\"y\":[0,-1],\"type\":\"scatter\"},{\"line\":{\"color\":\"blue\",\"width\":0.5},\"mode\":\"markers+lines\",\"x\":[0,9],\"y\":[0,0],\"type\":\"scatter\"},{\"line\":{\"color\":\"blue\",\"width\":0.5},\"mode\":\"markers+lines\",\"x\":[0,9],\"y\":[0,1],\"type\":\"scatter\"},{\"line\":{\"color\":\"blue\",\"width\":0.5},\"mode\":\"markers+lines\",\"x\":[0,9],\"y\":[0,2],\"type\":\"scatter\"},{\"line\":{\"color\":\"blue\",\"width\":0.5},\"mode\":\"markers+lines\",\"x\":[0,9],\"y\":[0,3],\"type\":\"scatter\"},{\"line\":{\"color\":\"blue\",\"width\":0.5},\"mode\":\"markers+lines\",\"x\":[0,9],\"y\":[0,4],\"type\":\"scatter\"},{\"line\":{\"color\":\"blue\",\"width\":0.5},\"mode\":\"markers+lines\",\"x\":[0,9],\"y\":[0,5],\"type\":\"scatter\"},{\"line\":{\"color\":\"blue\",\"width\":0.5},\"mode\":\"markers+lines\",\"x\":[0,9],\"y\":[0,6],\"type\":\"scatter\"},{\"line\":{\"color\":\"blue\",\"width\":0.5},\"mode\":\"markers+lines\",\"x\":[0,9],\"y\":[0,7],\"type\":\"scatter\"},{\"line\":{\"color\":\"blue\",\"width\":0.5},\"mode\":\"markers+lines\",\"x\":[0,9],\"y\":[0,8],\"type\":\"scatter\"},{\"line\":{\"color\":\"blue\",\"width\":0.5},\"mode\":\"markers+lines\",\"x\":[0,9],\"y\":[0,9],\"type\":\"scatter\"}],                        {\"template\":{\"data\":{\"histogram2dcontour\":[{\"type\":\"histogram2dcontour\",\"colorbar\":{\"outlinewidth\":0,\"ticks\":\"\"},\"colorscale\":[[0.0,\"#0d0887\"],[0.1111111111111111,\"#46039f\"],[0.2222222222222222,\"#7201a8\"],[0.3333333333333333,\"#9c179e\"],[0.4444444444444444,\"#bd3786\"],[0.5555555555555556,\"#d8576b\"],[0.6666666666666666,\"#ed7953\"],[0.7777777777777778,\"#fb9f3a\"],[0.8888888888888888,\"#fdca26\"],[1.0,\"#f0f921\"]]}],\"choropleth\":[{\"type\":\"choropleth\",\"colorbar\":{\"outlinewidth\":0,\"ticks\":\"\"}}],\"histogram2d\":[{\"type\":\"histogram2d\",\"colorbar\":{\"outlinewidth\":0,\"ticks\":\"\"},\"colorscale\":[[0.0,\"#0d0887\"],[0.1111111111111111,\"#46039f\"],[0.2222222222222222,\"#7201a8\"],[0.3333333333333333,\"#9c179e\"],[0.4444444444444444,\"#bd3786\"],[0.5555555555555556,\"#d8576b\"],[0.6666666666666666,\"#ed7953\"],[0.7777777777777778,\"#fb9f3a\"],[0.8888888888888888,\"#fdca26\"],[1.0,\"#f0f921\"]]}],\"heatmap\":[{\"type\":\"heatmap\",\"colorbar\":{\"outlinewidth\":0,\"ticks\":\"\"},\"colorscale\":[[0.0,\"#0d0887\"],[0.1111111111111111,\"#46039f\"],[0.2222222222222222,\"#7201a8\"],[0.3333333333333333,\"#9c179e\"],[0.4444444444444444,\"#bd3786\"],[0.5555555555555556,\"#d8576b\"],[0.6666666666666666,\"#ed7953\"],[0.7777777777777778,\"#fb9f3a\"],[0.8888888888888888,\"#fdca26\"],[1.0,\"#f0f921\"]]}],\"heatmapgl\":[{\"type\":\"heatmapgl\",\"colorbar\":{\"outlinewidth\":0,\"ticks\":\"\"},\"colorscale\":[[0.0,\"#0d0887\"],[0.1111111111111111,\"#46039f\"],[0.2222222222222222,\"#7201a8\"],[0.3333333333333333,\"#9c179e\"],[0.4444444444444444,\"#bd3786\"],[0.5555555555555556,\"#d8576b\"],[0.6666666666666666,\"#ed7953\"],[0.7777777777777778,\"#fb9f3a\"],[0.8888888888888888,\"#fdca26\"],[1.0,\"#f0f921\"]]}],\"contourcarpet\":[{\"type\":\"contourcarpet\",\"colorbar\":{\"outlinewidth\":0,\"ticks\":\"\"}}],\"contour\":[{\"type\":\"contour\",\"colorbar\":{\"outlinewidth\":0,\"ticks\":\"\"},\"colorscale\":[[0.0,\"#0d0887\"],[0.1111111111111111,\"#46039f\"],[0.2222222222222222,\"#7201a8\"],[0.3333333333333333,\"#9c179e\"],[0.4444444444444444,\"#bd3786\"],[0.5555555555555556,\"#d8576b\"],[0.6666666666666666,\"#ed7953\"],[0.7777777777777778,\"#fb9f3a\"],[0.8888888888888888,\"#fdca26\"],[1.0,\"#f0f921\"]]}],\"surface\":[{\"type\":\"surface\",\"colorbar\":{\"outlinewidth\":0,\"ticks\":\"\"},\"colorscale\":[[0.0,\"#0d0887\"],[0.1111111111111111,\"#46039f\"],[0.2222222222222222,\"#7201a8\"],[0.3333333333333333,\"#9c179e\"],[0.4444444444444444,\"#bd3786\"],[0.5555555555555556,\"#d8576b\"],[0.6666666666666666,\"#ed7953\"],[0.7777777777777778,\"#fb9f3a\"],[0.8888888888888888,\"#fdca26\"],[1.0,\"#f0f921\"]]}],\"mesh3d\":[{\"type\":\"mesh3d\",\"colorbar\":{\"outlinewidth\":0,\"ticks\":\"\"}}],\"scatter\":[{\"fillpattern\":{\"fillmode\":\"overlay\",\"size\":10,\"solidity\":0.2},\"type\":\"scatter\"}],\"parcoords\":[{\"type\":\"parcoords\",\"line\":{\"colorbar\":{\"outlinewidth\":0,\"ticks\":\"\"}}}],\"scatterpolargl\":[{\"type\":\"scatterpolargl\",\"marker\":{\"colorbar\":{\"outlinewidth\":0,\"ticks\":\"\"}}}],\"bar\":[{\"error_x\":{\"color\":\"#2a3f5f\"},\"error_y\":{\"color\":\"#2a3f5f\"},\"marker\":{\"line\":{\"color\":\"#E5ECF6\",\"width\":0.5},\"pattern\":{\"fillmode\":\"overlay\",\"size\":10,\"solidity\":0.2}},\"type\":\"bar\"}],\"scattergeo\":[{\"type\":\"scattergeo\",\"marker\":{\"colorbar\":{\"outlinewidth\":0,\"ticks\":\"\"}}}],\"scatterpolar\":[{\"type\":\"scatterpolar\",\"marker\":{\"colorbar\":{\"outlinewidth\":0,\"ticks\":\"\"}}}],\"histogram\":[{\"marker\":{\"pattern\":{\"fillmode\":\"overlay\",\"size\":10,\"solidity\":0.2}},\"type\":\"histogram\"}],\"scattergl\":[{\"type\":\"scattergl\",\"marker\":{\"colorbar\":{\"outlinewidth\":0,\"ticks\":\"\"}}}],\"scatter3d\":[{\"type\":\"scatter3d\",\"line\":{\"colorbar\":{\"outlinewidth\":0,\"ticks\":\"\"}},\"marker\":{\"colorbar\":{\"outlinewidth\":0,\"ticks\":\"\"}}}],\"scattermapbox\":[{\"type\":\"scattermapbox\",\"marker\":{\"colorbar\":{\"outlinewidth\":0,\"ticks\":\"\"}}}],\"scatterternary\":[{\"type\":\"scatterternary\",\"marker\":{\"colorbar\":{\"outlinewidth\":0,\"ticks\":\"\"}}}],\"scattercarpet\":[{\"type\":\"scattercarpet\",\"marker\":{\"colorbar\":{\"outlinewidth\":0,\"ticks\":\"\"}}}],\"carpet\":[{\"aaxis\":{\"endlinecolor\":\"#2a3f5f\",\"gridcolor\":\"white\",\"linecolor\":\"white\",\"minorgridcolor\":\"white\",\"startlinecolor\":\"#2a3f5f\"},\"baxis\":{\"endlinecolor\":\"#2a3f5f\",\"gridcolor\":\"white\",\"linecolor\":\"white\",\"minorgridcolor\":\"white\",\"startlinecolor\":\"#2a3f5f\"},\"type\":\"carpet\"}],\"table\":[{\"cells\":{\"fill\":{\"color\":\"#EBF0F8\"},\"line\":{\"color\":\"white\"}},\"header\":{\"fill\":{\"color\":\"#C8D4E3\"},\"line\":{\"color\":\"white\"}},\"type\":\"table\"}],\"barpolar\":[{\"marker\":{\"line\":{\"color\":\"#E5ECF6\",\"width\":0.5},\"pattern\":{\"fillmode\":\"overlay\",\"size\":10,\"solidity\":0.2}},\"type\":\"barpolar\"}],\"pie\":[{\"automargin\":true,\"type\":\"pie\"}]},\"layout\":{\"autotypenumbers\":\"strict\",\"colorway\":[\"#636efa\",\"#EF553B\",\"#00cc96\",\"#ab63fa\",\"#FFA15A\",\"#19d3f3\",\"#FF6692\",\"#B6E880\",\"#FF97FF\",\"#FECB52\"],\"font\":{\"color\":\"#2a3f5f\"},\"hovermode\":\"closest\",\"hoverlabel\":{\"align\":\"left\"},\"paper_bgcolor\":\"white\",\"plot_bgcolor\":\"#E5ECF6\",\"polar\":{\"bgcolor\":\"#E5ECF6\",\"angularaxis\":{\"gridcolor\":\"white\",\"linecolor\":\"white\",\"ticks\":\"\"},\"radialaxis\":{\"gridcolor\":\"white\",\"linecolor\":\"white\",\"ticks\":\"\"}},\"ternary\":{\"bgcolor\":\"#E5ECF6\",\"aaxis\":{\"gridcolor\":\"white\",\"linecolor\":\"white\",\"ticks\":\"\"},\"baxis\":{\"gridcolor\":\"white\",\"linecolor\":\"white\",\"ticks\":\"\"},\"caxis\":{\"gridcolor\":\"white\",\"linecolor\":\"white\",\"ticks\":\"\"}},\"coloraxis\":{\"colorbar\":{\"outlinewidth\":0,\"ticks\":\"\"}},\"colorscale\":{\"sequential\":[[0.0,\"#0d0887\"],[0.1111111111111111,\"#46039f\"],[0.2222222222222222,\"#7201a8\"],[0.3333333333333333,\"#9c179e\"],[0.4444444444444444,\"#bd3786\"],[0.5555555555555556,\"#d8576b\"],[0.6666666666666666,\"#ed7953\"],[0.7777777777777778,\"#fb9f3a\"],[0.8888888888888888,\"#fdca26\"],[1.0,\"#f0f921\"]],\"sequentialminus\":[[0.0,\"#0d0887\"],[0.1111111111111111,\"#46039f\"],[0.2222222222222222,\"#7201a8\"],[0.3333333333333333,\"#9c179e\"],[0.4444444444444444,\"#bd3786\"],[0.5555555555555556,\"#d8576b\"],[0.6666666666666666,\"#ed7953\"],[0.7777777777777778,\"#fb9f3a\"],[0.8888888888888888,\"#fdca26\"],[1.0,\"#f0f921\"]],\"diverging\":[[0,\"#8e0152\"],[0.1,\"#c51b7d\"],[0.2,\"#de77ae\"],[0.3,\"#f1b6da\"],[0.4,\"#fde0ef\"],[0.5,\"#f7f7f7\"],[0.6,\"#e6f5d0\"],[0.7,\"#b8e186\"],[0.8,\"#7fbc41\"],[0.9,\"#4d9221\"],[1,\"#276419\"]]},\"xaxis\":{\"gridcolor\":\"white\",\"linecolor\":\"white\",\"ticks\":\"\",\"title\":{\"standoff\":15},\"zerolinecolor\":\"white\",\"automargin\":true,\"zerolinewidth\":2},\"yaxis\":{\"gridcolor\":\"white\",\"linecolor\":\"white\",\"ticks\":\"\",\"title\":{\"standoff\":15},\"zerolinecolor\":\"white\",\"automargin\":true,\"zerolinewidth\":2},\"scene\":{\"xaxis\":{\"backgroundcolor\":\"#E5ECF6\",\"gridcolor\":\"white\",\"linecolor\":\"white\",\"showbackground\":true,\"ticks\":\"\",\"zerolinecolor\":\"white\",\"gridwidth\":2},\"yaxis\":{\"backgroundcolor\":\"#E5ECF6\",\"gridcolor\":\"white\",\"linecolor\":\"white\",\"showbackground\":true,\"ticks\":\"\",\"zerolinecolor\":\"white\",\"gridwidth\":2},\"zaxis\":{\"backgroundcolor\":\"#E5ECF6\",\"gridcolor\":\"white\",\"linecolor\":\"white\",\"showbackground\":true,\"ticks\":\"\",\"zerolinecolor\":\"white\",\"gridwidth\":2}},\"shapedefaults\":{\"line\":{\"color\":\"#2a3f5f\"}},\"annotationdefaults\":{\"arrowcolor\":\"#2a3f5f\",\"arrowhead\":0,\"arrowwidth\":1},\"geo\":{\"bgcolor\":\"white\",\"landcolor\":\"#E5ECF6\",\"subunitcolor\":\"white\",\"showland\":true,\"showlakes\":true,\"lakecolor\":\"white\"},\"title\":{\"x\":0.05},\"mapbox\":{\"style\":\"light\"}}},\"xaxis\":{\"range\":[-10,10],\"constrain\":\"domain\"},\"yaxis\":{\"range\":[-10,10],\"scaleanchor\":\"x\",\"scaleratio\":1},\"showlegend\":false,\"width\":800,\"height\":600},                        {\"responsive\": true}                    ).then(function(){\n",
       "                            \n",
       "var gd = document.getElementById('24e39473-1697-4844-b75b-77b6a5eecfc0');\n",
       "var x = new MutationObserver(function (mutations, observer) {{\n",
       "        var display = window.getComputedStyle(gd).display;\n",
       "        if (!display || display === 'none') {{\n",
       "            console.log([gd, 'removed!']);\n",
       "            Plotly.purge(gd);\n",
       "            observer.disconnect();\n",
       "        }}\n",
       "}});\n",
       "\n",
       "// Listen for the removal of the full notebook cells\n",
       "var notebookContainer = gd.closest('#notebook-container');\n",
       "if (notebookContainer) {{\n",
       "    x.observe(notebookContainer, {childList: true});\n",
       "}}\n",
       "\n",
       "// Listen for the clearing of the current output cell\n",
       "var outputEl = gd.closest('.output');\n",
       "if (outputEl) {{\n",
       "    x.observe(outputEl, {childList: true});\n",
       "}}\n",
       "\n",
       "                        })                };                });            </script>        </div>"
      ]
     },
     "metadata": {},
     "output_type": "display_data"
    },
    {
     "name": "stdout",
     "output_type": "stream",
     "text": [
      "Todo el plano, dado que no existe colinealidad entre los vectores\n"
     ]
    }
   ],
   "source": [
    "figura1 = vector(1,2)\n",
    "figura1.subespacio(vector(-1,2))"
   ]
  },
  {
   "cell_type": "code",
   "execution_count": 26,
   "id": "203ae509-e9c0-4ec6-ad1d-e64303f904d5",
   "metadata": {
    "tags": []
   },
   "outputs": [
    {
     "name": "stdout",
     "output_type": "stream",
     "text": [
      "Cordenadas.. [ 1 10]\n"
     ]
    },
    {
     "data": {
      "application/vnd.plotly.v1+json": {
       "config": {
        "plotlyServerURL": "https://plot.ly"
       },
       "data": [
        {
         "line": {
          "color": "blue",
          "width": 1
         },
         "mode": "lines",
         "opacity": 0.2,
         "type": "scatter",
         "x": [
          -10,
          -10
         ],
         "y": [
          -10,
          10
         ]
        },
        {
         "line": {
          "color": "blue",
          "width": 1
         },
         "mode": "lines",
         "opacity": 0.2,
         "type": "scatter",
         "x": [
          -10,
          10
         ],
         "y": [
          -10,
          -10
         ]
        },
        {
         "line": {
          "color": "blue",
          "width": 1
         },
         "mode": "lines",
         "opacity": 0.2,
         "type": "scatter",
         "x": [
          -9,
          -9
         ],
         "y": [
          -10,
          10
         ]
        },
        {
         "line": {
          "color": "blue",
          "width": 1
         },
         "mode": "lines",
         "opacity": 0.2,
         "type": "scatter",
         "x": [
          -10,
          10
         ],
         "y": [
          -9,
          -9
         ]
        },
        {
         "line": {
          "color": "blue",
          "width": 1
         },
         "mode": "lines",
         "opacity": 0.2,
         "type": "scatter",
         "x": [
          -8,
          -8
         ],
         "y": [
          -10,
          10
         ]
        },
        {
         "line": {
          "color": "blue",
          "width": 1
         },
         "mode": "lines",
         "opacity": 0.2,
         "type": "scatter",
         "x": [
          -10,
          10
         ],
         "y": [
          -8,
          -8
         ]
        },
        {
         "line": {
          "color": "blue",
          "width": 1
         },
         "mode": "lines",
         "opacity": 0.2,
         "type": "scatter",
         "x": [
          -7,
          -7
         ],
         "y": [
          -10,
          10
         ]
        },
        {
         "line": {
          "color": "blue",
          "width": 1
         },
         "mode": "lines",
         "opacity": 0.2,
         "type": "scatter",
         "x": [
          -10,
          10
         ],
         "y": [
          -7,
          -7
         ]
        },
        {
         "line": {
          "color": "blue",
          "width": 1
         },
         "mode": "lines",
         "opacity": 0.2,
         "type": "scatter",
         "x": [
          -6,
          -6
         ],
         "y": [
          -10,
          10
         ]
        },
        {
         "line": {
          "color": "blue",
          "width": 1
         },
         "mode": "lines",
         "opacity": 0.2,
         "type": "scatter",
         "x": [
          -10,
          10
         ],
         "y": [
          -6,
          -6
         ]
        },
        {
         "line": {
          "color": "blue",
          "width": 1
         },
         "mode": "lines",
         "opacity": 0.2,
         "type": "scatter",
         "x": [
          -5,
          -5
         ],
         "y": [
          -10,
          10
         ]
        },
        {
         "line": {
          "color": "blue",
          "width": 1
         },
         "mode": "lines",
         "opacity": 0.2,
         "type": "scatter",
         "x": [
          -10,
          10
         ],
         "y": [
          -5,
          -5
         ]
        },
        {
         "line": {
          "color": "blue",
          "width": 1
         },
         "mode": "lines",
         "opacity": 0.2,
         "type": "scatter",
         "x": [
          -4,
          -4
         ],
         "y": [
          -10,
          10
         ]
        },
        {
         "line": {
          "color": "blue",
          "width": 1
         },
         "mode": "lines",
         "opacity": 0.2,
         "type": "scatter",
         "x": [
          -10,
          10
         ],
         "y": [
          -4,
          -4
         ]
        },
        {
         "line": {
          "color": "blue",
          "width": 1
         },
         "mode": "lines",
         "opacity": 0.2,
         "type": "scatter",
         "x": [
          -3,
          -3
         ],
         "y": [
          -10,
          10
         ]
        },
        {
         "line": {
          "color": "blue",
          "width": 1
         },
         "mode": "lines",
         "opacity": 0.2,
         "type": "scatter",
         "x": [
          -10,
          10
         ],
         "y": [
          -3,
          -3
         ]
        },
        {
         "line": {
          "color": "blue",
          "width": 1
         },
         "mode": "lines",
         "opacity": 0.2,
         "type": "scatter",
         "x": [
          -2,
          -2
         ],
         "y": [
          -10,
          10
         ]
        },
        {
         "line": {
          "color": "blue",
          "width": 1
         },
         "mode": "lines",
         "opacity": 0.2,
         "type": "scatter",
         "x": [
          -10,
          10
         ],
         "y": [
          -2,
          -2
         ]
        },
        {
         "line": {
          "color": "blue",
          "width": 1
         },
         "mode": "lines",
         "opacity": 0.2,
         "type": "scatter",
         "x": [
          -1,
          -1
         ],
         "y": [
          -10,
          10
         ]
        },
        {
         "line": {
          "color": "blue",
          "width": 1
         },
         "mode": "lines",
         "opacity": 0.2,
         "type": "scatter",
         "x": [
          -10,
          10
         ],
         "y": [
          -1,
          -1
         ]
        },
        {
         "line": {
          "color": "blue",
          "width": 1
         },
         "mode": "lines",
         "opacity": 0.2,
         "type": "scatter",
         "x": [
          0,
          0
         ],
         "y": [
          -10,
          10
         ]
        },
        {
         "line": {
          "color": "blue",
          "width": 1
         },
         "mode": "lines",
         "opacity": 0.2,
         "type": "scatter",
         "x": [
          -10,
          10
         ],
         "y": [
          0,
          0
         ]
        },
        {
         "line": {
          "color": "blue",
          "width": 1
         },
         "mode": "lines",
         "opacity": 0.2,
         "type": "scatter",
         "x": [
          1,
          1
         ],
         "y": [
          -10,
          10
         ]
        },
        {
         "line": {
          "color": "blue",
          "width": 1
         },
         "mode": "lines",
         "opacity": 0.2,
         "type": "scatter",
         "x": [
          -10,
          10
         ],
         "y": [
          1,
          1
         ]
        },
        {
         "line": {
          "color": "blue",
          "width": 1
         },
         "mode": "lines",
         "opacity": 0.2,
         "type": "scatter",
         "x": [
          2,
          2
         ],
         "y": [
          -10,
          10
         ]
        },
        {
         "line": {
          "color": "blue",
          "width": 1
         },
         "mode": "lines",
         "opacity": 0.2,
         "type": "scatter",
         "x": [
          -10,
          10
         ],
         "y": [
          2,
          2
         ]
        },
        {
         "line": {
          "color": "blue",
          "width": 1
         },
         "mode": "lines",
         "opacity": 0.2,
         "type": "scatter",
         "x": [
          3,
          3
         ],
         "y": [
          -10,
          10
         ]
        },
        {
         "line": {
          "color": "blue",
          "width": 1
         },
         "mode": "lines",
         "opacity": 0.2,
         "type": "scatter",
         "x": [
          -10,
          10
         ],
         "y": [
          3,
          3
         ]
        },
        {
         "line": {
          "color": "blue",
          "width": 1
         },
         "mode": "lines",
         "opacity": 0.2,
         "type": "scatter",
         "x": [
          4,
          4
         ],
         "y": [
          -10,
          10
         ]
        },
        {
         "line": {
          "color": "blue",
          "width": 1
         },
         "mode": "lines",
         "opacity": 0.2,
         "type": "scatter",
         "x": [
          -10,
          10
         ],
         "y": [
          4,
          4
         ]
        },
        {
         "line": {
          "color": "blue",
          "width": 1
         },
         "mode": "lines",
         "opacity": 0.2,
         "type": "scatter",
         "x": [
          5,
          5
         ],
         "y": [
          -10,
          10
         ]
        },
        {
         "line": {
          "color": "blue",
          "width": 1
         },
         "mode": "lines",
         "opacity": 0.2,
         "type": "scatter",
         "x": [
          -10,
          10
         ],
         "y": [
          5,
          5
         ]
        },
        {
         "line": {
          "color": "blue",
          "width": 1
         },
         "mode": "lines",
         "opacity": 0.2,
         "type": "scatter",
         "x": [
          6,
          6
         ],
         "y": [
          -10,
          10
         ]
        },
        {
         "line": {
          "color": "blue",
          "width": 1
         },
         "mode": "lines",
         "opacity": 0.2,
         "type": "scatter",
         "x": [
          -10,
          10
         ],
         "y": [
          6,
          6
         ]
        },
        {
         "line": {
          "color": "blue",
          "width": 1
         },
         "mode": "lines",
         "opacity": 0.2,
         "type": "scatter",
         "x": [
          7,
          7
         ],
         "y": [
          -10,
          10
         ]
        },
        {
         "line": {
          "color": "blue",
          "width": 1
         },
         "mode": "lines",
         "opacity": 0.2,
         "type": "scatter",
         "x": [
          -10,
          10
         ],
         "y": [
          7,
          7
         ]
        },
        {
         "line": {
          "color": "blue",
          "width": 1
         },
         "mode": "lines",
         "opacity": 0.2,
         "type": "scatter",
         "x": [
          8,
          8
         ],
         "y": [
          -10,
          10
         ]
        },
        {
         "line": {
          "color": "blue",
          "width": 1
         },
         "mode": "lines",
         "opacity": 0.2,
         "type": "scatter",
         "x": [
          -10,
          10
         ],
         "y": [
          8,
          8
         ]
        },
        {
         "line": {
          "color": "blue",
          "width": 1
         },
         "mode": "lines",
         "opacity": 0.2,
         "type": "scatter",
         "x": [
          9,
          9
         ],
         "y": [
          -10,
          10
         ]
        },
        {
         "line": {
          "color": "blue",
          "width": 1
         },
         "mode": "lines",
         "opacity": 0.2,
         "type": "scatter",
         "x": [
          -10,
          10
         ],
         "y": [
          9,
          9
         ]
        },
        {
         "line": {
          "color": "blue",
          "width": 1
         },
         "mode": "lines",
         "opacity": 0.2,
         "type": "scatter",
         "x": [
          10,
          10
         ],
         "y": [
          -10,
          10
         ]
        },
        {
         "line": {
          "color": "blue",
          "width": 1
         },
         "mode": "lines",
         "opacity": 0.2,
         "type": "scatter",
         "x": [
          -10,
          10
         ],
         "y": [
          10,
          10
         ]
        },
        {
         "line": {
          "color": "red",
          "width": 2
         },
         "mode": "lines",
         "opacity": 0.2,
         "type": "scatter",
         "x": [
          -60,
          20
         ],
         "y": [
          -30,
          10
         ]
        },
        {
         "line": {
          "color": "red",
          "width": 1
         },
         "mode": "lines",
         "opacity": 0.2,
         "type": "scatter",
         "x": [
          -60,
          -20
         ],
         "y": [
          -30,
          -10
         ]
        },
        {
         "line": {
          "color": "red",
          "width": 2
         },
         "mode": "lines",
         "opacity": 0.2,
         "type": "scatter",
         "x": [
          -58,
          22
         ],
         "y": [
          -29,
          11
         ]
        },
        {
         "line": {
          "color": "red",
          "width": 1
         },
         "mode": "lines",
         "opacity": 0.2,
         "type": "scatter",
         "x": [
          -56,
          -16
         ],
         "y": [
          -28,
          -8
         ]
        },
        {
         "line": {
          "color": "red",
          "width": 2
         },
         "mode": "lines",
         "opacity": 0.2,
         "type": "scatter",
         "x": [
          -56,
          24
         ],
         "y": [
          -28,
          12
         ]
        },
        {
         "line": {
          "color": "red",
          "width": 1
         },
         "mode": "lines",
         "opacity": 0.2,
         "type": "scatter",
         "x": [
          -52,
          -12
         ],
         "y": [
          -26,
          -6
         ]
        },
        {
         "line": {
          "color": "red",
          "width": 2
         },
         "mode": "lines",
         "opacity": 0.2,
         "type": "scatter",
         "x": [
          -54,
          26
         ],
         "y": [
          -27,
          13
         ]
        },
        {
         "line": {
          "color": "red",
          "width": 1
         },
         "mode": "lines",
         "opacity": 0.2,
         "type": "scatter",
         "x": [
          -48,
          -8
         ],
         "y": [
          -24,
          -4
         ]
        },
        {
         "line": {
          "color": "red",
          "width": 2
         },
         "mode": "lines",
         "opacity": 0.2,
         "type": "scatter",
         "x": [
          -52,
          28
         ],
         "y": [
          -26,
          14
         ]
        },
        {
         "line": {
          "color": "red",
          "width": 1
         },
         "mode": "lines",
         "opacity": 0.2,
         "type": "scatter",
         "x": [
          -44,
          -4
         ],
         "y": [
          -22,
          -2
         ]
        },
        {
         "line": {
          "color": "red",
          "width": 2
         },
         "mode": "lines",
         "opacity": 0.2,
         "type": "scatter",
         "x": [
          -50,
          30
         ],
         "y": [
          -25,
          15
         ]
        },
        {
         "line": {
          "color": "red",
          "width": 1
         },
         "mode": "lines",
         "opacity": 0.2,
         "type": "scatter",
         "x": [
          -40,
          0
         ],
         "y": [
          -20,
          0
         ]
        },
        {
         "line": {
          "color": "red",
          "width": 2
         },
         "mode": "lines",
         "opacity": 0.2,
         "type": "scatter",
         "x": [
          -48,
          32
         ],
         "y": [
          -24,
          16
         ]
        },
        {
         "line": {
          "color": "red",
          "width": 1
         },
         "mode": "lines",
         "opacity": 0.2,
         "type": "scatter",
         "x": [
          -36,
          4
         ],
         "y": [
          -18,
          2
         ]
        },
        {
         "line": {
          "color": "red",
          "width": 2
         },
         "mode": "lines",
         "opacity": 0.2,
         "type": "scatter",
         "x": [
          -46,
          34
         ],
         "y": [
          -23,
          17
         ]
        },
        {
         "line": {
          "color": "red",
          "width": 1
         },
         "mode": "lines",
         "opacity": 0.2,
         "type": "scatter",
         "x": [
          -32,
          8
         ],
         "y": [
          -16,
          4
         ]
        },
        {
         "line": {
          "color": "red",
          "width": 2
         },
         "mode": "lines",
         "opacity": 0.2,
         "type": "scatter",
         "x": [
          -44,
          36
         ],
         "y": [
          -22,
          18
         ]
        },
        {
         "line": {
          "color": "red",
          "width": 1
         },
         "mode": "lines",
         "opacity": 0.2,
         "type": "scatter",
         "x": [
          -28,
          12
         ],
         "y": [
          -14,
          6
         ]
        },
        {
         "line": {
          "color": "red",
          "width": 2
         },
         "mode": "lines",
         "opacity": 0.2,
         "type": "scatter",
         "x": [
          -42,
          38
         ],
         "y": [
          -21,
          19
         ]
        },
        {
         "line": {
          "color": "red",
          "width": 1
         },
         "mode": "lines",
         "opacity": 0.2,
         "type": "scatter",
         "x": [
          -24,
          16
         ],
         "y": [
          -12,
          8
         ]
        },
        {
         "line": {
          "color": "red",
          "width": 2
         },
         "mode": "lines",
         "opacity": 0.2,
         "type": "scatter",
         "x": [
          -40,
          40
         ],
         "y": [
          -20,
          20
         ]
        },
        {
         "line": {
          "color": "red",
          "width": 1
         },
         "mode": "lines",
         "opacity": 0.2,
         "type": "scatter",
         "x": [
          -20,
          20
         ],
         "y": [
          -10,
          10
         ]
        },
        {
         "line": {
          "color": "red",
          "width": 2
         },
         "mode": "lines",
         "opacity": 0.2,
         "type": "scatter",
         "x": [
          -38,
          42
         ],
         "y": [
          -19,
          21
         ]
        },
        {
         "line": {
          "color": "red",
          "width": 1
         },
         "mode": "lines",
         "opacity": 0.2,
         "type": "scatter",
         "x": [
          -16,
          24
         ],
         "y": [
          -8,
          12
         ]
        },
        {
         "line": {
          "color": "red",
          "width": 2
         },
         "mode": "lines",
         "opacity": 0.2,
         "type": "scatter",
         "x": [
          -36,
          44
         ],
         "y": [
          -18,
          22
         ]
        },
        {
         "line": {
          "color": "red",
          "width": 1
         },
         "mode": "lines",
         "opacity": 0.2,
         "type": "scatter",
         "x": [
          -12,
          28
         ],
         "y": [
          -6,
          14
         ]
        },
        {
         "line": {
          "color": "red",
          "width": 2
         },
         "mode": "lines",
         "opacity": 0.2,
         "type": "scatter",
         "x": [
          -34,
          46
         ],
         "y": [
          -17,
          23
         ]
        },
        {
         "line": {
          "color": "red",
          "width": 1
         },
         "mode": "lines",
         "opacity": 0.2,
         "type": "scatter",
         "x": [
          -8,
          32
         ],
         "y": [
          -4,
          16
         ]
        },
        {
         "line": {
          "color": "red",
          "width": 2
         },
         "mode": "lines",
         "opacity": 0.2,
         "type": "scatter",
         "x": [
          -32,
          48
         ],
         "y": [
          -16,
          24
         ]
        },
        {
         "line": {
          "color": "red",
          "width": 1
         },
         "mode": "lines",
         "opacity": 0.2,
         "type": "scatter",
         "x": [
          -4,
          36
         ],
         "y": [
          -2,
          18
         ]
        },
        {
         "line": {
          "color": "red",
          "width": 2
         },
         "mode": "lines",
         "opacity": 0.2,
         "type": "scatter",
         "x": [
          -30,
          50
         ],
         "y": [
          -15,
          25
         ]
        },
        {
         "line": {
          "color": "red",
          "width": 1
         },
         "mode": "lines",
         "opacity": 0.2,
         "type": "scatter",
         "x": [
          0,
          40
         ],
         "y": [
          0,
          20
         ]
        },
        {
         "line": {
          "color": "red",
          "width": 2
         },
         "mode": "lines",
         "opacity": 0.2,
         "type": "scatter",
         "x": [
          -28,
          52
         ],
         "y": [
          -14,
          26
         ]
        },
        {
         "line": {
          "color": "red",
          "width": 1
         },
         "mode": "lines",
         "opacity": 0.2,
         "type": "scatter",
         "x": [
          4,
          44
         ],
         "y": [
          2,
          22
         ]
        },
        {
         "line": {
          "color": "red",
          "width": 2
         },
         "mode": "lines",
         "opacity": 0.2,
         "type": "scatter",
         "x": [
          -26,
          54
         ],
         "y": [
          -13,
          27
         ]
        },
        {
         "line": {
          "color": "red",
          "width": 1
         },
         "mode": "lines",
         "opacity": 0.2,
         "type": "scatter",
         "x": [
          8,
          48
         ],
         "y": [
          4,
          24
         ]
        },
        {
         "line": {
          "color": "red",
          "width": 2
         },
         "mode": "lines",
         "opacity": 0.2,
         "type": "scatter",
         "x": [
          -24,
          56
         ],
         "y": [
          -12,
          28
         ]
        },
        {
         "line": {
          "color": "red",
          "width": 1
         },
         "mode": "lines",
         "opacity": 0.2,
         "type": "scatter",
         "x": [
          12,
          52
         ],
         "y": [
          6,
          26
         ]
        },
        {
         "line": {
          "color": "red",
          "width": 2
         },
         "mode": "lines",
         "opacity": 0.2,
         "type": "scatter",
         "x": [
          -22,
          58
         ],
         "y": [
          -11,
          29
         ]
        },
        {
         "line": {
          "color": "red",
          "width": 1
         },
         "mode": "lines",
         "opacity": 0.2,
         "type": "scatter",
         "x": [
          16,
          56
         ],
         "y": [
          8,
          28
         ]
        },
        {
         "line": {
          "color": "red",
          "width": 2
         },
         "mode": "lines",
         "opacity": 0.2,
         "type": "scatter",
         "x": [
          -20,
          60
         ],
         "y": [
          -10,
          30
         ]
        },
        {
         "line": {
          "color": "red",
          "width": 1
         },
         "mode": "lines",
         "opacity": 0.2,
         "type": "scatter",
         "x": [
          20,
          60
         ],
         "y": [
          10,
          30
         ]
        },
        {
         "line": {
          "color": "black",
          "width": 0.5
         },
         "mode": "markers+lines",
         "type": "scatter",
         "x": [
          0,
          2
         ],
         "y": [
          0,
          1
         ]
        },
        {
         "line": {
          "color": "black",
          "width": 0.5
         },
         "mode": "markers+lines",
         "type": "scatter",
         "x": [
          0,
          4
         ],
         "y": [
          0,
          2
         ]
        },
        {
         "line": {
          "color": "black",
          "width": 3
         },
         "mode": "markers",
         "type": "scatter",
         "x": [
          0
         ],
         "y": [
          0
         ]
        }
       ],
       "layout": {
        "height": 600,
        "showlegend": false,
        "template": {
         "data": {
          "bar": [
           {
            "error_x": {
             "color": "#2a3f5f"
            },
            "error_y": {
             "color": "#2a3f5f"
            },
            "marker": {
             "line": {
              "color": "#E5ECF6",
              "width": 0.5
             },
             "pattern": {
              "fillmode": "overlay",
              "size": 10,
              "solidity": 0.2
             }
            },
            "type": "bar"
           }
          ],
          "barpolar": [
           {
            "marker": {
             "line": {
              "color": "#E5ECF6",
              "width": 0.5
             },
             "pattern": {
              "fillmode": "overlay",
              "size": 10,
              "solidity": 0.2
             }
            },
            "type": "barpolar"
           }
          ],
          "carpet": [
           {
            "aaxis": {
             "endlinecolor": "#2a3f5f",
             "gridcolor": "white",
             "linecolor": "white",
             "minorgridcolor": "white",
             "startlinecolor": "#2a3f5f"
            },
            "baxis": {
             "endlinecolor": "#2a3f5f",
             "gridcolor": "white",
             "linecolor": "white",
             "minorgridcolor": "white",
             "startlinecolor": "#2a3f5f"
            },
            "type": "carpet"
           }
          ],
          "choropleth": [
           {
            "colorbar": {
             "outlinewidth": 0,
             "ticks": ""
            },
            "type": "choropleth"
           }
          ],
          "contour": [
           {
            "colorbar": {
             "outlinewidth": 0,
             "ticks": ""
            },
            "colorscale": [
             [
              0,
              "#0d0887"
             ],
             [
              0.1111111111111111,
              "#46039f"
             ],
             [
              0.2222222222222222,
              "#7201a8"
             ],
             [
              0.3333333333333333,
              "#9c179e"
             ],
             [
              0.4444444444444444,
              "#bd3786"
             ],
             [
              0.5555555555555556,
              "#d8576b"
             ],
             [
              0.6666666666666666,
              "#ed7953"
             ],
             [
              0.7777777777777778,
              "#fb9f3a"
             ],
             [
              0.8888888888888888,
              "#fdca26"
             ],
             [
              1,
              "#f0f921"
             ]
            ],
            "type": "contour"
           }
          ],
          "contourcarpet": [
           {
            "colorbar": {
             "outlinewidth": 0,
             "ticks": ""
            },
            "type": "contourcarpet"
           }
          ],
          "heatmap": [
           {
            "colorbar": {
             "outlinewidth": 0,
             "ticks": ""
            },
            "colorscale": [
             [
              0,
              "#0d0887"
             ],
             [
              0.1111111111111111,
              "#46039f"
             ],
             [
              0.2222222222222222,
              "#7201a8"
             ],
             [
              0.3333333333333333,
              "#9c179e"
             ],
             [
              0.4444444444444444,
              "#bd3786"
             ],
             [
              0.5555555555555556,
              "#d8576b"
             ],
             [
              0.6666666666666666,
              "#ed7953"
             ],
             [
              0.7777777777777778,
              "#fb9f3a"
             ],
             [
              0.8888888888888888,
              "#fdca26"
             ],
             [
              1,
              "#f0f921"
             ]
            ],
            "type": "heatmap"
           }
          ],
          "heatmapgl": [
           {
            "colorbar": {
             "outlinewidth": 0,
             "ticks": ""
            },
            "colorscale": [
             [
              0,
              "#0d0887"
             ],
             [
              0.1111111111111111,
              "#46039f"
             ],
             [
              0.2222222222222222,
              "#7201a8"
             ],
             [
              0.3333333333333333,
              "#9c179e"
             ],
             [
              0.4444444444444444,
              "#bd3786"
             ],
             [
              0.5555555555555556,
              "#d8576b"
             ],
             [
              0.6666666666666666,
              "#ed7953"
             ],
             [
              0.7777777777777778,
              "#fb9f3a"
             ],
             [
              0.8888888888888888,
              "#fdca26"
             ],
             [
              1,
              "#f0f921"
             ]
            ],
            "type": "heatmapgl"
           }
          ],
          "histogram": [
           {
            "marker": {
             "pattern": {
              "fillmode": "overlay",
              "size": 10,
              "solidity": 0.2
             }
            },
            "type": "histogram"
           }
          ],
          "histogram2d": [
           {
            "colorbar": {
             "outlinewidth": 0,
             "ticks": ""
            },
            "colorscale": [
             [
              0,
              "#0d0887"
             ],
             [
              0.1111111111111111,
              "#46039f"
             ],
             [
              0.2222222222222222,
              "#7201a8"
             ],
             [
              0.3333333333333333,
              "#9c179e"
             ],
             [
              0.4444444444444444,
              "#bd3786"
             ],
             [
              0.5555555555555556,
              "#d8576b"
             ],
             [
              0.6666666666666666,
              "#ed7953"
             ],
             [
              0.7777777777777778,
              "#fb9f3a"
             ],
             [
              0.8888888888888888,
              "#fdca26"
             ],
             [
              1,
              "#f0f921"
             ]
            ],
            "type": "histogram2d"
           }
          ],
          "histogram2dcontour": [
           {
            "colorbar": {
             "outlinewidth": 0,
             "ticks": ""
            },
            "colorscale": [
             [
              0,
              "#0d0887"
             ],
             [
              0.1111111111111111,
              "#46039f"
             ],
             [
              0.2222222222222222,
              "#7201a8"
             ],
             [
              0.3333333333333333,
              "#9c179e"
             ],
             [
              0.4444444444444444,
              "#bd3786"
             ],
             [
              0.5555555555555556,
              "#d8576b"
             ],
             [
              0.6666666666666666,
              "#ed7953"
             ],
             [
              0.7777777777777778,
              "#fb9f3a"
             ],
             [
              0.8888888888888888,
              "#fdca26"
             ],
             [
              1,
              "#f0f921"
             ]
            ],
            "type": "histogram2dcontour"
           }
          ],
          "mesh3d": [
           {
            "colorbar": {
             "outlinewidth": 0,
             "ticks": ""
            },
            "type": "mesh3d"
           }
          ],
          "parcoords": [
           {
            "line": {
             "colorbar": {
              "outlinewidth": 0,
              "ticks": ""
             }
            },
            "type": "parcoords"
           }
          ],
          "pie": [
           {
            "automargin": true,
            "type": "pie"
           }
          ],
          "scatter": [
           {
            "fillpattern": {
             "fillmode": "overlay",
             "size": 10,
             "solidity": 0.2
            },
            "type": "scatter"
           }
          ],
          "scatter3d": [
           {
            "line": {
             "colorbar": {
              "outlinewidth": 0,
              "ticks": ""
             }
            },
            "marker": {
             "colorbar": {
              "outlinewidth": 0,
              "ticks": ""
             }
            },
            "type": "scatter3d"
           }
          ],
          "scattercarpet": [
           {
            "marker": {
             "colorbar": {
              "outlinewidth": 0,
              "ticks": ""
             }
            },
            "type": "scattercarpet"
           }
          ],
          "scattergeo": [
           {
            "marker": {
             "colorbar": {
              "outlinewidth": 0,
              "ticks": ""
             }
            },
            "type": "scattergeo"
           }
          ],
          "scattergl": [
           {
            "marker": {
             "colorbar": {
              "outlinewidth": 0,
              "ticks": ""
             }
            },
            "type": "scattergl"
           }
          ],
          "scattermapbox": [
           {
            "marker": {
             "colorbar": {
              "outlinewidth": 0,
              "ticks": ""
             }
            },
            "type": "scattermapbox"
           }
          ],
          "scatterpolar": [
           {
            "marker": {
             "colorbar": {
              "outlinewidth": 0,
              "ticks": ""
             }
            },
            "type": "scatterpolar"
           }
          ],
          "scatterpolargl": [
           {
            "marker": {
             "colorbar": {
              "outlinewidth": 0,
              "ticks": ""
             }
            },
            "type": "scatterpolargl"
           }
          ],
          "scatterternary": [
           {
            "marker": {
             "colorbar": {
              "outlinewidth": 0,
              "ticks": ""
             }
            },
            "type": "scatterternary"
           }
          ],
          "surface": [
           {
            "colorbar": {
             "outlinewidth": 0,
             "ticks": ""
            },
            "colorscale": [
             [
              0,
              "#0d0887"
             ],
             [
              0.1111111111111111,
              "#46039f"
             ],
             [
              0.2222222222222222,
              "#7201a8"
             ],
             [
              0.3333333333333333,
              "#9c179e"
             ],
             [
              0.4444444444444444,
              "#bd3786"
             ],
             [
              0.5555555555555556,
              "#d8576b"
             ],
             [
              0.6666666666666666,
              "#ed7953"
             ],
             [
              0.7777777777777778,
              "#fb9f3a"
             ],
             [
              0.8888888888888888,
              "#fdca26"
             ],
             [
              1,
              "#f0f921"
             ]
            ],
            "type": "surface"
           }
          ],
          "table": [
           {
            "cells": {
             "fill": {
              "color": "#EBF0F8"
             },
             "line": {
              "color": "white"
             }
            },
            "header": {
             "fill": {
              "color": "#C8D4E3"
             },
             "line": {
              "color": "white"
             }
            },
            "type": "table"
           }
          ]
         },
         "layout": {
          "annotationdefaults": {
           "arrowcolor": "#2a3f5f",
           "arrowhead": 0,
           "arrowwidth": 1
          },
          "autotypenumbers": "strict",
          "coloraxis": {
           "colorbar": {
            "outlinewidth": 0,
            "ticks": ""
           }
          },
          "colorscale": {
           "diverging": [
            [
             0,
             "#8e0152"
            ],
            [
             0.1,
             "#c51b7d"
            ],
            [
             0.2,
             "#de77ae"
            ],
            [
             0.3,
             "#f1b6da"
            ],
            [
             0.4,
             "#fde0ef"
            ],
            [
             0.5,
             "#f7f7f7"
            ],
            [
             0.6,
             "#e6f5d0"
            ],
            [
             0.7,
             "#b8e186"
            ],
            [
             0.8,
             "#7fbc41"
            ],
            [
             0.9,
             "#4d9221"
            ],
            [
             1,
             "#276419"
            ]
           ],
           "sequential": [
            [
             0,
             "#0d0887"
            ],
            [
             0.1111111111111111,
             "#46039f"
            ],
            [
             0.2222222222222222,
             "#7201a8"
            ],
            [
             0.3333333333333333,
             "#9c179e"
            ],
            [
             0.4444444444444444,
             "#bd3786"
            ],
            [
             0.5555555555555556,
             "#d8576b"
            ],
            [
             0.6666666666666666,
             "#ed7953"
            ],
            [
             0.7777777777777778,
             "#fb9f3a"
            ],
            [
             0.8888888888888888,
             "#fdca26"
            ],
            [
             1,
             "#f0f921"
            ]
           ],
           "sequentialminus": [
            [
             0,
             "#0d0887"
            ],
            [
             0.1111111111111111,
             "#46039f"
            ],
            [
             0.2222222222222222,
             "#7201a8"
            ],
            [
             0.3333333333333333,
             "#9c179e"
            ],
            [
             0.4444444444444444,
             "#bd3786"
            ],
            [
             0.5555555555555556,
             "#d8576b"
            ],
            [
             0.6666666666666666,
             "#ed7953"
            ],
            [
             0.7777777777777778,
             "#fb9f3a"
            ],
            [
             0.8888888888888888,
             "#fdca26"
            ],
            [
             1,
             "#f0f921"
            ]
           ]
          },
          "colorway": [
           "#636efa",
           "#EF553B",
           "#00cc96",
           "#ab63fa",
           "#FFA15A",
           "#19d3f3",
           "#FF6692",
           "#B6E880",
           "#FF97FF",
           "#FECB52"
          ],
          "font": {
           "color": "#2a3f5f"
          },
          "geo": {
           "bgcolor": "white",
           "lakecolor": "white",
           "landcolor": "#E5ECF6",
           "showlakes": true,
           "showland": true,
           "subunitcolor": "white"
          },
          "hoverlabel": {
           "align": "left"
          },
          "hovermode": "closest",
          "mapbox": {
           "style": "light"
          },
          "paper_bgcolor": "white",
          "plot_bgcolor": "#E5ECF6",
          "polar": {
           "angularaxis": {
            "gridcolor": "white",
            "linecolor": "white",
            "ticks": ""
           },
           "bgcolor": "#E5ECF6",
           "radialaxis": {
            "gridcolor": "white",
            "linecolor": "white",
            "ticks": ""
           }
          },
          "scene": {
           "xaxis": {
            "backgroundcolor": "#E5ECF6",
            "gridcolor": "white",
            "gridwidth": 2,
            "linecolor": "white",
            "showbackground": true,
            "ticks": "",
            "zerolinecolor": "white"
           },
           "yaxis": {
            "backgroundcolor": "#E5ECF6",
            "gridcolor": "white",
            "gridwidth": 2,
            "linecolor": "white",
            "showbackground": true,
            "ticks": "",
            "zerolinecolor": "white"
           },
           "zaxis": {
            "backgroundcolor": "#E5ECF6",
            "gridcolor": "white",
            "gridwidth": 2,
            "linecolor": "white",
            "showbackground": true,
            "ticks": "",
            "zerolinecolor": "white"
           }
          },
          "shapedefaults": {
           "line": {
            "color": "#2a3f5f"
           }
          },
          "ternary": {
           "aaxis": {
            "gridcolor": "white",
            "linecolor": "white",
            "ticks": ""
           },
           "baxis": {
            "gridcolor": "white",
            "linecolor": "white",
            "ticks": ""
           },
           "bgcolor": "#E5ECF6",
           "caxis": {
            "gridcolor": "white",
            "linecolor": "white",
            "ticks": ""
           }
          },
          "title": {
           "x": 0.05
          },
          "xaxis": {
           "automargin": true,
           "gridcolor": "white",
           "linecolor": "white",
           "ticks": "",
           "title": {
            "standoff": 15
           },
           "zerolinecolor": "white",
           "zerolinewidth": 2
          },
          "yaxis": {
           "automargin": true,
           "gridcolor": "white",
           "linecolor": "white",
           "ticks": "",
           "title": {
            "standoff": 15
           },
           "zerolinecolor": "white",
           "zerolinewidth": 2
          }
         }
        },
        "width": 800,
        "xaxis": {
         "constrain": "domain",
         "domain": [
          0.171875,
          0.828125
         ],
         "range": [
          -15,
          15
         ],
         "type": "linear"
        },
        "yaxis": {
         "domain": [
          0,
          1
         ],
         "range": [
          -15,
          15
         ],
         "scaleanchor": "x",
         "scaleratio": 1,
         "type": "linear"
        }
       }
      },
      "image/png": "[encoded data removed]",
      "text/html": [
       "<div>                            <div id=\"95b28d6a-49ba-48e9-85fb-ee520326eadf\" class=\"plotly-graph-div\" style=\"height:600px; width:800px;\"></div>            <script type=\"text/javascript\">                require([\"plotly\"], function(Plotly) {                    window.PLOTLYENV=window.PLOTLYENV || {};                                    if (document.getElementById(\"95b28d6a-49ba-48e9-85fb-ee520326eadf\")) {                    Plotly.newPlot(                        \"95b28d6a-49ba-48e9-85fb-ee520326eadf\",                        [{\"line\":{\"color\":\"blue\",\"width\":1},\"mode\":\"lines\",\"opacity\":0.2,\"x\":[-10,-10],\"y\":[-10,10],\"type\":\"scatter\"},{\"line\":{\"color\":\"blue\",\"width\":1},\"mode\":\"lines\",\"opacity\":0.2,\"x\":[-10,10],\"y\":[-10,-10],\"type\":\"scatter\"},{\"line\":{\"color\":\"blue\",\"width\":1},\"mode\":\"lines\",\"opacity\":0.2,\"x\":[-9,-9],\"y\":[-10,10],\"type\":\"scatter\"},{\"line\":{\"color\":\"blue\",\"width\":1},\"mode\":\"lines\",\"opacity\":0.2,\"x\":[-10,10],\"y\":[-9,-9],\"type\":\"scatter\"},{\"line\":{\"color\":\"blue\",\"width\":1},\"mode\":\"lines\",\"opacity\":0.2,\"x\":[-8,-8],\"y\":[-10,10],\"type\":\"scatter\"},{\"line\":{\"color\":\"blue\",\"width\":1},\"mode\":\"lines\",\"opacity\":0.2,\"x\":[-10,10],\"y\":[-8,-8],\"type\":\"scatter\"},{\"line\":{\"color\":\"blue\",\"width\":1},\"mode\":\"lines\",\"opacity\":0.2,\"x\":[-7,-7],\"y\":[-10,10],\"type\":\"scatter\"},{\"line\":{\"color\":\"blue\",\"width\":1},\"mode\":\"lines\",\"opacity\":0.2,\"x\":[-10,10],\"y\":[-7,-7],\"type\":\"scatter\"},{\"line\":{\"color\":\"blue\",\"width\":1},\"mode\":\"lines\",\"opacity\":0.2,\"x\":[-6,-6],\"y\":[-10,10],\"type\":\"scatter\"},{\"line\":{\"color\":\"blue\",\"width\":1},\"mode\":\"lines\",\"opacity\":0.2,\"x\":[-10,10],\"y\":[-6,-6],\"type\":\"scatter\"},{\"line\":{\"color\":\"blue\",\"width\":1},\"mode\":\"lines\",\"opacity\":0.2,\"x\":[-5,-5],\"y\":[-10,10],\"type\":\"scatter\"},{\"line\":{\"color\":\"blue\",\"width\":1},\"mode\":\"lines\",\"opacity\":0.2,\"x\":[-10,10],\"y\":[-5,-5],\"type\":\"scatter\"},{\"line\":{\"color\":\"blue\",\"width\":1},\"mode\":\"lines\",\"opacity\":0.2,\"x\":[-4,-4],\"y\":[-10,10],\"type\":\"scatter\"},{\"line\":{\"color\":\"blue\",\"width\":1},\"mode\":\"lines\",\"opacity\":0.2,\"x\":[-10,10],\"y\":[-4,-4],\"type\":\"scatter\"},{\"line\":{\"color\":\"blue\",\"width\":1},\"mode\":\"lines\",\"opacity\":0.2,\"x\":[-3,-3],\"y\":[-10,10],\"type\":\"scatter\"},{\"line\":{\"color\":\"blue\",\"width\":1},\"mode\":\"lines\",\"opacity\":0.2,\"x\":[-10,10],\"y\":[-3,-3],\"type\":\"scatter\"},{\"line\":{\"color\":\"blue\",\"width\":1},\"mode\":\"lines\",\"opacity\":0.2,\"x\":[-2,-2],\"y\":[-10,10],\"type\":\"scatter\"},{\"line\":{\"color\":\"blue\",\"width\":1},\"mode\":\"lines\",\"opacity\":0.2,\"x\":[-10,10],\"y\":[-2,-2],\"type\":\"scatter\"},{\"line\":{\"color\":\"blue\",\"width\":1},\"mode\":\"lines\",\"opacity\":0.2,\"x\":[-1,-1],\"y\":[-10,10],\"type\":\"scatter\"},{\"line\":{\"color\":\"blue\",\"width\":1},\"mode\":\"lines\",\"opacity\":0.2,\"x\":[-10,10],\"y\":[-1,-1],\"type\":\"scatter\"},{\"line\":{\"color\":\"blue\",\"width\":1},\"mode\":\"lines\",\"opacity\":0.2,\"x\":[0,0],\"y\":[-10,10],\"type\":\"scatter\"},{\"line\":{\"color\":\"blue\",\"width\":1},\"mode\":\"lines\",\"opacity\":0.2,\"x\":[-10,10],\"y\":[0,0],\"type\":\"scatter\"},{\"line\":{\"color\":\"blue\",\"width\":1},\"mode\":\"lines\",\"opacity\":0.2,\"x\":[1,1],\"y\":[-10,10],\"type\":\"scatter\"},{\"line\":{\"color\":\"blue\",\"width\":1},\"mode\":\"lines\",\"opacity\":0.2,\"x\":[-10,10],\"y\":[1,1],\"type\":\"scatter\"},{\"line\":{\"color\":\"blue\",\"width\":1},\"mode\":\"lines\",\"opacity\":0.2,\"x\":[2,2],\"y\":[-10,10],\"type\":\"scatter\"},{\"line\":{\"color\":\"blue\",\"width\":1},\"mode\":\"lines\",\"opacity\":0.2,\"x\":[-10,10],\"y\":[2,2],\"type\":\"scatter\"},{\"line\":{\"color\":\"blue\",\"width\":1},\"mode\":\"lines\",\"opacity\":0.2,\"x\":[3,3],\"y\":[-10,10],\"type\":\"scatter\"},{\"line\":{\"color\":\"blue\",\"width\":1},\"mode\":\"lines\",\"opacity\":0.2,\"x\":[-10,10],\"y\":[3,3],\"type\":\"scatter\"},{\"line\":{\"color\":\"blue\",\"width\":1},\"mode\":\"lines\",\"opacity\":0.2,\"x\":[4,4],\"y\":[-10,10],\"type\":\"scatter\"},{\"line\":{\"color\":\"blue\",\"width\":1},\"mode\":\"lines\",\"opacity\":0.2,\"x\":[-10,10],\"y\":[4,4],\"type\":\"scatter\"},{\"line\":{\"color\":\"blue\",\"width\":1},\"mode\":\"lines\",\"opacity\":0.2,\"x\":[5,5],\"y\":[-10,10],\"type\":\"scatter\"},{\"line\":{\"color\":\"blue\",\"width\":1},\"mode\":\"lines\",\"opacity\":0.2,\"x\":[-10,10],\"y\":[5,5],\"type\":\"scatter\"},{\"line\":{\"color\":\"blue\",\"width\":1},\"mode\":\"lines\",\"opacity\":0.2,\"x\":[6,6],\"y\":[-10,10],\"type\":\"scatter\"},{\"line\":{\"color\":\"blue\",\"width\":1},\"mode\":\"lines\",\"opacity\":0.2,\"x\":[-10,10],\"y\":[6,6],\"type\":\"scatter\"},{\"line\":{\"color\":\"blue\",\"width\":1},\"mode\":\"lines\",\"opacity\":0.2,\"x\":[7,7],\"y\":[-10,10],\"type\":\"scatter\"},{\"line\":{\"color\":\"blue\",\"width\":1},\"mode\":\"lines\",\"opacity\":0.2,\"x\":[-10,10],\"y\":[7,7],\"type\":\"scatter\"},{\"line\":{\"color\":\"blue\",\"width\":1},\"mode\":\"lines\",\"opacity\":0.2,\"x\":[8,8],\"y\":[-10,10],\"type\":\"scatter\"},{\"line\":{\"color\":\"blue\",\"width\":1},\"mode\":\"lines\",\"opacity\":0.2,\"x\":[-10,10],\"y\":[8,8],\"type\":\"scatter\"},{\"line\":{\"color\":\"blue\",\"width\":1},\"mode\":\"lines\",\"opacity\":0.2,\"x\":[9,9],\"y\":[-10,10],\"type\":\"scatter\"},{\"line\":{\"color\":\"blue\",\"width\":1},\"mode\":\"lines\",\"opacity\":0.2,\"x\":[-10,10],\"y\":[9,9],\"type\":\"scatter\"},{\"line\":{\"color\":\"blue\",\"width\":1},\"mode\":\"lines\",\"opacity\":0.2,\"x\":[10,10],\"y\":[-10,10],\"type\":\"scatter\"},{\"line\":{\"color\":\"blue\",\"width\":1},\"mode\":\"lines\",\"opacity\":0.2,\"x\":[-10,10],\"y\":[10,10],\"type\":\"scatter\"},{\"line\":{\"color\":\"red\",\"width\":2},\"mode\":\"lines\",\"opacity\":0.2,\"x\":[-60,20],\"y\":[-30,10],\"type\":\"scatter\"},{\"line\":{\"color\":\"red\",\"width\":1},\"mode\":\"lines\",\"opacity\":0.2,\"x\":[-60,-20],\"y\":[-30,-10],\"type\":\"scatter\"},{\"line\":{\"color\":\"red\",\"width\":2},\"mode\":\"lines\",\"opacity\":0.2,\"x\":[-58,22],\"y\":[-29,11],\"type\":\"scatter\"},{\"line\":{\"color\":\"red\",\"width\":1},\"mode\":\"lines\",\"opacity\":0.2,\"x\":[-56,-16],\"y\":[-28,-8],\"type\":\"scatter\"},{\"line\":{\"color\":\"red\",\"width\":2},\"mode\":\"lines\",\"opacity\":0.2,\"x\":[-56,24],\"y\":[-28,12],\"type\":\"scatter\"},{\"line\":{\"color\":\"red\",\"width\":1},\"mode\":\"lines\",\"opacity\":0.2,\"x\":[-52,-12],\"y\":[-26,-6],\"type\":\"scatter\"},{\"line\":{\"color\":\"red\",\"width\":2},\"mode\":\"lines\",\"opacity\":0.2,\"x\":[-54,26],\"y\":[-27,13],\"type\":\"scatter\"},{\"line\":{\"color\":\"red\",\"width\":1},\"mode\":\"lines\",\"opacity\":0.2,\"x\":[-48,-8],\"y\":[-24,-4],\"type\":\"scatter\"},{\"line\":{\"color\":\"red\",\"width\":2},\"mode\":\"lines\",\"opacity\":0.2,\"x\":[-52,28],\"y\":[-26,14],\"type\":\"scatter\"},{\"line\":{\"color\":\"red\",\"width\":1},\"mode\":\"lines\",\"opacity\":0.2,\"x\":[-44,-4],\"y\":[-22,-2],\"type\":\"scatter\"},{\"line\":{\"color\":\"red\",\"width\":2},\"mode\":\"lines\",\"opacity\":0.2,\"x\":[-50,30],\"y\":[-25,15],\"type\":\"scatter\"},{\"line\":{\"color\":\"red\",\"width\":1},\"mode\":\"lines\",\"opacity\":0.2,\"x\":[-40,0],\"y\":[-20,0],\"type\":\"scatter\"},{\"line\":{\"color\":\"red\",\"width\":2},\"mode\":\"lines\",\"opacity\":0.2,\"x\":[-48,32],\"y\":[-24,16],\"type\":\"scatter\"},{\"line\":{\"color\":\"red\",\"width\":1},\"mode\":\"lines\",\"opacity\":0.2,\"x\":[-36,4],\"y\":[-18,2],\"type\":\"scatter\"},{\"line\":{\"color\":\"red\",\"width\":2},\"mode\":\"lines\",\"opacity\":0.2,\"x\":[-46,34],\"y\":[-23,17],\"type\":\"scatter\"},{\"line\":{\"color\":\"red\",\"width\":1},\"mode\":\"lines\",\"opacity\":0.2,\"x\":[-32,8],\"y\":[-16,4],\"type\":\"scatter\"},{\"line\":{\"color\":\"red\",\"width\":2},\"mode\":\"lines\",\"opacity\":0.2,\"x\":[-44,36],\"y\":[-22,18],\"type\":\"scatter\"},{\"line\":{\"color\":\"red\",\"width\":1},\"mode\":\"lines\",\"opacity\":0.2,\"x\":[-28,12],\"y\":[-14,6],\"type\":\"scatter\"},{\"line\":{\"color\":\"red\",\"width\":2},\"mode\":\"lines\",\"opacity\":0.2,\"x\":[-42,38],\"y\":[-21,19],\"type\":\"scatter\"},{\"line\":{\"color\":\"red\",\"width\":1},\"mode\":\"lines\",\"opacity\":0.2,\"x\":[-24,16],\"y\":[-12,8],\"type\":\"scatter\"},{\"line\":{\"color\":\"red\",\"width\":2},\"mode\":\"lines\",\"opacity\":0.2,\"x\":[-40,40],\"y\":[-20,20],\"type\":\"scatter\"},{\"line\":{\"color\":\"red\",\"width\":1},\"mode\":\"lines\",\"opacity\":0.2,\"x\":[-20,20],\"y\":[-10,10],\"type\":\"scatter\"},{\"line\":{\"color\":\"red\",\"width\":2},\"mode\":\"lines\",\"opacity\":0.2,\"x\":[-38,42],\"y\":[-19,21],\"type\":\"scatter\"},{\"line\":{\"color\":\"red\",\"width\":1},\"mode\":\"lines\",\"opacity\":0.2,\"x\":[-16,24],\"y\":[-8,12],\"type\":\"scatter\"},{\"line\":{\"color\":\"red\",\"width\":2},\"mode\":\"lines\",\"opacity\":0.2,\"x\":[-36,44],\"y\":[-18,22],\"type\":\"scatter\"},{\"line\":{\"color\":\"red\",\"width\":1},\"mode\":\"lines\",\"opacity\":0.2,\"x\":[-12,28],\"y\":[-6,14],\"type\":\"scatter\"},{\"line\":{\"color\":\"red\",\"width\":2},\"mode\":\"lines\",\"opacity\":0.2,\"x\":[-34,46],\"y\":[-17,23],\"type\":\"scatter\"},{\"line\":{\"color\":\"red\",\"width\":1},\"mode\":\"lines\",\"opacity\":0.2,\"x\":[-8,32],\"y\":[-4,16],\"type\":\"scatter\"},{\"line\":{\"color\":\"red\",\"width\":2},\"mode\":\"lines\",\"opacity\":0.2,\"x\":[-32,48],\"y\":[-16,24],\"type\":\"scatter\"},{\"line\":{\"color\":\"red\",\"width\":1},\"mode\":\"lines\",\"opacity\":0.2,\"x\":[-4,36],\"y\":[-2,18],\"type\":\"scatter\"},{\"line\":{\"color\":\"red\",\"width\":2},\"mode\":\"lines\",\"opacity\":0.2,\"x\":[-30,50],\"y\":[-15,25],\"type\":\"scatter\"},{\"line\":{\"color\":\"red\",\"width\":1},\"mode\":\"lines\",\"opacity\":0.2,\"x\":[0,40],\"y\":[0,20],\"type\":\"scatter\"},{\"line\":{\"color\":\"red\",\"width\":2},\"mode\":\"lines\",\"opacity\":0.2,\"x\":[-28,52],\"y\":[-14,26],\"type\":\"scatter\"},{\"line\":{\"color\":\"red\",\"width\":1},\"mode\":\"lines\",\"opacity\":0.2,\"x\":[4,44],\"y\":[2,22],\"type\":\"scatter\"},{\"line\":{\"color\":\"red\",\"width\":2},\"mode\":\"lines\",\"opacity\":0.2,\"x\":[-26,54],\"y\":[-13,27],\"type\":\"scatter\"},{\"line\":{\"color\":\"red\",\"width\":1},\"mode\":\"lines\",\"opacity\":0.2,\"x\":[8,48],\"y\":[4,24],\"type\":\"scatter\"},{\"line\":{\"color\":\"red\",\"width\":2},\"mode\":\"lines\",\"opacity\":0.2,\"x\":[-24,56],\"y\":[-12,28],\"type\":\"scatter\"},{\"line\":{\"color\":\"red\",\"width\":1},\"mode\":\"lines\",\"opacity\":0.2,\"x\":[12,52],\"y\":[6,26],\"type\":\"scatter\"},{\"line\":{\"color\":\"red\",\"width\":2},\"mode\":\"lines\",\"opacity\":0.2,\"x\":[-22,58],\"y\":[-11,29],\"type\":\"scatter\"},{\"line\":{\"color\":\"red\",\"width\":1},\"mode\":\"lines\",\"opacity\":0.2,\"x\":[16,56],\"y\":[8,28],\"type\":\"scatter\"},{\"line\":{\"color\":\"red\",\"width\":2},\"mode\":\"lines\",\"opacity\":0.2,\"x\":[-20,60],\"y\":[-10,30],\"type\":\"scatter\"},{\"line\":{\"color\":\"red\",\"width\":1},\"mode\":\"lines\",\"opacity\":0.2,\"x\":[20,60],\"y\":[10,30],\"type\":\"scatter\"},{\"line\":{\"color\":\"black\",\"width\":0.5},\"mode\":\"markers+lines\",\"x\":[0,2],\"y\":[0,1],\"type\":\"scatter\"},{\"line\":{\"color\":\"black\",\"width\":0.5},\"mode\":\"markers+lines\",\"x\":[0,4],\"y\":[0,2],\"type\":\"scatter\"},{\"line\":{\"color\":\"black\",\"width\":3},\"mode\":\"markers\",\"x\":[0],\"y\":[0],\"type\":\"scatter\"}],                        {\"template\":{\"data\":{\"histogram2dcontour\":[{\"type\":\"histogram2dcontour\",\"colorbar\":{\"outlinewidth\":0,\"ticks\":\"\"},\"colorscale\":[[0.0,\"#0d0887\"],[0.1111111111111111,\"#46039f\"],[0.2222222222222222,\"#7201a8\"],[0.3333333333333333,\"#9c179e\"],[0.4444444444444444,\"#bd3786\"],[0.5555555555555556,\"#d8576b\"],[0.6666666666666666,\"#ed7953\"],[0.7777777777777778,\"#fb9f3a\"],[0.8888888888888888,\"#fdca26\"],[1.0,\"#f0f921\"]]}],\"choropleth\":[{\"type\":\"choropleth\",\"colorbar\":{\"outlinewidth\":0,\"ticks\":\"\"}}],\"histogram2d\":[{\"type\":\"histogram2d\",\"colorbar\":{\"outlinewidth\":0,\"ticks\":\"\"},\"colorscale\":[[0.0,\"#0d0887\"],[0.1111111111111111,\"#46039f\"],[0.2222222222222222,\"#7201a8\"],[0.3333333333333333,\"#9c179e\"],[0.4444444444444444,\"#bd3786\"],[0.5555555555555556,\"#d8576b\"],[0.6666666666666666,\"#ed7953\"],[0.7777777777777778,\"#fb9f3a\"],[0.8888888888888888,\"#fdca26\"],[1.0,\"#f0f921\"]]}],\"heatmap\":[{\"type\":\"heatmap\",\"colorbar\":{\"outlinewidth\":0,\"ticks\":\"\"},\"colorscale\":[[0.0,\"#0d0887\"],[0.1111111111111111,\"#46039f\"],[0.2222222222222222,\"#7201a8\"],[0.3333333333333333,\"#9c179e\"],[0.4444444444444444,\"#bd3786\"],[0.5555555555555556,\"#d8576b\"],[0.6666666666666666,\"#ed7953\"],[0.7777777777777778,\"#fb9f3a\"],[0.8888888888888888,\"#fdca26\"],[1.0,\"#f0f921\"]]}],\"heatmapgl\":[{\"type\":\"heatmapgl\",\"colorbar\":{\"outlinewidth\":0,\"ticks\":\"\"},\"colorscale\":[[0.0,\"#0d0887\"],[0.1111111111111111,\"#46039f\"],[0.2222222222222222,\"#7201a8\"],[0.3333333333333333,\"#9c179e\"],[0.4444444444444444,\"#bd3786\"],[0.5555555555555556,\"#d8576b\"],[0.6666666666666666,\"#ed7953\"],[0.7777777777777778,\"#fb9f3a\"],[0.8888888888888888,\"#fdca26\"],[1.0,\"#f0f921\"]]}],\"contourcarpet\":[{\"type\":\"contourcarpet\",\"colorbar\":{\"outlinewidth\":0,\"ticks\":\"\"}}],\"contour\":[{\"type\":\"contour\",\"colorbar\":{\"outlinewidth\":0,\"ticks\":\"\"},\"colorscale\":[[0.0,\"#0d0887\"],[0.1111111111111111,\"#46039f\"],[0.2222222222222222,\"#7201a8\"],[0.3333333333333333,\"#9c179e\"],[0.4444444444444444,\"#bd3786\"],[0.5555555555555556,\"#d8576b\"],[0.6666666666666666,\"#ed7953\"],[0.7777777777777778,\"#fb9f3a\"],[0.8888888888888888,\"#fdca26\"],[1.0,\"#f0f921\"]]}],\"surface\":[{\"type\":\"surface\",\"colorbar\":{\"outlinewidth\":0,\"ticks\":\"\"},\"colorscale\":[[0.0,\"#0d0887\"],[0.1111111111111111,\"#46039f\"],[0.2222222222222222,\"#7201a8\"],[0.3333333333333333,\"#9c179e\"],[0.4444444444444444,\"#bd3786\"],[0.5555555555555556,\"#d8576b\"],[0.6666666666666666,\"#ed7953\"],[0.7777777777777778,\"#fb9f3a\"],[0.8888888888888888,\"#fdca26\"],[1.0,\"#f0f921\"]]}],\"mesh3d\":[{\"type\":\"mesh3d\",\"colorbar\":{\"outlinewidth\":0,\"ticks\":\"\"}}],\"scatter\":[{\"fillpattern\":{\"fillmode\":\"overlay\",\"size\":10,\"solidity\":0.2},\"type\":\"scatter\"}],\"parcoords\":[{\"type\":\"parcoords\",\"line\":{\"colorbar\":{\"outlinewidth\":0,\"ticks\":\"\"}}}],\"scatterpolargl\":[{\"type\":\"scatterpolargl\",\"marker\":{\"colorbar\":{\"outlinewidth\":0,\"ticks\":\"\"}}}],\"bar\":[{\"error_x\":{\"color\":\"#2a3f5f\"},\"error_y\":{\"color\":\"#2a3f5f\"},\"marker\":{\"line\":{\"color\":\"#E5ECF6\",\"width\":0.5},\"pattern\":{\"fillmode\":\"overlay\",\"size\":10,\"solidity\":0.2}},\"type\":\"bar\"}],\"scattergeo\":[{\"type\":\"scattergeo\",\"marker\":{\"colorbar\":{\"outlinewidth\":0,\"ticks\":\"\"}}}],\"scatterpolar\":[{\"type\":\"scatterpolar\",\"marker\":{\"colorbar\":{\"outlinewidth\":0,\"ticks\":\"\"}}}],\"histogram\":[{\"marker\":{\"pattern\":{\"fillmode\":\"overlay\",\"size\":10,\"solidity\":0.2}},\"type\":\"histogram\"}],\"scattergl\":[{\"type\":\"scattergl\",\"marker\":{\"colorbar\":{\"outlinewidth\":0,\"ticks\":\"\"}}}],\"scatter3d\":[{\"type\":\"scatter3d\",\"line\":{\"colorbar\":{\"outlinewidth\":0,\"ticks\":\"\"}},\"marker\":{\"colorbar\":{\"outlinewidth\":0,\"ticks\":\"\"}}}],\"scattermapbox\":[{\"type\":\"scattermapbox\",\"marker\":{\"colorbar\":{\"outlinewidth\":0,\"ticks\":\"\"}}}],\"scatterternary\":[{\"type\":\"scatterternary\",\"marker\":{\"colorbar\":{\"outlinewidth\":0,\"ticks\":\"\"}}}],\"scattercarpet\":[{\"type\":\"scattercarpet\",\"marker\":{\"colorbar\":{\"outlinewidth\":0,\"ticks\":\"\"}}}],\"carpet\":[{\"aaxis\":{\"endlinecolor\":\"#2a3f5f\",\"gridcolor\":\"white\",\"linecolor\":\"white\",\"minorgridcolor\":\"white\",\"startlinecolor\":\"#2a3f5f\"},\"baxis\":{\"endlinecolor\":\"#2a3f5f\",\"gridcolor\":\"white\",\"linecolor\":\"white\",\"minorgridcolor\":\"white\",\"startlinecolor\":\"#2a3f5f\"},\"type\":\"carpet\"}],\"table\":[{\"cells\":{\"fill\":{\"color\":\"#EBF0F8\"},\"line\":{\"color\":\"white\"}},\"header\":{\"fill\":{\"color\":\"#C8D4E3\"},\"line\":{\"color\":\"white\"}},\"type\":\"table\"}],\"barpolar\":[{\"marker\":{\"line\":{\"color\":\"#E5ECF6\",\"width\":0.5},\"pattern\":{\"fillmode\":\"overlay\",\"size\":10,\"solidity\":0.2}},\"type\":\"barpolar\"}],\"pie\":[{\"automargin\":true,\"type\":\"pie\"}]},\"layout\":{\"autotypenumbers\":\"strict\",\"colorway\":[\"#636efa\",\"#EF553B\",\"#00cc96\",\"#ab63fa\",\"#FFA15A\",\"#19d3f3\",\"#FF6692\",\"#B6E880\",\"#FF97FF\",\"#FECB52\"],\"font\":{\"color\":\"#2a3f5f\"},\"hovermode\":\"closest\",\"hoverlabel\":{\"align\":\"left\"},\"paper_bgcolor\":\"white\",\"plot_bgcolor\":\"#E5ECF6\",\"polar\":{\"bgcolor\":\"#E5ECF6\",\"angularaxis\":{\"gridcolor\":\"white\",\"linecolor\":\"white\",\"ticks\":\"\"},\"radialaxis\":{\"gridcolor\":\"white\",\"linecolor\":\"white\",\"ticks\":\"\"}},\"ternary\":{\"bgcolor\":\"#E5ECF6\",\"aaxis\":{\"gridcolor\":\"white\",\"linecolor\":\"white\",\"ticks\":\"\"},\"baxis\":{\"gridcolor\":\"white\",\"linecolor\":\"white\",\"ticks\":\"\"},\"caxis\":{\"gridcolor\":\"white\",\"linecolor\":\"white\",\"ticks\":\"\"}},\"coloraxis\":{\"colorbar\":{\"outlinewidth\":0,\"ticks\":\"\"}},\"colorscale\":{\"sequential\":[[0.0,\"#0d0887\"],[0.1111111111111111,\"#46039f\"],[0.2222222222222222,\"#7201a8\"],[0.3333333333333333,\"#9c179e\"],[0.4444444444444444,\"#bd3786\"],[0.5555555555555556,\"#d8576b\"],[0.6666666666666666,\"#ed7953\"],[0.7777777777777778,\"#fb9f3a\"],[0.8888888888888888,\"#fdca26\"],[1.0,\"#f0f921\"]],\"sequentialminus\":[[0.0,\"#0d0887\"],[0.1111111111111111,\"#46039f\"],[0.2222222222222222,\"#7201a8\"],[0.3333333333333333,\"#9c179e\"],[0.4444444444444444,\"#bd3786\"],[0.5555555555555556,\"#d8576b\"],[0.6666666666666666,\"#ed7953\"],[0.7777777777777778,\"#fb9f3a\"],[0.8888888888888888,\"#fdca26\"],[1.0,\"#f0f921\"]],\"diverging\":[[0,\"#8e0152\"],[0.1,\"#c51b7d\"],[0.2,\"#de77ae\"],[0.3,\"#f1b6da\"],[0.4,\"#fde0ef\"],[0.5,\"#f7f7f7\"],[0.6,\"#e6f5d0\"],[0.7,\"#b8e186\"],[0.8,\"#7fbc41\"],[0.9,\"#4d9221\"],[1,\"#276419\"]]},\"xaxis\":{\"gridcolor\":\"white\",\"linecolor\":\"white\",\"ticks\":\"\",\"title\":{\"standoff\":15},\"zerolinecolor\":\"white\",\"automargin\":true,\"zerolinewidth\":2},\"yaxis\":{\"gridcolor\":\"white\",\"linecolor\":\"white\",\"ticks\":\"\",\"title\":{\"standoff\":15},\"zerolinecolor\":\"white\",\"automargin\":true,\"zerolinewidth\":2},\"scene\":{\"xaxis\":{\"backgroundcolor\":\"#E5ECF6\",\"gridcolor\":\"white\",\"linecolor\":\"white\",\"showbackground\":true,\"ticks\":\"\",\"zerolinecolor\":\"white\",\"gridwidth\":2},\"yaxis\":{\"backgroundcolor\":\"#E5ECF6\",\"gridcolor\":\"white\",\"linecolor\":\"white\",\"showbackground\":true,\"ticks\":\"\",\"zerolinecolor\":\"white\",\"gridwidth\":2},\"zaxis\":{\"backgroundcolor\":\"#E5ECF6\",\"gridcolor\":\"white\",\"linecolor\":\"white\",\"showbackground\":true,\"ticks\":\"\",\"zerolinecolor\":\"white\",\"gridwidth\":2}},\"shapedefaults\":{\"line\":{\"color\":\"#2a3f5f\"}},\"annotationdefaults\":{\"arrowcolor\":\"#2a3f5f\",\"arrowhead\":0,\"arrowwidth\":1},\"geo\":{\"bgcolor\":\"white\",\"landcolor\":\"#E5ECF6\",\"subunitcolor\":\"white\",\"showland\":true,\"showlakes\":true,\"lakecolor\":\"white\"},\"title\":{\"x\":0.05},\"mapbox\":{\"style\":\"light\"}}},\"xaxis\":{\"range\":[-15,15],\"constrain\":\"domain\"},\"yaxis\":{\"range\":[-15,15],\"scaleanchor\":\"x\",\"scaleratio\":1},\"showlegend\":false,\"width\":800,\"height\":600},                        {\"responsive\": true}                    ).then(function(){\n",
       "                            \n",
       "var gd = document.getElementById('95b28d6a-49ba-48e9-85fb-ee520326eadf');\n",
       "var x = new MutationObserver(function (mutations, observer) {{\n",
       "        var display = window.getComputedStyle(gd).display;\n",
       "        if (!display || display === 'none') {{\n",
       "            console.log([gd, 'removed!']);\n",
       "            Plotly.purge(gd);\n",
       "            observer.disconnect();\n",
       "        }}\n",
       "}});\n",
       "\n",
       "// Listen for the removal of the full notebook cells\n",
       "var notebookContainer = gd.closest('#notebook-container');\n",
       "if (notebookContainer) {{\n",
       "    x.observe(notebookContainer, {childList: true});\n",
       "}}\n",
       "\n",
       "// Listen for the clearing of the current output cell\n",
       "var outputEl = gd.closest('.output');\n",
       "if (outputEl) {{\n",
       "    x.observe(outputEl, {childList: true});\n",
       "}}\n",
       "\n",
       "                        })                };                });            </script>        </div>"
      ]
     },
     "metadata": {},
     "output_type": "display_data"
    }
   ],
   "source": [
    "\n",
    "figura1 = vector(1,10)\n",
    "figura1.transformación_lineal(vec_i = [2,1],vec_j = [4,2])\n"
   ]
  },
  {
   "cell_type": "code",
   "execution_count": 4,
   "id": "c6f8e20b-de93-44d7-912b-062990922e5a",
   "metadata": {
    "tags": []
   },
   "outputs": [
    {
     "name": "stdout",
     "output_type": "stream",
     "text": [
      "Cordenadas.. [0 1]\n"
     ]
    },
    {
     "data": {
      "application/vnd.plotly.v1+json": {
       "config": {
        "plotlyServerURL": "https://plot.ly"
       },
       "data": [
        {
         "mode": "markers+lines",
         "type": "scatter",
         "x": [
          0,
          0
         ],
         "y": [
          0,
          1
         ]
        }
       ],
       "layout": {
        "height": 600,
        "showlegend": false,
        "template": {
         "data": {
          "bar": [
           {
            "error_x": {
             "color": "#2a3f5f"
            },
            "error_y": {
             "color": "#2a3f5f"
            },
            "marker": {
             "line": {
              "color": "#E5ECF6",
              "width": 0.5
             },
             "pattern": {
              "fillmode": "overlay",
              "size": 10,
              "solidity": 0.2
             }
            },
            "type": "bar"
           }
          ],
          "barpolar": [
           {
            "marker": {
             "line": {
              "color": "#E5ECF6",
              "width": 0.5
             },
             "pattern": {
              "fillmode": "overlay",
              "size": 10,
              "solidity": 0.2
             }
            },
            "type": "barpolar"
           }
          ],
          "carpet": [
           {
            "aaxis": {
             "endlinecolor": "#2a3f5f",
             "gridcolor": "white",
             "linecolor": "white",
             "minorgridcolor": "white",
             "startlinecolor": "#2a3f5f"
            },
            "baxis": {
             "endlinecolor": "#2a3f5f",
             "gridcolor": "white",
             "linecolor": "white",
             "minorgridcolor": "white",
             "startlinecolor": "#2a3f5f"
            },
            "type": "carpet"
           }
          ],
          "choropleth": [
           {
            "colorbar": {
             "outlinewidth": 0,
             "ticks": ""
            },
            "type": "choropleth"
           }
          ],
          "contour": [
           {
            "colorbar": {
             "outlinewidth": 0,
             "ticks": ""
            },
            "colorscale": [
             [
              0,
              "#0d0887"
             ],
             [
              0.1111111111111111,
              "#46039f"
             ],
             [
              0.2222222222222222,
              "#7201a8"
             ],
             [
              0.3333333333333333,
              "#9c179e"
             ],
             [
              0.4444444444444444,
              "#bd3786"
             ],
             [
              0.5555555555555556,
              "#d8576b"
             ],
             [
              0.6666666666666666,
              "#ed7953"
             ],
             [
              0.7777777777777778,
              "#fb9f3a"
             ],
             [
              0.8888888888888888,
              "#fdca26"
             ],
             [
              1,
              "#f0f921"
             ]
            ],
            "type": "contour"
           }
          ],
          "contourcarpet": [
           {
            "colorbar": {
             "outlinewidth": 0,
             "ticks": ""
            },
            "type": "contourcarpet"
           }
          ],
          "heatmap": [
           {
            "colorbar": {
             "outlinewidth": 0,
             "ticks": ""
            },
            "colorscale": [
             [
              0,
              "#0d0887"
             ],
             [
              0.1111111111111111,
              "#46039f"
             ],
             [
              0.2222222222222222,
              "#7201a8"
             ],
             [
              0.3333333333333333,
              "#9c179e"
             ],
             [
              0.4444444444444444,
              "#bd3786"
             ],
             [
              0.5555555555555556,
              "#d8576b"
             ],
             [
              0.6666666666666666,
              "#ed7953"
             ],
             [
              0.7777777777777778,
              "#fb9f3a"
             ],
             [
              0.8888888888888888,
              "#fdca26"
             ],
             [
              1,
              "#f0f921"
             ]
            ],
            "type": "heatmap"
           }
          ],
          "heatmapgl": [
           {
            "colorbar": {
             "outlinewidth": 0,
             "ticks": ""
            },
            "colorscale": [
             [
              0,
              "#0d0887"
             ],
             [
              0.1111111111111111,
              "#46039f"
             ],
             [
              0.2222222222222222,
              "#7201a8"
             ],
             [
              0.3333333333333333,
              "#9c179e"
             ],
             [
              0.4444444444444444,
              "#bd3786"
             ],
             [
              0.5555555555555556,
              "#d8576b"
             ],
             [
              0.6666666666666666,
              "#ed7953"
             ],
             [
              0.7777777777777778,
              "#fb9f3a"
             ],
             [
              0.8888888888888888,
              "#fdca26"
             ],
             [
              1,
              "#f0f921"
             ]
            ],
            "type": "heatmapgl"
           }
          ],
          "histogram": [
           {
            "marker": {
             "pattern": {
              "fillmode": "overlay",
              "size": 10,
              "solidity": 0.2
             }
            },
            "type": "histogram"
           }
          ],
          "histogram2d": [
           {
            "colorbar": {
             "outlinewidth": 0,
             "ticks": ""
            },
            "colorscale": [
             [
              0,
              "#0d0887"
             ],
             [
              0.1111111111111111,
              "#46039f"
             ],
             [
              0.2222222222222222,
              "#7201a8"
             ],
             [
              0.3333333333333333,
              "#9c179e"
             ],
             [
              0.4444444444444444,
              "#bd3786"
             ],
             [
              0.5555555555555556,
              "#d8576b"
             ],
             [
              0.6666666666666666,
              "#ed7953"
             ],
             [
              0.7777777777777778,
              "#fb9f3a"
             ],
             [
              0.8888888888888888,
              "#fdca26"
             ],
             [
              1,
              "#f0f921"
             ]
            ],
            "type": "histogram2d"
           }
          ],
          "histogram2dcontour": [
           {
            "colorbar": {
             "outlinewidth": 0,
             "ticks": ""
            },
            "colorscale": [
             [
              0,
              "#0d0887"
             ],
             [
              0.1111111111111111,
              "#46039f"
             ],
             [
              0.2222222222222222,
              "#7201a8"
             ],
             [
              0.3333333333333333,
              "#9c179e"
             ],
             [
              0.4444444444444444,
              "#bd3786"
             ],
             [
              0.5555555555555556,
              "#d8576b"
             ],
             [
              0.6666666666666666,
              "#ed7953"
             ],
             [
              0.7777777777777778,
              "#fb9f3a"
             ],
             [
              0.8888888888888888,
              "#fdca26"
             ],
             [
              1,
              "#f0f921"
             ]
            ],
            "type": "histogram2dcontour"
           }
          ],
          "mesh3d": [
           {
            "colorbar": {
             "outlinewidth": 0,
             "ticks": ""
            },
            "type": "mesh3d"
           }
          ],
          "parcoords": [
           {
            "line": {
             "colorbar": {
              "outlinewidth": 0,
              "ticks": ""
             }
            },
            "type": "parcoords"
           }
          ],
          "pie": [
           {
            "automargin": true,
            "type": "pie"
           }
          ],
          "scatter": [
           {
            "fillpattern": {
             "fillmode": "overlay",
             "size": 10,
             "solidity": 0.2
            },
            "type": "scatter"
           }
          ],
          "scatter3d": [
           {
            "line": {
             "colorbar": {
              "outlinewidth": 0,
              "ticks": ""
             }
            },
            "marker": {
             "colorbar": {
              "outlinewidth": 0,
              "ticks": ""
             }
            },
            "type": "scatter3d"
           }
          ],
          "scattercarpet": [
           {
            "marker": {
             "colorbar": {
              "outlinewidth": 0,
              "ticks": ""
             }
            },
            "type": "scattercarpet"
           }
          ],
          "scattergeo": [
           {
            "marker": {
             "colorbar": {
              "outlinewidth": 0,
              "ticks": ""
             }
            },
            "type": "scattergeo"
           }
          ],
          "scattergl": [
           {
            "marker": {
             "colorbar": {
              "outlinewidth": 0,
              "ticks": ""
             }
            },
            "type": "scattergl"
           }
          ],
          "scattermapbox": [
           {
            "marker": {
             "colorbar": {
              "outlinewidth": 0,
              "ticks": ""
             }
            },
            "type": "scattermapbox"
           }
          ],
          "scatterpolar": [
           {
            "marker": {
             "colorbar": {
              "outlinewidth": 0,
              "ticks": ""
             }
            },
            "type": "scatterpolar"
           }
          ],
          "scatterpolargl": [
           {
            "marker": {
             "colorbar": {
              "outlinewidth": 0,
              "ticks": ""
             }
            },
            "type": "scatterpolargl"
           }
          ],
          "scatterternary": [
           {
            "marker": {
             "colorbar": {
              "outlinewidth": 0,
              "ticks": ""
             }
            },
            "type": "scatterternary"
           }
          ],
          "surface": [
           {
            "colorbar": {
             "outlinewidth": 0,
             "ticks": ""
            },
            "colorscale": [
             [
              0,
              "#0d0887"
             ],
             [
              0.1111111111111111,
              "#46039f"
             ],
             [
              0.2222222222222222,
              "#7201a8"
             ],
             [
              0.3333333333333333,
              "#9c179e"
             ],
             [
              0.4444444444444444,
              "#bd3786"
             ],
             [
              0.5555555555555556,
              "#d8576b"
             ],
             [
              0.6666666666666666,
              "#ed7953"
             ],
             [
              0.7777777777777778,
              "#fb9f3a"
             ],
             [
              0.8888888888888888,
              "#fdca26"
             ],
             [
              1,
              "#f0f921"
             ]
            ],
            "type": "surface"
           }
          ],
          "table": [
           {
            "cells": {
             "fill": {
              "color": "#EBF0F8"
             },
             "line": {
              "color": "white"
             }
            },
            "header": {
             "fill": {
              "color": "#C8D4E3"
             },
             "line": {
              "color": "white"
             }
            },
            "type": "table"
           }
          ]
         },
         "layout": {
          "annotationdefaults": {
           "arrowcolor": "#2a3f5f",
           "arrowhead": 0,
           "arrowwidth": 1
          },
          "autotypenumbers": "strict",
          "coloraxis": {
           "colorbar": {
            "outlinewidth": 0,
            "ticks": ""
           }
          },
          "colorscale": {
           "diverging": [
            [
             0,
             "#8e0152"
            ],
            [
             0.1,
             "#c51b7d"
            ],
            [
             0.2,
             "#de77ae"
            ],
            [
             0.3,
             "#f1b6da"
            ],
            [
             0.4,
             "#fde0ef"
            ],
            [
             0.5,
             "#f7f7f7"
            ],
            [
             0.6,
             "#e6f5d0"
            ],
            [
             0.7,
             "#b8e186"
            ],
            [
             0.8,
             "#7fbc41"
            ],
            [
             0.9,
             "#4d9221"
            ],
            [
             1,
             "#276419"
            ]
           ],
           "sequential": [
            [
             0,
             "#0d0887"
            ],
            [
             0.1111111111111111,
             "#46039f"
            ],
            [
             0.2222222222222222,
             "#7201a8"
            ],
            [
             0.3333333333333333,
             "#9c179e"
            ],
            [
             0.4444444444444444,
             "#bd3786"
            ],
            [
             0.5555555555555556,
             "#d8576b"
            ],
            [
             0.6666666666666666,
             "#ed7953"
            ],
            [
             0.7777777777777778,
             "#fb9f3a"
            ],
            [
             0.8888888888888888,
             "#fdca26"
            ],
            [
             1,
             "#f0f921"
            ]
           ],
           "sequentialminus": [
            [
             0,
             "#0d0887"
            ],
            [
             0.1111111111111111,
             "#46039f"
            ],
            [
             0.2222222222222222,
             "#7201a8"
            ],
            [
             0.3333333333333333,
             "#9c179e"
            ],
            [
             0.4444444444444444,
             "#bd3786"
            ],
            [
             0.5555555555555556,
             "#d8576b"
            ],
            [
             0.6666666666666666,
             "#ed7953"
            ],
            [
             0.7777777777777778,
             "#fb9f3a"
            ],
            [
             0.8888888888888888,
             "#fdca26"
            ],
            [
             1,
             "#f0f921"
            ]
           ]
          },
          "colorway": [
           "#636efa",
           "#EF553B",
           "#00cc96",
           "#ab63fa",
           "#FFA15A",
           "#19d3f3",
           "#FF6692",
           "#B6E880",
           "#FF97FF",
           "#FECB52"
          ],
          "font": {
           "color": "#2a3f5f"
          },
          "geo": {
           "bgcolor": "white",
           "lakecolor": "white",
           "landcolor": "#E5ECF6",
           "showlakes": true,
           "showland": true,
           "subunitcolor": "white"
          },
          "hoverlabel": {
           "align": "left"
          },
          "hovermode": "closest",
          "mapbox": {
           "style": "light"
          },
          "paper_bgcolor": "white",
          "plot_bgcolor": "#E5ECF6",
          "polar": {
           "angularaxis": {
            "gridcolor": "white",
            "linecolor": "white",
            "ticks": ""
           },
           "bgcolor": "#E5ECF6",
           "radialaxis": {
            "gridcolor": "white",
            "linecolor": "white",
            "ticks": ""
           }
          },
          "scene": {
           "xaxis": {
            "backgroundcolor": "#E5ECF6",
            "gridcolor": "white",
            "gridwidth": 2,
            "linecolor": "white",
            "showbackground": true,
            "ticks": "",
            "zerolinecolor": "white"
           },
           "yaxis": {
            "backgroundcolor": "#E5ECF6",
            "gridcolor": "white",
            "gridwidth": 2,
            "linecolor": "white",
            "showbackground": true,
            "ticks": "",
            "zerolinecolor": "white"
           },
           "zaxis": {
            "backgroundcolor": "#E5ECF6",
            "gridcolor": "white",
            "gridwidth": 2,
            "linecolor": "white",
            "showbackground": true,
            "ticks": "",
            "zerolinecolor": "white"
           }
          },
          "shapedefaults": {
           "line": {
            "color": "#2a3f5f"
           }
          },
          "ternary": {
           "aaxis": {
            "gridcolor": "white",
            "linecolor": "white",
            "ticks": ""
           },
           "baxis": {
            "gridcolor": "white",
            "linecolor": "white",
            "ticks": ""
           },
           "bgcolor": "#E5ECF6",
           "caxis": {
            "gridcolor": "white",
            "linecolor": "white",
            "ticks": ""
           }
          },
          "title": {
           "x": 0.05
          },
          "xaxis": {
           "automargin": true,
           "gridcolor": "white",
           "linecolor": "white",
           "ticks": "",
           "title": {
            "standoff": 15
           },
           "zerolinecolor": "white",
           "zerolinewidth": 2
          },
          "yaxis": {
           "automargin": true,
           "gridcolor": "white",
           "linecolor": "white",
           "ticks": "",
           "title": {
            "standoff": 15
           },
           "zerolinecolor": "white",
           "zerolinewidth": 2
          }
         }
        },
        "width": 800,
        "xaxis": {
         "constrain": "domain",
         "domain": [
          0.171875,
          0.828125
         ],
         "range": [
          -10,
          10
         ],
         "type": "linear"
        },
        "yaxis": {
         "domain": [
          0,
          1
         ],
         "range": [
          -10,
          10
         ],
         "scaleanchor": "x",
         "scaleratio": 1,
         "type": "linear"
        }
       }
      },
      "image/png": "[encoded data removed]",
      "text/html": [
       "<div>                            <div id=\"c4b0eea2-12f1-40c7-871e-e5dd18adeab8\" class=\"plotly-graph-div\" style=\"height:600px; width:800px;\"></div>            <script type=\"text/javascript\">                require([\"plotly\"], function(Plotly) {                    window.PLOTLYENV=window.PLOTLYENV || {};                                    if (document.getElementById(\"c4b0eea2-12f1-40c7-871e-e5dd18adeab8\")) {                    Plotly.newPlot(                        \"c4b0eea2-12f1-40c7-871e-e5dd18adeab8\",                        [{\"mode\":\"markers+lines\",\"x\":[0,0],\"y\":[0,1],\"type\":\"scatter\"}],                        {\"template\":{\"data\":{\"histogram2dcontour\":[{\"type\":\"histogram2dcontour\",\"colorbar\":{\"outlinewidth\":0,\"ticks\":\"\"},\"colorscale\":[[0.0,\"#0d0887\"],[0.1111111111111111,\"#46039f\"],[0.2222222222222222,\"#7201a8\"],[0.3333333333333333,\"#9c179e\"],[0.4444444444444444,\"#bd3786\"],[0.5555555555555556,\"#d8576b\"],[0.6666666666666666,\"#ed7953\"],[0.7777777777777778,\"#fb9f3a\"],[0.8888888888888888,\"#fdca26\"],[1.0,\"#f0f921\"]]}],\"choropleth\":[{\"type\":\"choropleth\",\"colorbar\":{\"outlinewidth\":0,\"ticks\":\"\"}}],\"histogram2d\":[{\"type\":\"histogram2d\",\"colorbar\":{\"outlinewidth\":0,\"ticks\":\"\"},\"colorscale\":[[0.0,\"#0d0887\"],[0.1111111111111111,\"#46039f\"],[0.2222222222222222,\"#7201a8\"],[0.3333333333333333,\"#9c179e\"],[0.4444444444444444,\"#bd3786\"],[0.5555555555555556,\"#d8576b\"],[0.6666666666666666,\"#ed7953\"],[0.7777777777777778,\"#fb9f3a\"],[0.8888888888888888,\"#fdca26\"],[1.0,\"#f0f921\"]]}],\"heatmap\":[{\"type\":\"heatmap\",\"colorbar\":{\"outlinewidth\":0,\"ticks\":\"\"},\"colorscale\":[[0.0,\"#0d0887\"],[0.1111111111111111,\"#46039f\"],[0.2222222222222222,\"#7201a8\"],[0.3333333333333333,\"#9c179e\"],[0.4444444444444444,\"#bd3786\"],[0.5555555555555556,\"#d8576b\"],[0.6666666666666666,\"#ed7953\"],[0.7777777777777778,\"#fb9f3a\"],[0.8888888888888888,\"#fdca26\"],[1.0,\"#f0f921\"]]}],\"heatmapgl\":[{\"type\":\"heatmapgl\",\"colorbar\":{\"outlinewidth\":0,\"ticks\":\"\"},\"colorscale\":[[0.0,\"#0d0887\"],[0.1111111111111111,\"#46039f\"],[0.2222222222222222,\"#7201a8\"],[0.3333333333333333,\"#9c179e\"],[0.4444444444444444,\"#bd3786\"],[0.5555555555555556,\"#d8576b\"],[0.6666666666666666,\"#ed7953\"],[0.7777777777777778,\"#fb9f3a\"],[0.8888888888888888,\"#fdca26\"],[1.0,\"#f0f921\"]]}],\"contourcarpet\":[{\"type\":\"contourcarpet\",\"colorbar\":{\"outlinewidth\":0,\"ticks\":\"\"}}],\"contour\":[{\"type\":\"contour\",\"colorbar\":{\"outlinewidth\":0,\"ticks\":\"\"},\"colorscale\":[[0.0,\"#0d0887\"],[0.1111111111111111,\"#46039f\"],[0.2222222222222222,\"#7201a8\"],[0.3333333333333333,\"#9c179e\"],[0.4444444444444444,\"#bd3786\"],[0.5555555555555556,\"#d8576b\"],[0.6666666666666666,\"#ed7953\"],[0.7777777777777778,\"#fb9f3a\"],[0.8888888888888888,\"#fdca26\"],[1.0,\"#f0f921\"]]}],\"surface\":[{\"type\":\"surface\",\"colorbar\":{\"outlinewidth\":0,\"ticks\":\"\"},\"colorscale\":[[0.0,\"#0d0887\"],[0.1111111111111111,\"#46039f\"],[0.2222222222222222,\"#7201a8\"],[0.3333333333333333,\"#9c179e\"],[0.4444444444444444,\"#bd3786\"],[0.5555555555555556,\"#d8576b\"],[0.6666666666666666,\"#ed7953\"],[0.7777777777777778,\"#fb9f3a\"],[0.8888888888888888,\"#fdca26\"],[1.0,\"#f0f921\"]]}],\"mesh3d\":[{\"type\":\"mesh3d\",\"colorbar\":{\"outlinewidth\":0,\"ticks\":\"\"}}],\"scatter\":[{\"fillpattern\":{\"fillmode\":\"overlay\",\"size\":10,\"solidity\":0.2},\"type\":\"scatter\"}],\"parcoords\":[{\"type\":\"parcoords\",\"line\":{\"colorbar\":{\"outlinewidth\":0,\"ticks\":\"\"}}}],\"scatterpolargl\":[{\"type\":\"scatterpolargl\",\"marker\":{\"colorbar\":{\"outlinewidth\":0,\"ticks\":\"\"}}}],\"bar\":[{\"error_x\":{\"color\":\"#2a3f5f\"},\"error_y\":{\"color\":\"#2a3f5f\"},\"marker\":{\"line\":{\"color\":\"#E5ECF6\",\"width\":0.5},\"pattern\":{\"fillmode\":\"overlay\",\"size\":10,\"solidity\":0.2}},\"type\":\"bar\"}],\"scattergeo\":[{\"type\":\"scattergeo\",\"marker\":{\"colorbar\":{\"outlinewidth\":0,\"ticks\":\"\"}}}],\"scatterpolar\":[{\"type\":\"scatterpolar\",\"marker\":{\"colorbar\":{\"outlinewidth\":0,\"ticks\":\"\"}}}],\"histogram\":[{\"marker\":{\"pattern\":{\"fillmode\":\"overlay\",\"size\":10,\"solidity\":0.2}},\"type\":\"histogram\"}],\"scattergl\":[{\"type\":\"scattergl\",\"marker\":{\"colorbar\":{\"outlinewidth\":0,\"ticks\":\"\"}}}],\"scatter3d\":[{\"type\":\"scatter3d\",\"line\":{\"colorbar\":{\"outlinewidth\":0,\"ticks\":\"\"}},\"marker\":{\"colorbar\":{\"outlinewidth\":0,\"ticks\":\"\"}}}],\"scattermapbox\":[{\"type\":\"scattermapbox\",\"marker\":{\"colorbar\":{\"outlinewidth\":0,\"ticks\":\"\"}}}],\"scatterternary\":[{\"type\":\"scatterternary\",\"marker\":{\"colorbar\":{\"outlinewidth\":0,\"ticks\":\"\"}}}],\"scattercarpet\":[{\"type\":\"scattercarpet\",\"marker\":{\"colorbar\":{\"outlinewidth\":0,\"ticks\":\"\"}}}],\"carpet\":[{\"aaxis\":{\"endlinecolor\":\"#2a3f5f\",\"gridcolor\":\"white\",\"linecolor\":\"white\",\"minorgridcolor\":\"white\",\"startlinecolor\":\"#2a3f5f\"},\"baxis\":{\"endlinecolor\":\"#2a3f5f\",\"gridcolor\":\"white\",\"linecolor\":\"white\",\"minorgridcolor\":\"white\",\"startlinecolor\":\"#2a3f5f\"},\"type\":\"carpet\"}],\"table\":[{\"cells\":{\"fill\":{\"color\":\"#EBF0F8\"},\"line\":{\"color\":\"white\"}},\"header\":{\"fill\":{\"color\":\"#C8D4E3\"},\"line\":{\"color\":\"white\"}},\"type\":\"table\"}],\"barpolar\":[{\"marker\":{\"line\":{\"color\":\"#E5ECF6\",\"width\":0.5},\"pattern\":{\"fillmode\":\"overlay\",\"size\":10,\"solidity\":0.2}},\"type\":\"barpolar\"}],\"pie\":[{\"automargin\":true,\"type\":\"pie\"}]},\"layout\":{\"autotypenumbers\":\"strict\",\"colorway\":[\"#636efa\",\"#EF553B\",\"#00cc96\",\"#ab63fa\",\"#FFA15A\",\"#19d3f3\",\"#FF6692\",\"#B6E880\",\"#FF97FF\",\"#FECB52\"],\"font\":{\"color\":\"#2a3f5f\"},\"hovermode\":\"closest\",\"hoverlabel\":{\"align\":\"left\"},\"paper_bgcolor\":\"white\",\"plot_bgcolor\":\"#E5ECF6\",\"polar\":{\"bgcolor\":\"#E5ECF6\",\"angularaxis\":{\"gridcolor\":\"white\",\"linecolor\":\"white\",\"ticks\":\"\"},\"radialaxis\":{\"gridcolor\":\"white\",\"linecolor\":\"white\",\"ticks\":\"\"}},\"ternary\":{\"bgcolor\":\"#E5ECF6\",\"aaxis\":{\"gridcolor\":\"white\",\"linecolor\":\"white\",\"ticks\":\"\"},\"baxis\":{\"gridcolor\":\"white\",\"linecolor\":\"white\",\"ticks\":\"\"},\"caxis\":{\"gridcolor\":\"white\",\"linecolor\":\"white\",\"ticks\":\"\"}},\"coloraxis\":{\"colorbar\":{\"outlinewidth\":0,\"ticks\":\"\"}},\"colorscale\":{\"sequential\":[[0.0,\"#0d0887\"],[0.1111111111111111,\"#46039f\"],[0.2222222222222222,\"#7201a8\"],[0.3333333333333333,\"#9c179e\"],[0.4444444444444444,\"#bd3786\"],[0.5555555555555556,\"#d8576b\"],[0.6666666666666666,\"#ed7953\"],[0.7777777777777778,\"#fb9f3a\"],[0.8888888888888888,\"#fdca26\"],[1.0,\"#f0f921\"]],\"sequentialminus\":[[0.0,\"#0d0887\"],[0.1111111111111111,\"#46039f\"],[0.2222222222222222,\"#7201a8\"],[0.3333333333333333,\"#9c179e\"],[0.4444444444444444,\"#bd3786\"],[0.5555555555555556,\"#d8576b\"],[0.6666666666666666,\"#ed7953\"],[0.7777777777777778,\"#fb9f3a\"],[0.8888888888888888,\"#fdca26\"],[1.0,\"#f0f921\"]],\"diverging\":[[0,\"#8e0152\"],[0.1,\"#c51b7d\"],[0.2,\"#de77ae\"],[0.3,\"#f1b6da\"],[0.4,\"#fde0ef\"],[0.5,\"#f7f7f7\"],[0.6,\"#e6f5d0\"],[0.7,\"#b8e186\"],[0.8,\"#7fbc41\"],[0.9,\"#4d9221\"],[1,\"#276419\"]]},\"xaxis\":{\"gridcolor\":\"white\",\"linecolor\":\"white\",\"ticks\":\"\",\"title\":{\"standoff\":15},\"zerolinecolor\":\"white\",\"automargin\":true,\"zerolinewidth\":2},\"yaxis\":{\"gridcolor\":\"white\",\"linecolor\":\"white\",\"ticks\":\"\",\"title\":{\"standoff\":15},\"zerolinecolor\":\"white\",\"automargin\":true,\"zerolinewidth\":2},\"scene\":{\"xaxis\":{\"backgroundcolor\":\"#E5ECF6\",\"gridcolor\":\"white\",\"linecolor\":\"white\",\"showbackground\":true,\"ticks\":\"\",\"zerolinecolor\":\"white\",\"gridwidth\":2},\"yaxis\":{\"backgroundcolor\":\"#E5ECF6\",\"gridcolor\":\"white\",\"linecolor\":\"white\",\"showbackground\":true,\"ticks\":\"\",\"zerolinecolor\":\"white\",\"gridwidth\":2},\"zaxis\":{\"backgroundcolor\":\"#E5ECF6\",\"gridcolor\":\"white\",\"linecolor\":\"white\",\"showbackground\":true,\"ticks\":\"\",\"zerolinecolor\":\"white\",\"gridwidth\":2}},\"shapedefaults\":{\"line\":{\"color\":\"#2a3f5f\"}},\"annotationdefaults\":{\"arrowcolor\":\"#2a3f5f\",\"arrowhead\":0,\"arrowwidth\":1},\"geo\":{\"bgcolor\":\"white\",\"landcolor\":\"#E5ECF6\",\"subunitcolor\":\"white\",\"showland\":true,\"showlakes\":true,\"lakecolor\":\"white\"},\"title\":{\"x\":0.05},\"mapbox\":{\"style\":\"light\"}}},\"xaxis\":{\"range\":[-10,10],\"constrain\":\"domain\"},\"yaxis\":{\"range\":[-10,10],\"scaleanchor\":\"x\",\"scaleratio\":1},\"showlegend\":false,\"width\":800,\"height\":600},                        {\"responsive\": true}                    ).then(function(){\n",
       "                            \n",
       "var gd = document.getElementById('c4b0eea2-12f1-40c7-871e-e5dd18adeab8');\n",
       "var x = new MutationObserver(function (mutations, observer) {{\n",
       "        var display = window.getComputedStyle(gd).display;\n",
       "        if (!display || display === 'none') {{\n",
       "            console.log([gd, 'removed!']);\n",
       "            Plotly.purge(gd);\n",
       "            observer.disconnect();\n",
       "        }}\n",
       "}});\n",
       "\n",
       "// Listen for the removal of the full notebook cells\n",
       "var notebookContainer = gd.closest('#notebook-container');\n",
       "if (notebookContainer) {{\n",
       "    x.observe(notebookContainer, {childList: true});\n",
       "}}\n",
       "\n",
       "// Listen for the clearing of the current output cell\n",
       "var outputEl = gd.closest('.output');\n",
       "if (outputEl) {{\n",
       "    x.observe(outputEl, {childList: true});\n",
       "}}\n",
       "\n",
       "                        })                };                });            </script>        </div>"
      ]
     },
     "metadata": {},
     "output_type": "display_data"
    }
   ],
   "source": [
    "figura2 = vector(0,1)\n",
    "figura2.mostrar()"
   ]
  },
  {
   "cell_type": "code",
   "execution_count": 5,
   "id": "bb792553-923b-4485-bf23-dd74912c01b2",
   "metadata": {
    "tags": []
   },
   "outputs": [
    {
     "ename": "NameError",
     "evalue": "name 'figura3' is not defined",
     "output_type": "error",
     "traceback": [
      "\u001b[1;31m---------------------------------------------------------------------------\u001b[0m",
      "\u001b[1;31mNameError\u001b[0m                                 Traceback (most recent call last)",
      "Cell \u001b[1;32mIn[5], line 1\u001b[0m\n\u001b[1;32m----> 1\u001b[0m figura4 \u001b[38;5;241m=\u001b[39m figura3\u001b[38;5;241m*\u001b[39m\u001b[38;5;241m10\u001b[39m\n\u001b[0;32m      2\u001b[0m figura4\u001b[38;5;241m.\u001b[39mmostrar()\n",
      "\u001b[1;31mNameError\u001b[0m: name 'figura3' is not defined"
     ]
    }
   ],
   "source": [
    "figura4 = figura3*10\n",
    "figura4.mostrar()"
   ]
  },
  {
   "cell_type": "code",
   "execution_count": null,
   "id": "20175c89-f2f3-4e93-87b1-14089f4d7a4c",
   "metadata": {
    "tags": []
   },
   "outputs": [],
   "source": [
    "crear_vector(1,1)"
   ]
  },
  {
   "cell_type": "code",
   "execution_count": null,
   "id": "604b9b21-9c68-465b-86e3-cc7ee6957662",
   "metadata": {},
   "outputs": [],
   "source": []
  }
 ],
 "metadata": {
  "kernelspec": {
   "display_name": "Python 3 (ipykernel)",
   "language": "python",
   "name": "python3"
  },
  "language_info": {
   "codemirror_mode": {
    "name": "ipython",
    "version": 3
   },
   "file_extension": ".py",
   "mimetype": "text/x-python",
   "name": "python",
   "nbconvert_exporter": "python",
   "pygments_lexer": "ipython3",
   "version": "3.11.4"
  }
 },
 "nbformat": 4,
 "nbformat_minor": 5
}
